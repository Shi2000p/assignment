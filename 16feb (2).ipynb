{
 "cells": [
  {
   "cell_type": "markdown",
   "id": "1bcd1048-9b12-485d-9332-6c5492b1fad1",
   "metadata": {},
   "source": [
    "Q1. What is a database? Differentiate between SQL and NoSQL databases."
   ]
  },
  {
   "cell_type": "markdown",
   "id": "9daa9200-93bf-4dc9-af9b-083830be9a39",
   "metadata": {},
   "source": [
    "The Database is an essential part of our life. As we encounter several activities that involve our interaction with databases, for example in the bank, in the railway station, in school, in a grocery store, etc. These are the instances where we need to store a large amount of data in one place and fetch these data easily. "
   ]
  },
  {
   "cell_type": "markdown",
   "id": "e9871271-afd6-4196-91dc-1bf2e299b958",
   "metadata": {},
   "source": [
    " it is an organized collection of data and information or interrelated data collected at one place."
   ]
  },
  {
   "cell_type": "markdown",
   "id": "fefefe9a-eb81-4337-85ed-1db47a645078",
   "metadata": {},
   "source": [
    " Differentiate between SQL and NoSQL databases."
   ]
  },
  {
   "cell_type": "raw",
   "id": "c7ec3225-66ed-4734-9b85-98dc5358e73c",
   "metadata": {},
   "source": [
    "#Type\n",
    "SQL databases:- are primarily called as Relational Databases (RDBMS)\n",
    "NoSQL database:- are primarily called as non-relational or distributed database. \n",
    "\n",
    "#Property followed\n",
    "SQL databases:- follow ACID properties (Atomicity, Consistency, Isolation and Durability) \n",
    "NoSQL database:- follows the Brewers CAP theorem (Consistency, Availability and Partition tolerance). \n",
    "\n",
    "#Structure – \n",
    "SQL databases :-are table-based on the other hand \n",
    "NoSQL databases are either key-value pairs, document-based, graph databases or wide-column stores.\n",
    "\n",
    "SQL database :-These databases are not suited for hierarchical data storage.\n",
    "NOSQL database :-These databases are best suited for hierarchical data storage.\n",
    "\n",
    "#Examples\n",
    "SQL :-MySQL, PostgreSQL, Oracle, MS-SQL Server, etc\n",
    "NOSQLdatabase :- MongoDB, GraphQL, HBase, Neo4j, Cassandra, etc"
   ]
  },
  {
   "cell_type": "code",
   "execution_count": null,
   "id": "5012e8bd-f351-4d72-995e-f6219e284a12",
   "metadata": {},
   "outputs": [],
   "source": []
  },
  {
   "cell_type": "markdown",
   "id": "f27ff41d-6325-40d4-a629-076b8b19af2d",
   "metadata": {},
   "source": [
    "Q2. What is DDL? Explain why CREATE, DROP, ALTER, and TRUNCATE are used with an example."
   ]
  },
  {
   "cell_type": "markdown",
   "id": "d82a6263-b3f6-4fc7-b118-21e31ef10548",
   "metadata": {},
   "source": [
    "DDL or Data Definition Language actually consists of the SQL commands that can be used to define the database schema. It simply deals with descriptions of the database schema and is used to create and modify the structure of database objects in the database. DDL is a set of SQL commands used to create, modify, and delete database structures but not data."
   ]
  },
  {
   "cell_type": "markdown",
   "id": "85596c72-54cd-47e0-9119-9e38d820a8c9",
   "metadata": {},
   "source": [
    "CREATE:- This command is used to create the database or its objects (like table, index, function, views, store procedure, and triggers)"
   ]
  },
  {
   "cell_type": "markdown",
   "id": "fae2f67b-cd3a-44d1-9619-6941b2b38cfb",
   "metadata": {},
   "source": [
    "DROP:- This command is used to delete objects from the database."
   ]
  },
  {
   "cell_type": "markdown",
   "id": "b407a3db-dbcc-4833-9472-6af86d0dee8d",
   "metadata": {},
   "source": [
    "ALTER:- This is used to alter the structure of the database."
   ]
  },
  {
   "cell_type": "markdown",
   "id": "3117c1e0-a8b8-4132-a660-46ccc0cc9efe",
   "metadata": {},
   "source": [
    "TRUNCATE:- This is used to remove all records from a table, including all spaces allocated for the records are removed."
   ]
  },
  {
   "cell_type": "code",
   "execution_count": null,
   "id": "72432c80-e9a9-49ea-a98d-8e6b85f50b2c",
   "metadata": {},
   "outputs": [],
   "source": []
  },
  {
   "cell_type": "markdown",
   "id": "a8cb451c-596b-46f0-8c51-3c89ad94b65d",
   "metadata": {},
   "source": [
    "Q3. What is DML? Explain INSERT, UPDATE, and DELETE with an example."
   ]
  },
  {
   "cell_type": "markdown",
   "id": "1e52c48b-9be2-4798-a9a7-ccfbbe040333",
   "metadata": {},
   "source": [
    "DML is short name of Data Manipulation Language which deals with data manipulation and includes most common SQL statements such SELECT, INSERT, UPDATE, DELETE, etc., and it is used to store, modify, retrieve, delete and update data in a database."
   ]
  },
  {
   "cell_type": "markdown",
   "id": "c6c5bbbf-433f-40fa-8e69-fdb192128a2f",
   "metadata": {},
   "source": [
    "INSERT - insert data into a table"
   ]
  },
  {
   "cell_type": "markdown",
   "id": "48d2428d-4956-47bd-9127-59b27872ff6b",
   "metadata": {},
   "source": [
    "UPDATE - updates existing data within a table"
   ]
  },
  {
   "cell_type": "markdown",
   "id": "a624a277-8837-4305-8143-fa06e4beb3cb",
   "metadata": {},
   "source": [
    "DELETE - Delete all records from a database table"
   ]
  },
  {
   "cell_type": "code",
   "execution_count": null,
   "id": "5d9fd6b8-df3d-4968-8d8c-4285efc7e043",
   "metadata": {},
   "outputs": [],
   "source": []
  },
  {
   "cell_type": "markdown",
   "id": "a46a96f7-f262-4096-873d-b49c465716fd",
   "metadata": {},
   "source": [
    "Q4. What is DQL? Explain SELECT with an example."
   ]
  },
  {
   "cell_type": "markdown",
   "id": "6a543185-fa7e-4f2f-9372-59ba94e5d37f",
   "metadata": {},
   "source": [
    "Data Query Language (DQL) :- \n",
    "DQL statements are used for performing queries on the data within schema objects. The purpose of the DQL Command is to get some schema relation based on the query passed to it."
   ]
  },
  {
   "cell_type": "markdown",
   "id": "e1241fd3-1f64-40a1-a0b1-56f849ceebdd",
   "metadata": {},
   "source": [
    "One of the most important tasks when working with SQL is to generate Queries and retrieve data. A Query is a command given to get a desired result from the database table. The SELECT command is used to query or retrieve data from a table in the database. It is used to retrieve a subset of records from one or more tables. The SELECT command can be used in various forms."
   ]
  },
  {
   "cell_type": "markdown",
   "id": "e1462d54-f164-4415-b321-63e58d31982f",
   "metadata": {},
   "source": [
    "SELECT: It is used to retrieve data from the database."
   ]
  },
  {
   "cell_type": "code",
   "execution_count": null,
   "id": "8179e4a5-25c8-4501-bff6-e3dcfbebbdd6",
   "metadata": {},
   "outputs": [],
   "source": []
  },
  {
   "cell_type": "code",
   "execution_count": null,
   "id": "7e34ef85-e75e-4613-b14d-a2380d0ea720",
   "metadata": {},
   "outputs": [],
   "source": []
  },
  {
   "cell_type": "markdown",
   "id": "347f65cc-c082-49ba-85c4-d63e38552fd7",
   "metadata": {},
   "source": [
    "Q5. Explain Primary Key and Foreign Key."
   ]
  },
  {
   "cell_type": "raw",
   "id": "2fc0b8fb-f89d-4b3e-b5b3-3edac9af07e2",
   "metadata": {},
   "source": [
    "PRIMARY KEY :-A primary key is used to ensure data in the specific column is unique\n",
    "FOREIGN KEY:-A foreign key is a column or group of columns in a relational database table that provides a link between data in two tables.\n",
    "\n",
    "PRIMARY KEY:-It uniquely identifies a record in the relational database table.\n",
    "FOREIGN KEY:-It refers to the field in a table which is the primary key of another table.\n",
    "\n",
    "PRIMARY KEY:-Only one primary key is allowed in a table.\t\n",
    "FOREIGN KEY :-Whereas more than one foreign key are allowed in a table.\n",
    "\n",
    "PRIMARY KEY :-It is a combination of UNIQUE and Not Null constraints.\t\n",
    "FOREIGN KEY:-It can contain duplicate values and a table in a relational database.\n",
    "\n",
    "PRIMARY KEY:-It does not allow NULL values.\t\n",
    "FOREIGN KEY :-It can also contain NULL values.\n",
    "\n",
    "PRIMARY KEY :-Its value cannot be deleted from the parent table.\t\n",
    "FOREIGN KEY :-Its value can be deleted from the child table.\n",
    "\n",
    "PRIMARY KEY :-It constraint can be implicitly defined on the temporary tables.\t\n",
    "FOREIGN KEY:-It constraint cannot be defined on the local or global temporary tables.\n"
   ]
  },
  {
   "cell_type": "code",
   "execution_count": null,
   "id": "5890f9a6-a03d-4214-a44a-aec5007f7020",
   "metadata": {},
   "outputs": [],
   "source": []
  },
  {
   "cell_type": "markdown",
   "id": "f310dcbf-9c66-44bc-af62-9e24f95531ee",
   "metadata": {},
   "source": [
    "Q6. Write a python code to connect MySQL to python. Explain the cursor() and execute() method."
   ]
  },
  {
   "cell_type": "code",
   "execution_count": 3,
   "id": "c33161a2-0b21-445a-85ef-2e8c58809957",
   "metadata": {},
   "outputs": [],
   "source": [
    "import mysql.connector"
   ]
  },
  {
   "cell_type": "code",
   "execution_count": 2,
   "id": "33d3f1a5-dfe8-4b43-bbb9-8a4160fbb8d2",
   "metadata": {},
   "outputs": [
    {
     "name": "stdout",
     "output_type": "stream",
     "text": [
      "Collecting mysql.connector\n",
      "  Downloading mysql-connector-2.2.9.tar.gz (11.9 MB)\n",
      "\u001b[2K     \u001b[90m━━━━━━━━━━━━━━━━━━━━━━━━━━━━━━━━━━━━━━━━\u001b[0m \u001b[32m11.9/11.9 MB\u001b[0m \u001b[31m75.2 MB/s\u001b[0m eta \u001b[36m0:00:00\u001b[0m00:01\u001b[0m0:01\u001b[0m\n",
      "\u001b[?25h  Preparing metadata (setup.py) ... \u001b[?25ldone\n",
      "\u001b[?25hBuilding wheels for collected packages: mysql.connector\n",
      "  Building wheel for mysql.connector (setup.py) ... \u001b[?25ldone\n",
      "\u001b[?25h  Created wheel for mysql.connector: filename=mysql_connector-2.2.9-cp310-cp310-linux_x86_64.whl size=247951 sha256=54241e96d9d154230dbcffde42059691d5ba84d60bd642f7ef7bc26206fd7f80\n",
      "  Stored in directory: /home/jovyan/.cache/pip/wheels/3e/7f/a3/928a40d1ffd01dd16057f308042377afc505d56145375adf40\n",
      "Successfully built mysql.connector\n",
      "Installing collected packages: mysql.connector\n",
      "Successfully installed mysql.connector-2.2.9\n",
      "Note: you may need to restart the kernel to use updated packages.\n"
     ]
    }
   ],
   "source": [
    "pip install mysql.connector"
   ]
  },
  {
   "cell_type": "raw",
   "id": "6b69acc6-fb54-4703-bb10-8edbea9623f3",
   "metadata": {},
   "source": [
    "EXECUTE METHOD\n",
    "This method executes the given database operation (query or command). The parameters found in the tuple or dictionary params are bound to the variables in the operation. Specify variables using %s or %(name)s parameter style (that is, using format or pyformat style). execute() returns an iterator if multi is True."
   ]
  },
  {
   "cell_type": "raw",
   "id": "992f1e9d-9352-4093-a12e-16b74e7e0c93",
   "metadata": {},
   "source": [
    "CURSOR METHOD\n",
    "Cursor is a Temporary Memory or Temporary Work Station. It is Allocated by Database Server at the Time of Performing DML(Data Manipulation Language) operations on Table by User. Cursors are used to store Database Tables. There are 2 types of Cursors: Implicit Cursors, and Explicit Cursors. "
   ]
  },
  {
   "cell_type": "code",
   "execution_count": null,
   "id": "b6cadf87-4e64-40bd-ba37-069787e30133",
   "metadata": {},
   "outputs": [],
   "source": []
  },
  {
   "cell_type": "markdown",
   "id": "fae6e7ff-df90-4fd0-a563-356419120ef5",
   "metadata": {},
   "source": [
    "Q7. Give the order of execution of SQL clauses in an SQL query."
   ]
  },
  {
   "cell_type": "raw",
   "id": "e5c4acf4-6407-4cd6-b47b-a818b2d7f46f",
   "metadata": {},
   "source": [
    "1. FROM/JOIN: The FROM and/or JOIN clauses are executed first to determine the data of interest.\n",
    "\n",
    "2. WHERE: The WHERE clause is executed to filter out records that do not meet the constraints.\n",
    "\n",
    "3. GROUP BY: The GROUP BY clause is executed to group the data based on the values in one or more columns.\n",
    "\n",
    "4. HAVING: The HAVING clause is executed to remove the created grouped records that don’t meet the constraints.\n",
    "\n",
    "5. SELECT: The SELECT clause is executed to derive all desired columns and expressions.\n",
    "\n",
    "6. ORDER BY: The ORDER BY clause is executed to sort the derived values in ascending or descending order.\n",
    "\n",
    "7. LIMIT/OFFSET: Finally, the LIMIT and/or OFFSET clauses are executed to keep or skip a specified number of rows.\n"
   ]
  },
  {
   "cell_type": "code",
   "execution_count": null,
   "id": "21317330-a457-40ce-be0d-a8b71bcb78f6",
   "metadata": {},
   "outputs": [],
   "source": []
  }
 ],
 "metadata": {
  "kernelspec": {
   "display_name": "Python 3 (ipykernel)",
   "language": "python",
   "name": "python3"
  },
  "language_info": {
   "codemirror_mode": {
    "name": "ipython",
    "version": 3
   },
   "file_extension": ".py",
   "mimetype": "text/x-python",
   "name": "python",
   "nbconvert_exporter": "python",
   "pygments_lexer": "ipython3",
   "version": "3.10.8"
  }
 },
 "nbformat": 4,
 "nbformat_minor": 5
}
