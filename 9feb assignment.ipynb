{
 "cells": [
  {
   "cell_type": "code",
   "execution_count": 1,
   "id": "b0063742-f754-48cb-9764-2dd120e2cc9c",
   "metadata": {},
   "outputs": [],
   "source": [
    "#Q1, Create a vehicle class with an init method having instance variables as name_of_vehicle, max_speedand average_of_vehicle."
   ]
  },
  {
   "cell_type": "code",
   "execution_count": 7,
   "id": "f11f3500-4efc-4656-8991-62b3cf8d5d41",
   "metadata": {},
   "outputs": [],
   "source": [
    "class vehicle ():\n",
    "    \n",
    "    def __init__(self,name_of_vehicle, max_speed , average_of_vehicle):\n",
    "        self.name_of_vehicle = name_of_vehicle\n",
    "        self.max_speed = max_speed\n",
    "        self.average_of_vehicle = average_of_vehicle\n",
    "        \n",
    "    def vehicle_detail(self):\n",
    "        return self.name_of_vehicle , self.max_speed , self.average_of_vehicle\n",
    "        "
   ]
  },
  {
   "cell_type": "code",
   "execution_count": 9,
   "id": "d94ea673-413a-490c-891d-1929cb72f9cb",
   "metadata": {},
   "outputs": [],
   "source": [
    "vehicle_object = vehicle(\"honda\" ,100 , 80)"
   ]
  },
  {
   "cell_type": "code",
   "execution_count": 11,
   "id": "5d1c6bd7-fa9d-49db-b2eb-2d2aa491729c",
   "metadata": {},
   "outputs": [
    {
     "data": {
      "text/plain": [
       "('honda', 100, 80)"
      ]
     },
     "execution_count": 11,
     "metadata": {},
     "output_type": "execute_result"
    }
   ],
   "source": [
    "vehicle_object.vehicle_detail()"
   ]
  },
  {
   "cell_type": "code",
   "execution_count": 14,
   "id": "2771986e-f3cc-4573-9c6b-cacae991307a",
   "metadata": {},
   "outputs": [
    {
     "data": {
      "text/plain": [
       "'honda'"
      ]
     },
     "execution_count": 14,
     "metadata": {},
     "output_type": "execute_result"
    }
   ],
   "source": [
    "vehicle_object.name_of_vehicle"
   ]
  },
  {
   "cell_type": "code",
   "execution_count": 15,
   "id": "234575af-a099-45f7-94b6-db2cce688e95",
   "metadata": {},
   "outputs": [
    {
     "data": {
      "text/plain": [
       "100"
      ]
     },
     "execution_count": 15,
     "metadata": {},
     "output_type": "execute_result"
    }
   ],
   "source": [
    "vehicle_object.max_speed"
   ]
  },
  {
   "cell_type": "code",
   "execution_count": 16,
   "id": "4f275bdb-9261-42eb-a3d1-3631ec6131f1",
   "metadata": {},
   "outputs": [
    {
     "data": {
      "text/plain": [
       "80"
      ]
     },
     "execution_count": 16,
     "metadata": {},
     "output_type": "execute_result"
    }
   ],
   "source": [
    "vehicle_object.average_of_vehicle"
   ]
  },
  {
   "cell_type": "code",
   "execution_count": null,
   "id": "e3e5b12b-1561-4e2d-9be3-0f96a81a03c4",
   "metadata": {},
   "outputs": [],
   "source": []
  },
  {
   "cell_type": "code",
   "execution_count": 17,
   "id": "5d0935cb-9341-4180-9f9c-f13bcf8a10be",
   "metadata": {},
   "outputs": [],
   "source": [
    "#Q2. Create a child class car from the vehicle class created in Que 1, which will inherit the vehicle class.\n",
    "#Create a method named seating_capacity which takes capacity as an argument and returns the name of\n",
    "#the vehicle and its seating capacity."
   ]
  },
  {
   "cell_type": "code",
   "execution_count": 29,
   "id": "ec97c246-bdad-4c4d-a6ad-1d75bca8e339",
   "metadata": {},
   "outputs": [],
   "source": [
    "class car(vehicle):\n",
    "    \n",
    "    def seating_capacity(self,capacity, name):\n",
    "        if capacity >0 :\n",
    "            \n",
    "            return \"name , capacity\""
   ]
  },
  {
   "cell_type": "code",
   "execution_count": 30,
   "id": "d36595aa-b3ae-4ce7-b62b-321837fd6dba",
   "metadata": {},
   "outputs": [],
   "source": [
    "object_car = car(\"inova\" , 110 , 70)"
   ]
  },
  {
   "cell_type": "code",
   "execution_count": 33,
   "id": "b03e3b0c-ab72-405c-b1e0-5d0e41520de7",
   "metadata": {},
   "outputs": [
    {
     "data": {
      "text/plain": [
       "'name , capacity'"
      ]
     },
     "execution_count": 33,
     "metadata": {},
     "output_type": "execute_result"
    }
   ],
   "source": [
    "object_car.seating_capacity(180,\"inova\")"
   ]
  },
  {
   "cell_type": "code",
   "execution_count": 35,
   "id": "8d2c811e-c44a-4173-a75e-f58ef719e906",
   "metadata": {},
   "outputs": [
    {
     "data": {
      "text/plain": [
       "110"
      ]
     },
     "execution_count": 35,
     "metadata": {},
     "output_type": "execute_result"
    }
   ],
   "source": [
    "object_car.max_speed"
   ]
  },
  {
   "cell_type": "code",
   "execution_count": 36,
   "id": "d79a052e-cabc-4728-8c9e-2d5ea8559575",
   "metadata": {},
   "outputs": [
    {
     "data": {
      "text/plain": [
       "('inova', 110, 70)"
      ]
     },
     "execution_count": 36,
     "metadata": {},
     "output_type": "execute_result"
    }
   ],
   "source": [
    "object_car.vehicle_detail()"
   ]
  },
  {
   "cell_type": "code",
   "execution_count": 37,
   "id": "87aed3d6-7234-49e7-a349-a36eb9d1400a",
   "metadata": {},
   "outputs": [],
   "source": [
    "#Q3. What is multiple inheritance? Write a python code to demonstrate multiple inheritance."
   ]
  },
  {
   "cell_type": "code",
   "execution_count": 38,
   "id": "7f48d160-be39-42c5-9878-c6f6a1281ceb",
   "metadata": {},
   "outputs": [],
   "source": [
    "# When a class is derived from more than one base class it is called multiple Inheritance. The derived class inherits all the features of the base case.\n",
    " "
   ]
  },
  {
   "cell_type": "code",
   "execution_count": 49,
   "id": "3f4907d7-3cc8-47f1-ad63-39aeb33c9ad8",
   "metadata": {},
   "outputs": [],
   "source": [
    "class grandfather():\n",
    "    \n",
    "    def habit1(self):\n",
    "        return \"grandfather like to read news paper\""
   ]
  },
  {
   "cell_type": "code",
   "execution_count": 50,
   "id": "e15f6543-0820-4adb-86f9-2ae3ce9627e4",
   "metadata": {},
   "outputs": [],
   "source": [
    "class father():\n",
    "    \n",
    "    def habit2(self):\n",
    "        return \"father like to sing\""
   ]
  },
  {
   "cell_type": "code",
   "execution_count": 51,
   "id": "db35832f-5e13-4632-b4a1-863b932b89bd",
   "metadata": {},
   "outputs": [],
   "source": [
    "class son (grandfather , father):\n",
    "    pass\n",
    "    "
   ]
  },
  {
   "cell_type": "code",
   "execution_count": 52,
   "id": "10f60099-8969-46f9-8fde-d25cd3a65446",
   "metadata": {},
   "outputs": [],
   "source": [
    "object_son = son()"
   ]
  },
  {
   "cell_type": "code",
   "execution_count": 54,
   "id": "049db9d4-3f88-475e-b65a-e3701fc71739",
   "metadata": {},
   "outputs": [
    {
     "data": {
      "text/plain": [
       "'grandfather like to read news paper'"
      ]
     },
     "execution_count": 54,
     "metadata": {},
     "output_type": "execute_result"
    }
   ],
   "source": [
    "object_son.habit1()"
   ]
  },
  {
   "cell_type": "code",
   "execution_count": 55,
   "id": "49e0caa0-ca1d-462d-8e8e-438ac092295f",
   "metadata": {},
   "outputs": [
    {
     "data": {
      "text/plain": [
       "'father like to sing'"
      ]
     },
     "execution_count": 55,
     "metadata": {},
     "output_type": "execute_result"
    }
   ],
   "source": [
    "object_son.habit2()"
   ]
  },
  {
   "cell_type": "code",
   "execution_count": null,
   "id": "02ee8e2e-5ad3-4363-b583-a6e294230e4a",
   "metadata": {},
   "outputs": [],
   "source": []
  },
  {
   "cell_type": "code",
   "execution_count": 56,
   "id": "b340d9f2-42a9-4afc-9038-bdc4fabdfc7b",
   "metadata": {},
   "outputs": [],
   "source": [
    "#Q4. What are getter and setter in python? Create a class and create a getter and a setter method in this class."
   ]
  },
  {
   "cell_type": "code",
   "execution_count": 57,
   "id": "ef3ea104-b2d8-4145-b808-34f9ae6600c7",
   "metadata": {},
   "outputs": [],
   "source": [
    "#getters and setters are used to retrieve and update data. A getter retrieves an object's current attribute value, \n",
    "#whereas a setter changes an object's attribute value."
   ]
  },
  {
   "cell_type": "code",
   "execution_count": 60,
   "id": "2509bfcb-d34a-441f-94ea-72df6ea379e2",
   "metadata": {},
   "outputs": [],
   "source": [
    "class product():\n",
    "    \n",
    "    def __init__(self , name , mail , code):\n",
    "        self.name = name\n",
    "        self.__mail = mail\n",
    "        self.__code = code \n",
    "        \n",
    "    def set_code(self,code):\n",
    "        self.__code = code \n",
    "        \n",
    "    def get_code(self,code):\n",
    "        return self.__code\n",
    "        "
   ]
  },
  {
   "cell_type": "code",
   "execution_count": 64,
   "id": "de6e36ad-a630-4e08-91ae-3d2798676da0",
   "metadata": {},
   "outputs": [],
   "source": [
    "p = product(\"xom\" , \"xom@gmail.com\" , 203)"
   ]
  },
  {
   "cell_type": "code",
   "execution_count": 65,
   "id": "9d40b6f6-0680-4186-b974-bec1efb87575",
   "metadata": {},
   "outputs": [
    {
     "data": {
      "text/plain": [
       "'xom'"
      ]
     },
     "execution_count": 65,
     "metadata": {},
     "output_type": "execute_result"
    }
   ],
   "source": [
    "p.name"
   ]
  },
  {
   "cell_type": "code",
   "execution_count": 66,
   "id": "bef1d670-6f3b-4c11-9c5b-d651f7c74523",
   "metadata": {},
   "outputs": [
    {
     "ename": "AttributeError",
     "evalue": "'product' object has no attribute 'mail'",
     "output_type": "error",
     "traceback": [
      "\u001b[0;31m---------------------------------------------------------------------------\u001b[0m",
      "\u001b[0;31mAttributeError\u001b[0m                            Traceback (most recent call last)",
      "Cell \u001b[0;32mIn[66], line 1\u001b[0m\n\u001b[0;32m----> 1\u001b[0m \u001b[43mp\u001b[49m\u001b[38;5;241;43m.\u001b[39;49m\u001b[43mmail\u001b[49m\n",
      "\u001b[0;31mAttributeError\u001b[0m: 'product' object has no attribute 'mail'"
     ]
    }
   ],
   "source": [
    "p.mail"
   ]
  },
  {
   "cell_type": "code",
   "execution_count": 67,
   "id": "b25b2f70-2595-48e3-8521-86611b729009",
   "metadata": {},
   "outputs": [
    {
     "ename": "AttributeError",
     "evalue": "'product' object has no attribute 'code'",
     "output_type": "error",
     "traceback": [
      "\u001b[0;31m---------------------------------------------------------------------------\u001b[0m",
      "\u001b[0;31mAttributeError\u001b[0m                            Traceback (most recent call last)",
      "Cell \u001b[0;32mIn[67], line 1\u001b[0m\n\u001b[0;32m----> 1\u001b[0m \u001b[43mp\u001b[49m\u001b[38;5;241;43m.\u001b[39;49m\u001b[43mcode\u001b[49m\n",
      "\u001b[0;31mAttributeError\u001b[0m: 'product' object has no attribute 'code'"
     ]
    }
   ],
   "source": [
    "p.code"
   ]
  },
  {
   "cell_type": "code",
   "execution_count": 68,
   "id": "f20dfbac-8c1a-4dbc-a43d-35ed88da4345",
   "metadata": {},
   "outputs": [
    {
     "ename": "AttributeError",
     "evalue": "'product' object has no attribute '__code'",
     "output_type": "error",
     "traceback": [
      "\u001b[0;31m---------------------------------------------------------------------------\u001b[0m",
      "\u001b[0;31mAttributeError\u001b[0m                            Traceback (most recent call last)",
      "Cell \u001b[0;32mIn[68], line 1\u001b[0m\n\u001b[0;32m----> 1\u001b[0m \u001b[43mp\u001b[49m\u001b[38;5;241;43m.\u001b[39;49m\u001b[43m__code\u001b[49m\n",
      "\u001b[0;31mAttributeError\u001b[0m: 'product' object has no attribute '__code'"
     ]
    }
   ],
   "source": [
    "p.__code"
   ]
  },
  {
   "cell_type": "code",
   "execution_count": 69,
   "id": "57f22180-6ce2-485d-961c-c45483a532de",
   "metadata": {},
   "outputs": [
    {
     "data": {
      "text/plain": [
       "203"
      ]
     },
     "execution_count": 69,
     "metadata": {},
     "output_type": "execute_result"
    }
   ],
   "source": [
    "p._product__code"
   ]
  },
  {
   "cell_type": "code",
   "execution_count": null,
   "id": "d9e29df9-7f6c-4252-b93e-8be6f1a40e56",
   "metadata": {},
   "outputs": [],
   "source": []
  },
  {
   "cell_type": "code",
   "execution_count": 70,
   "id": "a8dd28a7-f266-4530-8788-2310ff501285",
   "metadata": {},
   "outputs": [],
   "source": [
    "#Q5.What is method overriding in python? Write a python code to demonstrate method overriding."
   ]
  },
  {
   "cell_type": "code",
   "execution_count": 71,
   "id": "29466151-c5f0-414a-8ffc-49142e7cd9ec",
   "metadata": {},
   "outputs": [],
   "source": [
    "#Method overriding is an ability of any object-oriented programming language that allows a subclass or child class to provide a specific implementation of a method that is already provided by one of its super-classes or parent classes.\n",
    "#When a method in a subclass has the same name, same parameters or signature and same return type(or sub-type) as a method in its super-class, \n",
    "#then the method in the subclass is said to override the method in the super-class."
   ]
  },
  {
   "cell_type": "code",
   "execution_count": 72,
   "id": "1ed644b9-1405-41b6-a8ec-5a78c4449ca0",
   "metadata": {},
   "outputs": [],
   "source": [
    "class parent:\n",
    "    \n",
    "    def anything(self):\n",
    "        print(\"parent class\")"
   ]
  },
  {
   "cell_type": "code",
   "execution_count": 73,
   "id": "edeaa553-3038-4be9-add0-a6597ce7f724",
   "metadata": {},
   "outputs": [],
   "source": [
    "class child (parent):\n",
    "    pass\n"
   ]
  },
  {
   "cell_type": "code",
   "execution_count": 74,
   "id": "6f31def4-be1b-4df2-b6ac-340da3a6d349",
   "metadata": {},
   "outputs": [],
   "source": [
    "object_child = child()"
   ]
  },
  {
   "cell_type": "code",
   "execution_count": null,
   "id": "1741fa6f-fb16-4fec-b385-d5830d0a1839",
   "metadata": {},
   "outputs": [],
   "source": [
    "object_child.anything()"
   ]
  }
 ],
 "metadata": {
  "kernelspec": {
   "display_name": "Python 3 (ipykernel)",
   "language": "python",
   "name": "python3"
  },
  "language_info": {
   "codemirror_mode": {
    "name": "ipython",
    "version": 3
   },
   "file_extension": ".py",
   "mimetype": "text/x-python",
   "name": "python",
   "nbconvert_exporter": "python",
   "pygments_lexer": "ipython3",
   "version": "3.10.8"
  },
  "toc-autonumbering": false,
  "toc-showcode": false,
  "toc-showmarkdowntxt": true
 },
 "nbformat": 4,
 "nbformat_minor": 5
}
