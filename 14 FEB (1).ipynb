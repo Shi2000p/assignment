{
 "cells": [
  {
   "cell_type": "markdown",
   "id": "5866d66a-6114-476a-b029-df57fef0fbc7",
   "metadata": {},
   "source": [
    "Q1. What is multithreading in python? Why is it used? Name the module used to handle threads in python"
   ]
  },
  {
   "cell_type": "markdown",
   "id": "77bfb9bb-f6a0-42be-944c-1d78694f43df",
   "metadata": {},
   "source": [
    "Multithreading is the ability of a program or an operating system to enable more than one user at a time without requiring multiple copies of the program running on the computer. Multithreading can also handle various requests from the same user. Each user request for a program or system service is tracked as a thread with a separate identity. "
   ]
  },
  {
   "cell_type": "markdown",
   "id": "b9dbdb8c-7488-4b6c-a642-dd154be82816",
   "metadata": {},
   "source": [
    "WHY IS IT USED?"
   ]
  },
  {
   "cell_type": "raw",
   "id": "0c048286-0153-4b36-baa5-58b5f2aef879",
   "metadata": {},
   "source": [
    "Economical:- It is economical as they share the same processor resources. It takes lesser time to create threads.\n",
    "\n",
    "Resource sharing:- It allows the threads to share resources like data, memory, files, etc. Therefore, an application can have multiple threads within the same address space.\n",
    "\n",
    "Responsiveness:- It increases the responsiveness to the user as it allows the program to continue running even if a part of it is performing a lengthy operation or is blocked.\n",
    "\n",
    "Scalability:- It increases parallelism on multiple CPU machines. It enhances the performance of multi-processor machines"
   ]
  },
  {
   "cell_type": "markdown",
   "id": "eaf65fae-1e28-4c9e-a53b-81d881d07ee9",
   "metadata": {},
   "source": [
    "Threading module , is used to handle threades in python\n"
   ]
  },
  {
   "cell_type": "code",
   "execution_count": null,
   "id": "8fe92633-7926-425d-9e55-26d831f43164",
   "metadata": {},
   "outputs": [],
   "source": []
  },
  {
   "cell_type": "markdown",
   "id": "6be8bbf0-5dbc-40d4-9d9c-38a00ce6d966",
   "metadata": {},
   "source": [
    "Q2.why threading module used? Write the use of the following functions\n",
    "1.activeCount()\n",
    "2.currentThread()\n",
    "3.enumerate()"
   ]
  },
  {
   "cell_type": "markdown",
   "id": "f1fdff01-a287-4781-824c-880cc70ee428",
   "metadata": {},
   "source": [
    "They are perfectly befitted entities for modular programming as they provide easier data sharing as all threads inside a process share similar address space and robust synchronization abilities such as condition variables and mutexes. Programs are usually fashioned as numerous different components communicating with one another to create an aspired outcome or service. A program can be executed as both a complex or single entity that executes multiple uses amongst the program’s distinct portions."
   ]
  },
  {
   "cell_type": "markdown",
   "id": "96b12187-5689-4df2-b90d-925d7d01c8c6",
   "metadata": {},
   "source": [
    "active_count() :-is an inbuilt method of the threading module in Python. It is used to return the number of Thread objects that are active at any instant."
   ]
  },
  {
   "cell_type": "markdown",
   "id": "0c36694e-17c5-4bec-b01a-626ebc7943fe",
   "metadata": {},
   "source": [
    "current_thread() is an inbuilt method of the threading module in Python. It is used to return the current Thread object, which corresponds to the caller's thread of control."
   ]
  },
  {
   "cell_type": "markdown",
   "id": "7f045814-3070-4e25-bf97-7c9eb1e56c80",
   "metadata": {},
   "source": [
    " Enumerate() method adds a counter to an iterable and returns it in a form of enumerating object. This enumerated object can then be used directly for loops or converted into a list of tuples using the list() function."
   ]
  },
  {
   "cell_type": "code",
   "execution_count": null,
   "id": "01ebab50-8b55-4bff-8b84-14b13d714e6e",
   "metadata": {},
   "outputs": [],
   "source": []
  },
  {
   "cell_type": "markdown",
   "id": "1ca0c4a2-78ad-4ef6-80aa-6cf9d9fee32c",
   "metadata": {},
   "source": [
    "Q3.Explain the following functions\n",
    "1.run()\n",
    "2.start()\n",
    "3.join()\n",
    "4.isAlive()"
   ]
  },
  {
   "cell_type": "markdown",
   "id": "44679531-cb4b-4aae-9a26-ea13f6f3d8fc",
   "metadata": {},
   "source": [
    "run() method is an inbuilt method of the Thread class of the threading module in Python. This method is used to represent a thread's activity. It calls the method expressed as the target argument in the Thread object along with the positional and keyword arguments taken from the args and kwargs arguments, respectively. This method can also be overridden in the subclass."
   ]
  },
  {
   "cell_type": "code",
   "execution_count": null,
   "id": "8b00538d-6878-4a05-aeb2-754029bfb0b8",
   "metadata": {},
   "outputs": [],
   "source": []
  },
  {
   "cell_type": "markdown",
   "id": "71b2819f-75ca-4c9e-b1f3-a1acd6784061",
   "metadata": {},
   "source": [
    "join() is an inbuilt string function in Python used to join elements of the sequence separated by a string separator. This function joins elements of a sequence and makes it a string"
   ]
  },
  {
   "cell_type": "markdown",
   "id": "327f8fb5-7c5f-4ac9-bdc9-c58cda9613dc",
   "metadata": {},
   "source": [
    "is_alive() method is an inbuilt method of the Thread class of the threading module in Python. It uses a Thread object, and checks whether that thread is alive or not"
   ]
  },
  {
   "cell_type": "code",
   "execution_count": null,
   "id": "3a9e23bd-2960-48b5-bb88-5975b68c1e59",
   "metadata": {},
   "outputs": [],
   "source": []
  },
  {
   "cell_type": "markdown",
   "id": "400c8fc6-d4db-47ab-91da-3a6a5ebc115c",
   "metadata": {},
   "source": [
    "4. Write a python program to create two threads. Thread one must print the list of squares and thread\n",
    "two must print the list of cubes"
   ]
  },
  {
   "cell_type": "code",
   "execution_count": 8,
   "id": "e3dd0740-4a2a-4e7a-87b1-c3c8b798dccd",
   "metadata": {},
   "outputs": [
    {
     "name": "stdout",
     "output_type": "stream",
     "text": [
      "Square: 100\n",
      "Cube: 1000\n",
      "Done!\n"
     ]
    }
   ],
   "source": [
    "import threading\n",
    "\n",
    "\n",
    "def print_cube(num):\n",
    "\tprint(\"Cube: {}\" .format(num * num * num))\n",
    "\n",
    "\n",
    "def print_square(num):\n",
    "\tprint(\"Square: {}\" .format(num * num))\n",
    "\n",
    "\n",
    "if __name__ ==\"__main__\":\n",
    "\tt1 = threading.Thread(target=print_square, args=(10,))\n",
    "\tt2 = threading.Thread(target=print_cube, args=(10,))\n",
    "\n",
    "\tt1.start()\n",
    "\tt2.start()\n",
    "\tt1.join()\n",
    "\tt2.join()\n",
    "\tprint(\"Done!\")\n"
   ]
  },
  {
   "cell_type": "code",
   "execution_count": null,
   "id": "7836f1ec-47de-4b29-b006-cf1d6555817e",
   "metadata": {},
   "outputs": [],
   "source": []
  },
  {
   "cell_type": "markdown",
   "id": "19331736-9d54-4966-8fda-6a4e46086b89",
   "metadata": {},
   "source": [
    "5. State advantages and disadvantages of multithreading"
   ]
  },
  {
   "cell_type": "markdown",
   "id": "40d213ae-5e7f-47e1-aee2-753fc9224b91",
   "metadata": {},
   "source": [
    "Benefits of Multithreading\n",
    "\n",
    "1.Improved throughput.\n",
    "2.Simultaneous and fully symmetric use of multiple processors for computation and I/O.\n",
    "3.Superior application responsiveness.\n",
    "4.Improved server responsiveness.\n",
    "5.Minimized system resource usage.\n",
    "6.Program structure simplification.\n",
    "7.Better communication."
   ]
  },
  {
   "cell_type": "markdown",
   "id": "24cfce2e-323b-4e09-b4a7-7e0bf22b99ee",
   "metadata": {},
   "source": [
    "disadvantages of multithreading\n",
    "Code writing, debugging, managing concurrency, testing, porting existing code is difficult in multithreading and multicontexting."
   ]
  },
  {
   "cell_type": "code",
   "execution_count": null,
   "id": "e8f60f2a-d05c-4881-bd92-17a96e786992",
   "metadata": {},
   "outputs": [],
   "source": []
  },
  {
   "cell_type": "markdown",
   "id": "866aa8d6-092b-45fd-9341-6577bd2ae2a6",
   "metadata": {},
   "source": [
    "6. Explain deadlocks and race conditions."
   ]
  },
  {
   "cell_type": "markdown",
   "id": "768556b8-f33a-4d37-a36c-43a156f68cf9",
   "metadata": {},
   "source": [
    "Deadlock is a situation where a set of processes are blocked because each process is holding a resource and waiting for another resource acquired by some other process."
   ]
  },
  {
   "cell_type": "markdown",
   "id": "834f9762-1093-40b4-83fa-71e499bd1baf",
   "metadata": {},
   "source": [
    "A race condition is an undesirable situation that occurs when a device or system attempts to perform two or more operations at the same time, but because of the nature of the device or system, the operations must be done in the proper sequence to be done correctly. Race conditions are most commonly associated with computer science and programming."
   ]
  },
  {
   "cell_type": "code",
   "execution_count": null,
   "id": "d94ab883-71ea-479e-b406-17e5205e7414",
   "metadata": {},
   "outputs": [],
   "source": []
  }
 ],
 "metadata": {
  "kernelspec": {
   "display_name": "Python 3 (ipykernel)",
   "language": "python",
   "name": "python3"
  },
  "language_info": {
   "codemirror_mode": {
    "name": "ipython",
    "version": 3
   },
   "file_extension": ".py",
   "mimetype": "text/x-python",
   "name": "python",
   "nbconvert_exporter": "python",
   "pygments_lexer": "ipython3",
   "version": "3.10.8"
  }
 },
 "nbformat": 4,
 "nbformat_minor": 5
}
