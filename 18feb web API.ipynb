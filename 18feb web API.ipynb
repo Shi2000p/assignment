{
 "cells": [
  {
   "cell_type": "markdown",
   "id": "713fcbbd-e9a4-407c-88ab-6804a2433834",
   "metadata": {},
   "source": [
    "Q1. What is an API? Give an example, where an API is used in real life."
   ]
  },
  {
   "cell_type": "markdown",
   "id": "0a18a211-6b57-4ab1-be52-5854dc991d4e",
   "metadata": {},
   "source": [
    "Application Programming Interface (API) is a software interface that allows two applications to interact with each other without any user intervention. API is a collection of software functions and procedures. In simple terms, API means a software code that can be accessed or executed. API is defined as a code that helps two different software’s to communicate and exchange data with each other."
   ]
  },
  {
   "cell_type": "markdown",
   "id": "dcbc1a39-6712-4941-a43d-e802cae44127",
   "metadata": {},
   "source": [
    "example,\n",
    "1. Google Maps :-\n",
    "The Google Maps API gives users the privilege of nearly limitless geographic aptitude at their fingertips. Search nearby restaurants, niche shops, and whatever else is in relative distance to your location.\n"
   ]
  },
  {
   "cell_type": "markdown",
   "id": "bf886dd4-fd9b-4af9-82d7-351b369a1b1e",
   "metadata": {},
   "source": [
    "2.Travel Booking :-\n",
    "Travel booking is a very useful API example because making connections and building relationships is exactly the point of most travel websites. travel websites like Trivago and Expedia have the power to feature and sell all-inclusive travel packages that account for both lodging and travel."
   ]
  },
  {
   "cell_type": "markdown",
   "id": "f82f3ccf-321c-417b-ba8f-50a202430f8e",
   "metadata": {},
   "source": [
    "3. Third-Party Login :-\n",
    "Many web applications allow users to sign in with their Facebook, Google, Github, or other accounts instead of making an account directly. But that doesn’t mean they’re getting access to your social media. Instead, the app makes an API call to check if the user is already signed in to the third-party website. The API makes the confirmation, then handles the authentication in the app’s place."
   ]
  },
  {
   "cell_type": "markdown",
   "id": "d66b0c95-3f08-4bc0-b56f-638efb963b33",
   "metadata": {},
   "source": [
    "4.Ecommerce :-\n",
    "Do any online shopping outside of Amazon and you’ll see a “pay with PayPal” option at checkout. The API that powers this works similarly to the third-party login APIs mentioned above. Again, the store doesn’t directly access your PayPal account. It instead sends the purchase order to the PayPal API and PayPal handles the rest of the transaction."
   ]
  },
  {
   "cell_type": "code",
   "execution_count": null,
   "id": "7ef34cbf-52bd-4904-9f6e-df05bb29d935",
   "metadata": {},
   "outputs": [],
   "source": []
  },
  {
   "cell_type": "markdown",
   "id": "94ca612f-5fda-44cf-b033-ff66e3cfe4ba",
   "metadata": {},
   "source": [
    "Q2. Give advantages and disadvantages of using API."
   ]
  },
  {
   "cell_type": "markdown",
   "id": "43e68dae-96fe-4006-9959-dab7c4ed0bbf",
   "metadata": {},
   "source": [
    "Advantages of API.\n",
    "\n",
    "1.Increases productivity.\n",
    "2.Saves costs.\n",
    "3.Improves connectivity and collaboration.\n",
    "4.Encourages innovation.\n",
    "5.Enhances customer experience.\n",
    "6.Improves marketing.\n",
    "7.Collects data for intelligence analytics.\n",
    "8.Creates new revenue opportunities."
   ]
  },
  {
   "cell_type": "markdown",
   "id": "8f98636e-cd9f-4354-a8fa-24e2612661b0",
   "metadata": {},
   "source": [
    "disadvantages of API.\n",
    "\n",
    "1.Creating API is a very time-consuming process.\n",
    "2.A fixed scale is necessary.\n",
    "3.Imprecise boundary delineation.\n",
    "4.To create API, programming knowledge is necessary.\n",
    "5.Maintenance cost is very high.\n",
    "6.It can crash when testing API."
   ]
  },
  {
   "cell_type": "code",
   "execution_count": null,
   "id": "304cde52-68e7-44b8-b369-cca44f0f8ede",
   "metadata": {},
   "outputs": [],
   "source": []
  },
  {
   "cell_type": "markdown",
   "id": "a8634a50-ede0-4440-963f-5ad614d469aa",
   "metadata": {},
   "source": [
    "Q3. What is a Web API? Differentiate between API and Web API."
   ]
  },
  {
   "cell_type": "markdown",
   "id": "c36aff45-a6d4-46fa-8575-1630a6a72168",
   "metadata": {},
   "source": [
    "Web API is an API as the name suggests, it can be accessed over the web using the HTTP protocol. It is a framework that helps you to create and develop HTTP based RESTFUL services. The web API can be developed by using different technologies such as java, ASP.NET, etc. Web API is used in either a web server or a web browser. Basically Web API is a web development concept. It is limited to Web Application’s client-side and also it does not include a web server or web browser details. If an application is to be used on a distributed system and to provide services on different devices like laptops, mobiles, etc then web API services are used. Web API is the enhanced form of the web application."
   ]
  },
  {
   "cell_type": "markdown",
   "id": "aee0ca50-5365-4f43-b0be-496bbb1e7970",
   "metadata": {},
   "source": [
    "=> Key Differences between API and Web API,\n",
    "Web API:-is a collection of open source protocols and standards used for exchanging data between systems or applications.\n",
    "API:- is a software interface that allows two applications to interact with each other without any user involvement.\n",
    "\n",
    "Web API:- is used for REST, SOAP, and XML-RPC for communication,\n",
    "API:- is used for any style of communication.\n",
    "\n",
    "Web API :- supports only HTTP protocol,\n",
    "API:- supports HTTP/HTTPS protocol.\n",
    "\n",
    "Web API:- supports XML,\n",
    "API:- supports XML and JSON.\n",
    "\n",
    "All WeB API are APIs, but all APIs are not web API."
   ]
  },
  {
   "cell_type": "code",
   "execution_count": null,
   "id": "5511b8f0-6870-425e-8ac8-83fa4105ced3",
   "metadata": {},
   "outputs": [],
   "source": []
  },
  {
   "cell_type": "markdown",
   "id": "5cdd5ade-eff1-4399-9f0a-36ca68ed187c",
   "metadata": {},
   "source": [
    "Q4. Explain REST and SOAP Architecture. Mention shortcomings of SOAP."
   ]
  },
  {
   "cell_type": "markdown",
   "id": "7ce8d631-0a2e-4fa8-9dbb-aeac82018dda",
   "metadata": {},
   "source": [
    "Representational State Transfer (REST) is an architectural style that defines a set of constraints to be used for creating web services. REST API is a way of accessing web services in a simple and flexible way without having any processing. REST uses less bandwidth, simple and flexible making it more suitable for internet usage. It’s used to fetch or give some information from a web service. All communication done via REST API uses only HTTP request. \n",
    "\n",
    "Working: A request is sent from client to server in the form of a web URL as HTTP GET or POST or PUT or DELETE request. After that, a response comes back from the server in the form of a resource which can be anything like HTML, XML, Image, or JSON. But now JSON is the most popular format being used in Web Services. \n",
    "\n",
    "=> advantages of REST,\n",
    "1.REST API is easy to understand and learn, due to its simplicity, known API.\n",
    "2.With REST API, being able to organize complicated applications & makes it easy to use resources.\n",
    "3.The high load can be managed with help out of HTTP proxy server & cache.\n",
    "4.REST API is easy to explore and discover.\n",
    "5.It makes it simple for new clients to work on other applications, whether it is designed specifically for purpose or not.\n",
    " "
   ]
  },
  {
   "cell_type": "markdown",
   "id": "385574c8-39c7-411d-9e28-74e6b666f451",
   "metadata": {},
   "source": [
    "Simple Object Access Protocol(SOAP) is a network protocol for exchanging structured data between nodes. It uses XML format to transfer messages. It works on top of application layer protocols like HTML and SMTP for notations and transmission. SOAP allows processes to communicate throughout platforms, languages and operating systems, since protocols like HTTP are already installed on all platforms.\n",
    "\n",
    "=>Advantages of SOAP,\n",
    "1.SOAP is a light weight data interchange protocol because it is based on XML.\n",
    "2.SOAP was designed to be OS and Platform independent.\n",
    "3.It is built on top of HTTP which is installed in most systems.\n",
    "4.It is suggested by W3 consortium which is like a governing body for the Web.\n",
    "5.SOAP is mainly used for Web Services and Application Programming Interfaces (APIs).\n",
    "\n",
    "=>disadvantages of soap API,\n",
    "1.SOAP is used only XML format data in web service, whereas JSON and other lightweight formats are not supported by it.\n",
    "2.It is slow because it uses XML format, whereas the payload for a simple string message is large.\n",
    "There are no security features in the SOAP specification.\n",
    "There is no state reference for the remote object in the SOAP client."
   ]
  },
  {
   "cell_type": "code",
   "execution_count": null,
   "id": "9d33a18a-f4f7-4c75-b063-a6471013658c",
   "metadata": {},
   "outputs": [],
   "source": []
  },
  {
   "cell_type": "markdown",
   "id": "79fbd7fb-bffc-483f-bf5f-ec12e519543d",
   "metadata": {},
   "source": [
    "Q5. Differentiate between REST and SOAP."
   ]
  },
  {
   "cell_type": "markdown",
   "id": "6f7bb8db-222a-463c-822c-598a97b5ca85",
   "metadata": {},
   "source": [
    "\n",
    "REST:- Relies on REST (Representational State Transfer) architecture using HTTP.\n",
    "SOAP:- Relies on SOAP (Simple Object Access Protocol).\n",
    "\n",
    "REST:-Generally transports data in JSON. It is based on URI. Because REST follows stateless model, REST does not enforces          message format as XML or JSON etc.\n",
    "SOAP :-Transports data in standard XML format.\n",
    "\n",
    "REST:-It works with GET, POST, PUT, DELETE.\n",
    "SOAP :-Because it is XML based and relies on SOAP, it works with WSDL.\n",
    "\n",
    "REST :- Works over HTTP and HTTPS.\n",
    "SOAP:-Works over HTTP, HTTPS, SMTP, XMPP.\n",
    "\n",
    "REST :-Less structured -> less bulky data.\n",
    "SOAP :-Highly structured/typed.\n",
    "\n",
    "REST :-Designed with mobile devices in mind.\n",
    "SOAP :-Designed with large enterprise applications in mind.\n",
    "\n"
   ]
  }
 ],
 "metadata": {
  "kernelspec": {
   "display_name": "Python 3 (ipykernel)",
   "language": "python",
   "name": "python3"
  },
  "language_info": {
   "codemirror_mode": {
    "name": "ipython",
    "version": 3
   },
   "file_extension": ".py",
   "mimetype": "text/x-python",
   "name": "python",
   "nbconvert_exporter": "python",
   "pygments_lexer": "ipython3",
   "version": "3.10.8"
  }
 },
 "nbformat": 4,
 "nbformat_minor": 5
}
