{
 "cells": [
  {
   "cell_type": "markdown",
   "id": "ac052a26-b743-42c9-805c-66bed15a0aad",
   "metadata": {},
   "source": [
    "## Machine Learning-1"
   ]
  },
  {
   "cell_type": "code",
   "execution_count": null,
   "id": "746d48d1-a2c5-43f3-9b40-4a5619b64f53",
   "metadata": {},
   "outputs": [],
   "source": []
  },
  {
   "cell_type": "markdown",
   "id": "b677c081-0f39-474c-9f68-a77484b2e3fd",
   "metadata": {},
   "source": [
    "### Q1-Explaine the following with an Example:-"
   ]
  },
  {
   "cell_type": "markdown",
   "id": "e8e64e25-bef9-43b5-9c2d-fab7f67a0bf4",
   "metadata": {},
   "source": [
    "### 1.Artificial Intelligence:-\n",
    "\n",
    "Artificial Intelligence (AI) is a branch of computer science that deals with the creation of intelligent machines that can perform tasks that typically require human intelligence. The goal of AI is to create algorithms and systems that can learn from data, reason, make predictions, and take actions.\n",
    "\n",
    "AI systems can be classified into two categories: narrow or weak AI, and general or strong AI. Narrow AI is designed to perform specific tasks, such as image recognition, speech recognition, or playing a game. On the other hand, general AI is capable of performing any intellectual task that a human can, including learning and problem-solving.\n",
    "\n",
    "EXAMPLE:- Google Maps, Face ID, Siri."
   ]
  },
  {
   "cell_type": "markdown",
   "id": "095f9bd9-f616-44ff-9182-451801d89bdf",
   "metadata": {},
   "source": [
    "### 2.Machine Learning:-\n",
    "\n",
    "Machine learning is a method of data analysis that automates analytical model building. It is a branch of artificial intelligence based on the idea that systems can learn from data, identify patterns and make decisions with minimal human intervention.\n",
    "machine learning process starts with feeding them good quality data and then training the machines by building various machine learning models using the data and different algorithms. The choice of algorithms depends on what type of data we have and what kind of task we are trying to automate.\n",
    "\n",
    "EXAMPLE:-  Image recognition , Speech recognition , Virtual personal assistants(Siri, Alexa, or Google),  Traffic predictions"
   ]
  },
  {
   "cell_type": "markdown",
   "id": "69578c22-34d6-49de-a158-aee8a4400d8a",
   "metadata": {},
   "source": [
    "### 3.Deep Learning:-\n",
    "\n",
    "Deep learning is the branch of machine learning which is based on artificial neural network architecture. An artificial neural network or ANN uses layers of interconnected nodes called neurons that work together to process and learn from the input data.\n",
    "\n",
    "EXAMPLE:- Driverless Vehicles , Virtual Assistants(Alexa, or Siri) , Chatbots , Translations"
   ]
  },
  {
   "cell_type": "code",
   "execution_count": null,
   "id": "9238cdc5-f494-4547-b174-0ec3300f2b43",
   "metadata": {},
   "outputs": [],
   "source": []
  },
  {
   "cell_type": "markdown",
   "id": "9a8f1aad-1222-499e-8898-cd16fe94c165",
   "metadata": {},
   "source": [
    "#### Q2.What is Supervised learning ? list some example of supervised learning"
   ]
  },
  {
   "cell_type": "markdown",
   "id": "a8b420b0-99a6-419b-9760-1494a7a96016",
   "metadata": {},
   "source": [
    "supervised learning is when we teach or train the machine using data that is well-labelled. Which means some data is already tagged with the correct answer. After that, the machine is provided with a new set of examples(data) so that the supervised learning algorithm analyses the training data(set of training examples) and produces a correct outcome from labeled data.\n",
    "\n",
    "Example:-\n",
    "\n",
    "suppose you are given a basket filled with different kinds of vegetables. Now the first step is to train the machine with all the different vegetables one by one.[basket(tomato,potato,ladyfingure,onion)]\n",
    "\n",
    "If the shape of the object is rounded and is red in color, then it will be labeled as –tomato.\n",
    "If the shape of the object is a long curving cylinder having Green in colour, then it will be labeled as –ladyfingure.\n",
    "\n",
    "Now suppose after training the data, you have given a new separate vegetable, say tomato from the basket, and asked to identify it.\n",
    "\n",
    "the machine has already learned the things from previous data and this time has to use it wisely. It will first classify the vegetable with its shape and color and would confirm the vegetable name as tomato and put it in the tomato category. Thus the machine learns the things from training data(basket containing vegetable) and then applies the knowledge to test data(new vegetable). \n",
    " \n"
   ]
  },
  {
   "cell_type": "code",
   "execution_count": null,
   "id": "351d7f7f-4cac-4345-8e3e-a4cd84a2def6",
   "metadata": {},
   "outputs": [],
   "source": []
  },
  {
   "cell_type": "markdown",
   "id": "16d1d4c6-5c64-4c30-a009-64e65469bc2a",
   "metadata": {},
   "source": [
    "#### Q3.What is Unsupervised learning ? list some example of unsupervised learning?"
   ]
  },
  {
   "cell_type": "markdown",
   "id": "e842a669-ab35-4d9c-a676-a8838b3577cf",
   "metadata": {},
   "source": [
    "Unsupervised learning is the training of a machine using information that is neither classified nor labeled and allowing the algorithm to act on that information without guidance. Here the task of the machine is to group unsorted information according to similarities, patterns, and differences without any prior training of data. \n",
    "\n",
    "Unlike supervised learning, no teacher is provided that means no training will be given to the machine. Therefore the machine is restricted to find the hidden structure in unlabeled data by itself.\n",
    "\n",
    "Examples:-\n",
    "\n",
    "Cybersecurity.\n",
    "\n",
    "Customer segmentation:-when a company categorizes its entire customer base into different subgroups. The company might base the subgroups on common behavior patterns, personality traits or other factors that make customers similar to each other.\n",
    "\n",
    "Personalized recommendations."
   ]
  },
  {
   "cell_type": "code",
   "execution_count": null,
   "id": "bd1905fd-3e2c-4a47-b5c2-7a3e3d4612b1",
   "metadata": {},
   "outputs": [],
   "source": []
  },
  {
   "cell_type": "markdown",
   "id": "a40485cd-557b-47b3-bbbf-3c459a869921",
   "metadata": {},
   "source": [
    "#### Q4. What is difference between AI,ML,DL AND DS? "
   ]
  },
  {
   "cell_type": "markdown",
   "id": "14935ded-a9f5-4edf-bb7e-92ae9a1fc0e0",
   "metadata": {},
   "source": [
    "ARTIFICIAL INTELLIGENCE(AI) :- AI stands for Artificial Intelligence, and is basically the study/process which enables machines to mimic human behaviour through particular algorithm.\n",
    "\n",
    "MACHINE LEARNING(ML) :-ML stands for Machine Learning, and is the study that uses statistical methods enabling machines to improve with experience.\n",
    "\n",
    "DEEP LEARNING(DL) :-DL stands for Deep Learning, and is the study that makes use of Neural Networks(similar to neurons present in human brain) to imitate functionality just like a human brain.\n",
    "\n",
    "ARTIFICIAL INTELLIGENCE(AI) :-AI is the broader family consisting of ML and DL as it’s components.\t\n",
    "\n",
    "MACHINE LEARNING(ML) :-ML is the subset of AI.\n",
    "\n",
    "DEEP LEARNING(DL) :-DL is the subset of ML.\n",
    "\n",
    "ARTIFICIAL INTELLIGENCE(AI) :-AI is a computer algorithm which exhibits intelligence through decision making.\n",
    "\n",
    "MACHINE LEARNING(ML) :-ML is an AI algorithm which allows system to learn from data.\t\n",
    "\n",
    "DEEP LEARNING(DL) :-DL is a ML algorithm that uses deep(more than one layer) neural networks to analyze data and provide output accordingly.\n",
    "\n",
    "ARTIFICIAL INTELLIGENCE(AI) :-Search Trees and much complex math is involved in AI.\t\n",
    "\n",
    "MACHINE LEARNING(ML) :-If you have a clear idea about the logic(math) involved in behind and you can visualize the complex functionalities like K-Mean, Support Vector Machines, etc., then it defines the ML aspect.\t\n",
    "\n",
    "DEEP LEARNING(DL) :-If you are clear about the math involved in it but don’t have idea about the features, so you break the complex functionalities into linear/lower dimension features by adding more layers, then it defines the DL aspect.\n",
    "\n",
    "ARTIFICIAL INTELLIGENCE(AI) :-The aim is to basically increase chances of success and not accuracy.\t\n",
    "\n",
    "MACHINE LEARNING(ML) :-The aim is to increase accuracy not caring much about the success ratio.\n",
    "\n",
    "DEEP LEARNING(DL) :-It attains the highest rank in terms of accuracy when it is trained with large amount of data.\n",
    "\n",
    "ARTIFICIAL INTELLIGENCE(AI) :-Three broad categories/types Of AI are: Artificial Narrow Intelligence (ANI), Artificial General Intelligence (AGI) and Artificial Super Intelligence (ASI).\n",
    "\n",
    "MACHINE LEARNING(ML) :-Three broad categories/types Of ML are: Supervised Learning, Unsupervised Learning and Reinforcement Learning.\n",
    "\n",
    "DEEP LEARNING(DL) :-DL can be considered as neural networks with a large number of parameters layers lying in one of the four fundamental network architectures: Unsupervised Pre-trained Networks, Convolutional Neural Networks, Recurrent Neural Networks and Recursive Neural Networks.\n",
    "\n",
    "ARTIFICIAL INTELLIGENCE(AI) :-The efficiency Of AI is basically the efficiency provided by ML and DL respectively.\t\n",
    "\n",
    "MACHINE LEARNING(ML) :-Less efficient than DL as it can’t work for longer dimensions or higher amount of data.\t\n",
    "\n",
    "DEEP LEARNING(DL) :-More powerful than ML as it can easily work for larger sets of data.\n",
    "\n",
    "\n",
    "DATA SCIENCE:-\n",
    "\n",
    "Data Science has some overlap with Artificial Intelligence, Machine Learning, and very few parts of Deep Learning.\n",
    "\n",
    "Data Science isn’t exactly a subset of AI or ML. But, it uses Machine Learning to analyze data and to produce insights that are statistical for decision-making, which is helpful in making better predictions about the future.\n",
    "\n",
    "Data Science combines Machine Learning with Data Visualization, Data pre-processing, and also with other disciplines like Big Data Analytics and Cloud computing and Business knowledge."
   ]
  },
  {
   "cell_type": "code",
   "execution_count": null,
   "id": "bcb60b1c-2315-4a13-8666-58e3e9343dab",
   "metadata": {},
   "outputs": [],
   "source": []
  },
  {
   "cell_type": "markdown",
   "id": "188a33e4-794c-4746-9481-dbb6034641ae",
   "metadata": {},
   "source": [
    "#### Q5.What are the main difference between Supervised , Unsupervised , Semi-supervised learning?"
   ]
  },
  {
   "cell_type": "markdown",
   "id": "a520f872-f6f4-4e54-abd3-e4dc3179a010",
   "metadata": {},
   "source": [
    "SUPERVISED LEARNING :-Uses Known and Labeled Data as input.\n",
    "\n",
    "UNSUPERVISED LEARNING :-Uses Unknown Data as input.\n",
    "\n",
    "SUPERVISED LEARNING :-Less Computational Complexity.\n",
    "\n",
    "UNSUPERVISED LEARNING :-More Computational Complex.\n",
    "\n",
    "SUPERVISED LEARNING :-Uses off-line analysis.\n",
    "\n",
    "UNSUPERVISED LEARNING :-Uses Real Time Analysis of Data.\n",
    "\n",
    "SUPERVISED LEARNING :-Number of Classes are known.\n",
    "\n",
    "UNSUPERVISED LEARNING :-Number of Classes are not known.\n",
    "\n",
    "SUPERVISED LEARNING :-Accurate and Reliable Results.\n",
    "\n",
    "UNSUPERVISED LEARNING :-Moderate Accurate and Reliable Results.\n",
    "\n",
    "SUPERVISED LEARNING :-Desired output is given.\t\n",
    "\n",
    "UNSUPERVISED LEARNING :-Desired output is not given.\n",
    "\n",
    "SUPERVISED LEARNING :-In supervised learning it is not possible to learn larger and more complex models than with supervised learning.\n",
    "\n",
    "UNSUPERVISED LEARNING :-In unsupervised learning it is possible to learn larger and more complex models than  with unsupervised learning.\n",
    "\n",
    "SUPERVISED LEARNING :-In supervised learning training data is used to infer model.\n",
    "\n",
    "UNSUPERVISED LEARNING :-In unsupervised learning training data is not used.\n",
    "\n",
    "SUPERVISED LEARNING :-Supervised learning is also called classification.\t\n",
    "\n",
    "UNSUPERVISED LEARNING :-Unsupervised learning is also called clustering.\n",
    "\n",
    "SUPERVISED LEARNING :-We can test our model.\t\n",
    "\n",
    "UNSUPERVISED LEARNING :-We can not test our model.\n",
    "\n",
    "\n",
    "\n",
    "SEMISUPERVISED LEARNING:-\n",
    "\n",
    "Semi-supervised learning is a type of machine learning that falls in between supervised and unsupervised learning. It is a method that uses a small amount of labeled data and a large amount of unlabeled data to train a model. The goal of semi-supervised learning is to learn a function that can accurately predict the output variable based on the input variables, similar to supervised learning. However, unlike supervised learning, the algorithm is trained on a dataset that contains both labeled and unlabeled data."
   ]
  },
  {
   "cell_type": "code",
   "execution_count": null,
   "id": "84376c00-5ab8-4de1-b885-b4ef92f27b4f",
   "metadata": {},
   "outputs": [],
   "source": []
  },
  {
   "cell_type": "markdown",
   "id": "2a18a866-03b2-40ab-8843-347dad3c3df9",
   "metadata": {},
   "source": [
    "#### Q6.What is train,test,validation split ? Explaine the importance of each term?"
   ]
  },
  {
   "cell_type": "markdown",
   "id": "86dc54a9-6d51-40ec-aa6a-6769bbc5c1f3",
   "metadata": {},
   "source": [
    "Train:-\n",
    "\n",
    "This is the actual dataset from which a model trains .i.e. the model sees and learns from this data to predict the outcome or to make the right decisions. Most of the training data is collected from several resources and then preprocessed and organized to provide proper performance of the model. Type of training data hugely determines the ability of the model to generalize .\n",
    "\n",
    "Validation:-\n",
    "\n",
    "The validation set is a separate section of your dataset that you will use during training to get a sense of how well your model is doing on images that are not being used in training.During training, it is common to report validation metrics continually after each training epoch such as validation mAP or validation loss. You use these metrics to get a sense of when your model has hit the best performance it can reach on your validation set. \n",
    "\n",
    "Test:-\n",
    "\n",
    "The Test dataset provides the gold standard used to evaluate the model. It is only used once a model is completely trained(using the train and validation sets). The test set is generally what is used to evaluate competing models (For example on many Kaggle competitions, the validation set is released initially along with the training set and the actual test set is only released when the competition is about to close, and it is the result of the the model on the Test set that decides the winner)."
   ]
  },
  {
   "cell_type": "code",
   "execution_count": null,
   "id": "96672b59-9ac0-4170-b5ca-08b7e1a1c9bb",
   "metadata": {},
   "outputs": [],
   "source": []
  },
  {
   "cell_type": "markdown",
   "id": "95474fe5-0197-4f34-a9df-a6ad6eeab70a",
   "metadata": {},
   "source": [
    "#### Q7.How can unsupervised learning be used in anomaly detection?"
   ]
  },
  {
   "cell_type": "markdown",
   "id": "8c9634fa-c17d-424c-8ecf-1121bbde76bd",
   "metadata": {},
   "source": [
    "Anomaly Detection is the technique of identifying rare events or observations which can raise suspicions by being statistically different from the rest of the observations. Such “anomalous” behaviour typically translates to some kind of a problem like a credit card fraud, failing machine in a server, a cyber attack, etc.\n",
    "Unsupervised Anomaly Detection: This method does require any training data and instead assumes two things about the data ie Only a small percentage of data is anomalous and Any anomaly is statistically different from the normal samples. "
   ]
  },
  {
   "cell_type": "code",
   "execution_count": null,
   "id": "de21035d-1dc6-4ec2-862e-1035cd5b0ba8",
   "metadata": {},
   "outputs": [],
   "source": []
  },
  {
   "cell_type": "markdown",
   "id": "c8db05e8-1419-447a-9a54-f060d7185125",
   "metadata": {},
   "source": [
    "#### Q8.list down some commenly used supervised learning algorithms and unsupervised learning algorithms?"
   ]
  },
  {
   "cell_type": "markdown",
   "id": "32cdaea8-c959-499c-ac3e-20ee4d2af23d",
   "metadata": {},
   "source": [
    "SUPERVISED LEARNING ALGORITHMS:-\n",
    "\n",
    "1.Linear Regression :-Linear regression is used to identify the linear relationship between a dependent variable and one or more independent variables.\n",
    "\n",
    "2.Logistic Regression :-Logistic regression is a type of predictive modelling algorithm used for classification tasks. It is used to estimate the probability of an event occurring based on the values of one or more predictor variables.\n",
    "\n",
    "3.Support Vector Machines (SVM) :-Support Vector Machines (SVM) are robust algorithm that use a kernel to map data into a high-dimensional space and then draw a linear boundary between the distinct classes. \n",
    "\n",
    "4.Decision Trees :-Decision Trees are popular supervised learning algorithms for classification and regression tasks using a \"tree\" structure to represent decisions and their associated outcomes.Each node of the tree represents an attribute, while each branch represents a decision. \n",
    "\n",
    "5.Random Forests :-Random forests are essentially multiple decision trees combined to form one powerful \"forest\" model with better predictive accuracy than individual trees.\n",
    "\n",
    "UNSUPERVISED LEARNING ALGORITHMS:-\n",
    "\n",
    "1.K-means Clustering :-K-Means Clustering is an Unsupervised Learning algorithm. It arranges the unlabeled dataset into several clusters. Here K denotes the number of pre-defined groups. K can hold any random value, as if K=3, there will be three clusters, and for K=4, there will be four clusters. It is a repetitive algorithm that splits the given unlabeled dataset into K clusters. \n",
    "\n",
    "2.Hierarchical clustering :-Hierarchical clustering, also known as Hierarchical cluster analysis. It is an unsupervised clustering algorithm. It includes building clusters that have a preliminary order from top to bottom.\n",
    "\n",
    "3.Anomaly Detection :-The detection of anomalies comprises distinguishing rare and unusual events. The ideal approach to anomaly detection is calculating a detailed summary of standard data.\n",
    "\n",
    "4.Apriori algorithm :-The Apriori algorithm is a categorization algorithm. The Apriori algorithm uses frequent data points to create association rules."
   ]
  },
  {
   "cell_type": "code",
   "execution_count": null,
   "id": "ece8cb0a-aeb4-4d6b-b5cd-3f62435f6134",
   "metadata": {},
   "outputs": [],
   "source": []
  }
 ],
 "metadata": {
  "kernelspec": {
   "display_name": "Python 3 (ipykernel)",
   "language": "python",
   "name": "python3"
  },
  "language_info": {
   "codemirror_mode": {
    "name": "ipython",
    "version": 3
   },
   "file_extension": ".py",
   "mimetype": "text/x-python",
   "name": "python",
   "nbconvert_exporter": "python",
   "pygments_lexer": "ipython3",
   "version": "3.10.8"
  }
 },
 "nbformat": 4,
 "nbformat_minor": 5
}
