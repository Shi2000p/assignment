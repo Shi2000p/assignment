{
 "cells": [
  {
   "cell_type": "markdown",
   "id": "d8b34619-7dbf-4c05-95a5-d1c7f34dbde1",
   "metadata": {},
   "source": [
    "Q1. What is Statistics?"
   ]
  },
  {
   "cell_type": "markdown",
   "id": "2e52ed79-6447-4830-8708-fe424732d0db",
   "metadata": {},
   "source": [
    "statistics, the science of collecting, analyzing, presenting, and interpreting data.\n",
    "\n",
    "Statistics has a wide range of applications in many disciplines, including economics, psychology, geology, weather forecasts, and so on. The information gathered for research here may be quantitative or qualitative. Quantitative data can also be divided into two types: discrete and continuous."
   ]
  },
  {
   "cell_type": "code",
   "execution_count": null,
   "id": "222cbc93-964a-495b-a52c-0785a1abd733",
   "metadata": {},
   "outputs": [],
   "source": []
  },
  {
   "cell_type": "markdown",
   "id": "d1d316c9-a381-4d00-89ff-1e5e0b4e54ea",
   "metadata": {},
   "source": [
    "Q2. Define the different types of statistics and give an example of when each type might be used."
   ]
  },
  {
   "cell_type": "markdown",
   "id": "081fe4dc-8bab-4865-8d05-2b0468edeb83",
   "metadata": {},
   "source": [
    "Types of Statistics :-"
   ]
  },
  {
   "cell_type": "markdown",
   "id": "98359f44-1eca-4c29-876e-56745598c32d",
   "metadata": {},
   "source": [
    "1. Descriptive Statistics :\n",
    "\n",
    "Descriptive statistics uses data that provides a description of the population either through numerical calculation or graph or table. It provides a graphical summary of data. It is simply used for summarizing objects, etc.There are two categories in this as following below."
   ]
  },
  {
   "cell_type": "markdown",
   "id": "207c877f-819b-4e0e-a480-e85fd12d9c20",
   "metadata": {},
   "source": [
    "(a) Measure of central tendency –> \n",
    "Measure of central tendency is also known as summary statistics that is used to represents the center point or a particular value of a data set or sample set.\n",
    "there are three common measures of central tendency as shown below"
   ]
  },
  {
   "cell_type": "markdown",
   "id": "6b1398de-524b-41e9-9fb9-58a0b56991f7",
   "metadata": {},
   "source": [
    "~ Mean :-It is measure of average of all value in a sample set.\n",
    "\n",
    "~ Median :-It is measure of central value of a sample set. In these, data set is ordered from lowest to highest value and                  then finds exact middle.\n",
    "\n",
    "~Mode :-It is value most frequently arrived in sample set. The value repeated most of time in central set is actually mode.\n"
   ]
  },
  {
   "cell_type": "markdown",
   "id": "7972c523-bd87-465c-a012-98b10e01189b",
   "metadata": {},
   "source": [
    "(b)Measure of Variability –> Measure of Variability is also known as measure of dispersion and used to describe variability in a sample or population there are three common measures of variability as shown below:"
   ]
  },
  {
   "cell_type": "markdown",
   "id": "548bbe8f-2f34-4f8b-b880-2460d01c25cb",
   "metadata": {},
   "source": [
    "~ Range :-It is given measure of how to spread apart values in sample set or data set.\n",
    "\n",
    "~ Variance :-It simply describes how much a random variable defers from expected value and it is also computed as square of deviation.\n",
    "\n",
    "~Dispersion :-It is measure of dispersion of set of data from its mean."
   ]
  },
  {
   "cell_type": "markdown",
   "id": "6ef8d360-6594-4aa2-a5d4-736a8f5ab3c9",
   "metadata": {},
   "source": [
    "2.Inferential Statistics :\n",
    "\n",
    "Inferential Statistics makes inference and prediction about population based on a sample of data taken from population. It generalizes a large dataset and applies probabilities to draw a conclusion."
   ]
  },
  {
   "cell_type": "markdown",
   "id": "ec52d1f0-3ae7-4e48-9d0f-f8b6d06f1e6a",
   "metadata": {},
   "source": [
    "One sample test of difference/One sample hypothesis test\n",
    "\n",
    "Confidence Interval\n",
    "\n",
    "Contingency Tables and Chi-Square Statistic\n",
    "\n",
    "T-test or Anova\n",
    "\n",
    "Pearson Correlation\n",
    "\n",
    "Bi-variate Regression\n",
    "\n",
    "Multi-variate Regression"
   ]
  },
  {
   "cell_type": "code",
   "execution_count": null,
   "id": "20d7909c-2697-4220-94dc-5c725bd7e85a",
   "metadata": {},
   "outputs": [],
   "source": []
  },
  {
   "cell_type": "markdown",
   "id": "75be95c7-0f0c-4909-bbca-45355f2fb26c",
   "metadata": {},
   "source": [
    "Q3. What are the different types of data and how do they differ from each other? Provide an example of\n",
    "each type of data."
   ]
  },
  {
   "cell_type": "markdown",
   "id": "7a7ac352-a596-40b5-95fe-7e5349b19463",
   "metadata": {},
   "source": [
    "1. Nominal data:-\n",
    "\n",
    "This type of qualitative data is descriptive. Accordingly, nominal data features information that doesn't have quantitative values. Unlike numbers, you can't compare this type of data or order them. Instead, it's common to group them into distinct categories.\n",
    "\n",
    "example,\n",
    "\n",
    ":-eye colour: brown, black or blue.\n",
    "\n",
    ":-marital status: single, married, divorced or widowed."
   ]
  },
  {
   "cell_type": "markdown",
   "id": "ba02de6a-b97b-40ed-8354-f6c053de5bfc",
   "metadata": {},
   "source": [
    "2. Ordinal data:-\n",
    "\n",
    "Ordinal data is another type of qualitative data. Unlike nominal data, the values in this classification have a natural set order or scale. This means that some sets might have numerical values and that you can order them because they've got a relative position to one another.\n",
    "\n",
    "example,\n",
    "\n",
    "letter grades for examination results, such as A, B, C and D.\n",
    "\n",
    "education level, such as primary, secondary and tertiary"
   ]
  },
  {
   "cell_type": "markdown",
   "id": "9f12601d-56bf-4203-917e-6599156e124b",
   "metadata": {},
   "source": [
    "3. Discrete data:-\n",
    "\n",
    "This is a type of quantitative data, which is information that has numerical values. Discrete data generally only consists of fixed values, such as integers and whole numbers. Decimals can occur in this category\n",
    "\n",
    "example,\n",
    "\n",
    "the total number of students in a class.\n",
    "\n",
    "the cost of a mobile phone."
   ]
  },
  {
   "cell_type": "markdown",
   "id": "69faba27-7a7f-4891-acb9-fae7019a3937",
   "metadata": {},
   "source": [
    "4. Continuous data:-\n",
    "\n",
    "Continuous data is the opposite of discrete data, featuring sequences that have the potential to go on infinitely. You can divide this type of data into smaller pieces, and fractional numbers are common in this category.\n",
    "\n",
    "example,\n",
    "\n",
    "the height of a person.\n",
    "\n",
    "the temperature of a room."
   ]
  },
  {
   "cell_type": "code",
   "execution_count": null,
   "id": "9bb32baa-75cb-4b06-ae7a-fa8250bcb79f",
   "metadata": {},
   "outputs": [],
   "source": []
  },
  {
   "cell_type": "markdown",
   "id": "fd544109-1471-4519-aee0-43bad5974055",
   "metadata": {},
   "source": [
    "The nominal level is the first level of measurement, and the simplest. It classifies and labels variables qualitatively. In other words, it divides them into named groups without any quantitative meaning.Q4. Categorise the following datasets with respect to quantitative and qualitative data types:\n",
    "\n",
    "(i) Grading in exam: A+, A, B+, B, C+, C, D, E   :-(Qualitative , \"ordinal\")\n",
    "\n",
    "(ii) Colour of mangoes: yellow, green, orange, red  :-(Qualitative , \"nominal\")\n",
    "\n",
    "(iii) Height data of a class: [178.9, 179, 179.5, 176, 177.2, 178.3, 175.8,...]  :-(Quantitative ,\"continuous\")\n",
    "\n",
    "(iv) Number of mangoes exported by a farm: [500, 600, 478, 672, ...]   :-(Quantitative , \"discrete\")"
   ]
  },
  {
   "cell_type": "code",
   "execution_count": null,
   "id": "6777ef9b-775e-4aa0-ae81-acf97e45d569",
   "metadata": {},
   "outputs": [],
   "source": []
  },
  {
   "cell_type": "markdown",
   "id": "0faff05f-f845-4c75-b459-02a6df997ba1",
   "metadata": {},
   "source": [
    "Q5. Explain the concept of levels of measurement and give an example of a variable for each level."
   ]
  },
  {
   "cell_type": "markdown",
   "id": "5f64045f-ddde-4fcf-9a4f-b1d08ebdef32",
   "metadata": {},
   "source": [
    "1> NOMINAL LEVEL :-\n",
    "\n",
    "The nominal level is the first level of measurement, and the simplest. It classifies and labels variables qualitatively. In other words, it divides them into named groups without any quantitative meaning. in this type of data order dose not matter.\n",
    "\n",
    "example,\n",
    "\n",
    "Eye color (e.g. blue, brown, green)\n",
    "\n",
    "Nationality (e.g. German, Cameroonian, Lebanese)\n",
    "\n",
    "Personality type (e.g. introvert, extrovert, ambivert)"
   ]
  },
  {
   "cell_type": "markdown",
   "id": "0ad3a562-d1a0-4309-b6cc-f99ddd3f0a38",
   "metadata": {},
   "source": [
    "2> ORDINAL LEVEL :-\n",
    "\n",
    "The ordinal level of measurement groups variables into categories, just like the nominal scale, but also conveys the order of the variables.in this level order is important but we can't measured difference between the data.\n",
    "\n",
    "example,\n",
    "\n",
    "Academic grades (A, B, C, and so on)\n",
    "\n",
    "Income (high, medium, or low).\n",
    "\n",
    "Level of education completed (high school, bachelor’s degree, master’s degree)\n",
    "\n",
    "Seniority level at work (junior, mid-level, senior)"
   ]
  },
  {
   "cell_type": "markdown",
   "id": "7510c31a-40fc-41bf-b96f-6347bad2d7e2",
   "metadata": {},
   "source": [
    "3> INTERVEL LEVEL:-\n",
    "\n",
    "The interval level is a numerical level of measurement which, like the ordinal scale, places variables in order. Unlike the ordinal scale, however, the interval scale has a known and equal distance between each value on the scale (imagine the points on a thermometer). a value of zero on an interval scale does not mean the variable is absent. int this data we can measure difference but we cant measure ratio.\n",
    "\n",
    "example,\n",
    "\n",
    "Temperature in degrees Fahrenheit or Celsius (but not Kelvin)\n",
    "\n",
    "IQ score"
   ]
  },
  {
   "cell_type": "markdown",
   "id": "5ade0971-0ce9-41af-84e0-9e43b2625558",
   "metadata": {},
   "source": [
    "4>RATIO LEVEL\n",
    "\n",
    "the ratio scale is a quantitative level of measurement with equal intervals between each point. What sets the ratio scale apart is that it has a true zero. That is, a value of zero on a ratio scale means that the variable you’re measuring is absent.\n",
    "\n",
    "example,\n",
    "\n",
    "Weight in grams (continuous)\n",
    "\n",
    "Number of employees at a company\n",
    "\n",
    "Age in years \n",
    "\n",
    "population."
   ]
  },
  {
   "cell_type": "code",
   "execution_count": null,
   "id": "19e4e323-afd6-4219-8bde-525680d575bf",
   "metadata": {},
   "outputs": [],
   "source": []
  },
  {
   "cell_type": "markdown",
   "id": "4aa909f7-e00f-408d-947f-20515ec8369b",
   "metadata": {},
   "source": [
    "Q6. Why is it important to understand the level of measurement when analyzing data? Provide an\n",
    "example to illustrate your answer."
   ]
  },
  {
   "cell_type": "markdown",
   "id": "dd556e7f-9259-4a84-bb77-cc80f5c4b29e",
   "metadata": {},
   "source": [
    "The level at which you measure a variable determines how you can analyze your data. Depending on the level of measurement, you can perform different descriptive statistics to get an overall summary of your data and inferential statistics to see if your results support or refute your hypothesis."
   ]
  },
  {
   "cell_type": "code",
   "execution_count": null,
   "id": "87b6e440-b4c0-4f67-bdf4-b3f644df3167",
   "metadata": {},
   "outputs": [],
   "source": []
  },
  {
   "cell_type": "markdown",
   "id": "221d11e4-2168-4ade-bd0f-19a749d4b305",
   "metadata": {},
   "source": [
    "Q7. How nominal data type is different from ordinal data type."
   ]
  },
  {
   "cell_type": "markdown",
   "id": "6998bdef-f4d6-4f78-b523-8be04ac84315",
   "metadata": {},
   "source": [
    "Definition:-\n",
    "\n",
    "NOMINAL DATA :-Nominal data belong to the group of the non-parametric variables.In the case of nominal data, we can’t follow    any kind of order.\n",
    "\n",
    "ORDINAL DATA :-ordinal data belong to the group of the non-parametric ordered variables.we have to place the ordinal data in the following order."
   ]
  },
  {
   "cell_type": "markdown",
   "id": "b53a3ed8-aba0-409b-b753-6924d6046a82",
   "metadata": {},
   "source": [
    "Data Characteristics:-\n",
    "\n",
    "NOMINAL DATA :-In the case of nominal data, we can’t follow this specific set of characteristics.\n",
    "\n",
    "ORDINAL DATA :- In the case of ordinal data, we have to follow a specific set of characteristics."
   ]
  },
  {
   "cell_type": "markdown",
   "id": "aa5aa6de-5d27-4f5f-b8e7-067ab390e588",
   "metadata": {},
   "source": [
    "Examples :-\n",
    "\n",
    "NOMINAL DATA :- Eye color (e.g. blue, brown) , Nationality (e.g. German, Cameroonian, Lebanese)\n",
    "\n",
    "ORDINAL DATA :-Academic grades (A, B, C, and so on)  , Income (high, medium, or low)."
   ]
  },
  {
   "cell_type": "markdown",
   "id": "9320b94b-bb69-4877-8f73-f2fb9c96a9f4",
   "metadata": {},
   "source": [
    "Data Analysis:-\n",
    "\n",
    "NOMINAL DATA :- we have to group the variables into categories. After that, we have to calculate the mode or percentage of the data. \n",
    "\n",
    "ORDINAL DATA :-we can easily analyze the ordinal data by using mode and median methods."
   ]
  },
  {
   "cell_type": "markdown",
   "id": "ee4c0a1c-79a2-4d85-96a7-9e9a46abb004",
   "metadata": {},
   "source": [
    "Uses :-\n",
    "\n",
    "NOMINAL DATA:- we can use nominal data for research purposes. Its reason is that it can provide specific data of a person. \n",
    "\n",
    "ORDINAL DATA :- we can use ordinal data to investigate the views and opinions of the people on a specific issue. "
   ]
  },
  {
   "cell_type": "code",
   "execution_count": null,
   "id": "e0960da6-d49c-4c64-9e65-cdf6c9124580",
   "metadata": {},
   "outputs": [],
   "source": []
  },
  {
   "cell_type": "markdown",
   "id": "15d66e51-57a2-4f72-a7e5-6b3c8361af55",
   "metadata": {},
   "source": [
    "Q8. Which type of plot can be used to display data in terms of range?"
   ]
  },
  {
   "cell_type": "code",
   "execution_count": null,
   "id": "90479828-9586-4adb-8991-178291007ce5",
   "metadata": {},
   "outputs": [],
   "source": []
  }
 ],
 "metadata": {
  "kernelspec": {
   "display_name": "Python 3 (ipykernel)",
   "language": "python",
   "name": "python3"
  },
  "language_info": {
   "codemirror_mode": {
    "name": "ipython",
    "version": 3
   },
   "file_extension": ".py",
   "mimetype": "text/x-python",
   "name": "python",
   "nbconvert_exporter": "python",
   "pygments_lexer": "ipython3",
   "version": "3.10.8"
  }
 },
 "nbformat": 4,
 "nbformat_minor": 5
}
