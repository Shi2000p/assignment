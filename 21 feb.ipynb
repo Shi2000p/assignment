{
 "cells": [
  {
   "cell_type": "markdown",
   "id": "53836dc6-18d6-4e74-a6ab-255be1db7129",
   "metadata": {},
   "source": [
    "Q1. What is Web Scraping? Why is it Used? Give three areas where Web Scraping is used to get data."
   ]
  },
  {
   "cell_type": "markdown",
   "id": "f9aeff72-fc34-45f2-a0cf-53d60a7c777c",
   "metadata": {},
   "source": [
    "Web scraping is an automatic method to obtain large amounts of data from websites. Most of this data is unstructured data in an HTML format which is then converted into structured data in a spreadsheet or a database so that it can be used in various applications. There are many different ways to perform web scraping to obtain data from websites"
   ]
  },
  {
   "cell_type": "markdown",
   "id": "0f3ede81-9a73-44a7-b2a6-514e339e5832",
   "metadata": {},
   "source": [
    "Web scraping requires two parts, namely the crawler and the scraper. The crawler is an artificial intelligence algorithm that browses the web to search for the particular data required by following the links across the internet. The scraper, on the other hand, is a specific tool created to extract data from the website. The design of the scraper can vary greatly according to the complexity and scope of the project so that it can quickly and accurately extract the data."
   ]
  },
  {
   "cell_type": "markdown",
   "id": "4290912b-7738-4562-ac00-a655a409ef85",
   "metadata": {},
   "source": [
    " three areas where Web Scraping is used to get data."
   ]
  },
  {
   "cell_type": "markdown",
   "id": "3a94d6f6-653f-45ac-ae1b-69377b0b4be1",
   "metadata": {},
   "source": [
    "E-commerce:- companies use scraping to gather information about competitors, adjust or develop an entirely new strategy, or anticipate future consumer needs. Companies also collect data with reviews on products or services to conduct analysis. "
   ]
  },
  {
   "cell_type": "markdown",
   "id": "32105a8f-340f-4b56-826c-7613409a7711",
   "metadata": {},
   "source": [
    "Real estate scraping collects information from customer profiles, email addresses, phone numbers, and more. It’s handy to collect information on foreclosures, homes, agents, property photos, trends, etc. For example to determine competitive real estate prices based on sales price data or to compare prices of different lots or homes."
   ]
  },
  {
   "cell_type": "markdown",
   "id": "c49b3611-285e-454e-9544-1d2d7f5ead1d",
   "metadata": {},
   "source": [
    "Travel companies collect information on popular vacation and travel destinations to analyze the preferences of the target audience. Or to study traveler profiles to see their desire to travel and use this information to compose itineraries. It’s also a great way to analyze price trends for services, to see the demand for hotels at different times of the year, to build travel plans such as museums or restaurants, etc."
   ]
  },
  {
   "cell_type": "code",
   "execution_count": null,
   "id": "516115e8-935e-44fd-aadf-0fc98edac947",
   "metadata": {},
   "outputs": [],
   "source": []
  },
  {
   "cell_type": "markdown",
   "id": "4d370c86-2435-4034-84ee-d0aefb44ef04",
   "metadata": {},
   "source": [
    "Q2. What are the different methods used for Web Scraping?"
   ]
  },
  {
   "cell_type": "markdown",
   "id": "903b5a7d-50eb-4501-b13b-b38d5d6d5629",
   "metadata": {},
   "source": [
    "1.Human copy-and-paste.\n",
    "2.Text pattern matching.\n",
    "3.HTTP programming.\n",
    "4.HTML parsing.\n",
    "5.DOM parsing.\n",
    "6.Vertical aggregation.\n",
    "7.Semantic annotation recognizing.\n",
    "8.Computer vision web-page analysis"
   ]
  },
  {
   "cell_type": "code",
   "execution_count": null,
   "id": "5d950d74-60b1-491d-ac56-b244b683dcf1",
   "metadata": {},
   "outputs": [],
   "source": []
  },
  {
   "cell_type": "markdown",
   "id": "785b3fba-a474-408a-9de3-fee0a95a9dd6",
   "metadata": {},
   "source": [
    "Q3. What is Beautiful Soup? Why is it used?"
   ]
  },
  {
   "cell_type": "markdown",
   "id": "a44a2553-7a6c-438d-97bd-ab063c6f9564",
   "metadata": {},
   "source": [
    "Beautiful Soup is a Python library that is used for web scraping purposes to pull the data out of HTML and XML files. It creates a parse tree from page source code that can be used to extract data in a hierarchical and more readable manner."
   ]
  },
  {
   "cell_type": "markdown",
   "id": "fe98797b-3489-4e1b-80d1-5832958c556f",
   "metadata": {},
   "source": [
    "It is usually used in conjunction with urllib or the requests package in python in order to extract required information from a website represented by it’s url otherwise also known as Web-Scraping."
   ]
  },
  {
   "cell_type": "code",
   "execution_count": null,
   "id": "5050716d-0e9c-459d-96a1-1f9464d80cad",
   "metadata": {},
   "outputs": [],
   "source": []
  },
  {
   "cell_type": "markdown",
   "id": "ee3761f0-d654-472c-bd19-3f7655204d3c",
   "metadata": {},
   "source": [
    "Q4. Why is flask used in this Web Scraping project?"
   ]
  },
  {
   "cell_type": "markdown",
   "id": "50bb7da1-603b-4cfe-a52b-982a1f6ee7a4",
   "metadata": {},
   "source": [
    "Flask is a lightweight framework to build websites. We’ll use this to parse our collected data and display it as HTML in a new HTML file. The requests module allows us to send http requests to the website we want to scrape"
   ]
  },
  {
   "cell_type": "code",
   "execution_count": null,
   "id": "7eb7619e-0c33-4422-b782-441fc03630f6",
   "metadata": {},
   "outputs": [],
   "source": []
  },
  {
   "cell_type": "markdown",
   "id": "e6b25196-3a8f-40e0-8039-d14513064553",
   "metadata": {},
   "source": [
    "Q5. Write the names of AWS services used in this project. Also, explain the use of each service."
   ]
  },
  {
   "cell_type": "markdown",
   "id": "4f2cb2fe-1609-4fec-9cae-902ca4549b04",
   "metadata": {},
   "source": [
    "AWS stands for Amazon Web Services.\n",
    "The AWS service is provided by the Amazon that uses distributed IT infrastructure to provide different IT resources available on demand. It provides different services such as infrastructure as a service (IaaS), platform as a service (PaaS) and packaged software as a service (SaaS).\n",
    "Amazon launched AWS, a cloud computing platform to allow the different organizations to take advantage of reliable IT infrastructure."
   ]
  },
  {
   "cell_type": "markdown",
   "id": "e8e36361-559e-4db1-ad9f-1cc9e24dfbfb",
   "metadata": {},
   "source": [
    "SERVICES:-"
   ]
  },
  {
   "cell_type": "markdown",
   "id": "1a791d04-9419-4213-89d8-ad70857d1031",
   "metadata": {},
   "source": [
    "Infrastructure as a Service (IaaS):- It is the basic building block of cloud IT. It generally provides access to data storage space, networking features, and computer hardware(virtual or dedicated hardware). It is highly flexible and gives management controls over the IT resources to the developer. For example, VPC, EC2, EBS."
   ]
  },
  {
   "cell_type": "markdown",
   "id": "f7b6d77b-32af-42a1-bab1-dde999627701",
   "metadata": {},
   "source": [
    "Platform as a Service (PaaS): This is a type of service where AWS manages the underlying infrastructure (usually operating system and hardware). This helps the developer to be more efficient as they do not have to worry about undifferentiated heavy lifting required for running the applications such as capacity planning, software maintenance, resource procurement, patching, etc., and focus more on deployment and management of the applications. For example, RDS, EMR, ElasticSearch."
   ]
  },
  {
   "cell_type": "markdown",
   "id": "eabb60db-cb16-4646-8fa8-cd5ce47dbb39",
   "metadata": {},
   "source": [
    "Software as a Service(SaaS): It is a complete product that usually runs on a browser. It primarily refers to end-user applications. It is run and managed by the service provider. The end-user only has to worry about the application of the software suitable to its needs. For example, Saleforce.com, Web-based email, Office 365 ."
   ]
  },
  {
   "cell_type": "code",
   "execution_count": null,
   "id": "0093de85-e459-49a8-81e1-1490550c5512",
   "metadata": {},
   "outputs": [],
   "source": []
  }
 ],
 "metadata": {
  "kernelspec": {
   "display_name": "Python 3 (ipykernel)",
   "language": "python",
   "name": "python3"
  },
  "language_info": {
   "codemirror_mode": {
    "name": "ipython",
    "version": 3
   },
   "file_extension": ".py",
   "mimetype": "text/x-python",
   "name": "python",
   "nbconvert_exporter": "python",
   "pygments_lexer": "ipython3",
   "version": "3.10.8"
  }
 },
 "nbformat": 4,
 "nbformat_minor": 5
}
