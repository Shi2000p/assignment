{
 "cells": [
  {
   "cell_type": "markdown",
   "id": "6a9f4d2d-4c13-4eae-90f9-c8105d483d49",
   "metadata": {},
   "source": [
    "Q1. Create a Pandas Series that contains the following data: 4, 8, 15, 16, 23, and 42. Then, print the series."
   ]
  },
  {
   "cell_type": "code",
   "execution_count": 6,
   "id": "77b8dbc9-4978-44c6-8fd3-c88ad32a9e81",
   "metadata": {},
   "outputs": [],
   "source": [
    "import pandas as pd"
   ]
  },
  {
   "cell_type": "code",
   "execution_count": 7,
   "id": "0776e642-07c1-4d7e-81ac-1deb0622949b",
   "metadata": {},
   "outputs": [
    {
     "name": "stdout",
     "output_type": "stream",
     "text": [
      "Requirement already satisfied: pandas in /opt/conda/lib/python3.10/site-packages (1.5.2)\n",
      "Requirement already satisfied: python-dateutil>=2.8.1 in /opt/conda/lib/python3.10/site-packages (from pandas) (2.8.2)\n",
      "Requirement already satisfied: pytz>=2020.1 in /opt/conda/lib/python3.10/site-packages (from pandas) (2022.6)\n",
      "Requirement already satisfied: numpy>=1.21.0 in /opt/conda/lib/python3.10/site-packages (from pandas) (1.23.5)\n",
      "Requirement already satisfied: six>=1.5 in /opt/conda/lib/python3.10/site-packages (from python-dateutil>=2.8.1->pandas) (1.16.0)\n",
      "Note: you may need to restart the kernel to use updated packages.\n"
     ]
    }
   ],
   "source": [
    "pip install pandas"
   ]
  },
  {
   "cell_type": "code",
   "execution_count": 3,
   "id": "9a5ce016-0282-4f6e-bd39-99e7776bb668",
   "metadata": {},
   "outputs": [
    {
     "name": "stdout",
     "output_type": "stream",
     "text": [
      "0     4\n",
      "1     8\n",
      "2    15\n",
      "3    16\n",
      "4    23\n",
      "5    42\n",
      "dtype: int64\n"
     ]
    }
   ],
   "source": [
    "data = [4,8,15,16,23,42]\n",
    "ser = pd.Series(data)\n",
    "print(ser)"
   ]
  },
  {
   "cell_type": "code",
   "execution_count": 4,
   "id": "4b15b418-1851-4fb5-9ee6-f0a0fd91eaad",
   "metadata": {},
   "outputs": [
    {
     "data": {
      "text/plain": [
       "pandas.core.series.Series"
      ]
     },
     "execution_count": 4,
     "metadata": {},
     "output_type": "execute_result"
    }
   ],
   "source": [
    "type(ser)"
   ]
  },
  {
   "cell_type": "markdown",
   "id": "0f458885-813c-45cf-8f7f-3355790f5840",
   "metadata": {},
   "source": [
    "Q2. Create a variable of list type containing 10 elements in it, and apply pandas.Series function on the\n",
    "variable print it."
   ]
  },
  {
   "cell_type": "code",
   "execution_count": 6,
   "id": "93c2542e-d06d-4208-9365-b1eaea80f2bc",
   "metadata": {},
   "outputs": [
    {
     "name": "stdout",
     "output_type": "stream",
     "text": [
      "0         1\n",
      "1         3\n",
      "2     23.43\n",
      "3    shivam\n",
      "4        20\n",
      "5    prachi\n",
      "6     akash\n",
      "7      3.54\n",
      "8    kavita\n",
      "9     bhanu\n",
      "dtype: object\n"
     ]
    }
   ],
   "source": [
    "list = [1,3,23.43,\"shivam\", 20 , \"prachi\", \"akash\" , 3.54, \"kavita\" , \"bhanu\"]\n",
    "var = pd.Series(list)\n",
    "print(var)"
   ]
  },
  {
   "cell_type": "code",
   "execution_count": null,
   "id": "0b15cfa7-111c-43a1-a705-6ced3bb5bccd",
   "metadata": {},
   "outputs": [],
   "source": []
  },
  {
   "cell_type": "markdown",
   "id": "ab21c248-9ec9-4393-a8c8-5bc9b5cb7227",
   "metadata": {},
   "source": [
    "Q3."
   ]
  },
  {
   "cell_type": "code",
   "execution_count": 7,
   "id": "1faff163-8ec1-4474-b8b7-6f5cb58426a5",
   "metadata": {},
   "outputs": [],
   "source": [
    "import csv"
   ]
  },
  {
   "cell_type": "code",
   "execution_count": 8,
   "id": "c5983a86-8edc-423d-9c18-14333f68417b",
   "metadata": {},
   "outputs": [],
   "source": [
    "data=[[\"Name\" , \"Age\" , \"Gender\"],\n",
    "      [\"Alice\" , 25 , \"female\"],\n",
    "      [\"Bob\" , 30 , \"male\"],\n",
    "      [\"claire\", 27 , \"female\"]\n",
    "]"
   ]
  },
  {
   "cell_type": "code",
   "execution_count": 9,
   "id": "4d9de11d-ef56-40da-8e1e-ac98c7365ee9",
   "metadata": {},
   "outputs": [],
   "source": [
    "with open(\"data.csv\" , \"w\") as f:\n",
    "    writer = csv.writer(f)\n",
    "    \n",
    "    for i in data:\n",
    "        writer.writerow(i)"
   ]
  },
  {
   "cell_type": "code",
   "execution_count": 11,
   "id": "2395e8ea-fcc0-44e9-8fe0-bf8cc9300874",
   "metadata": {},
   "outputs": [
    {
     "data": {
      "text/html": [
       "<div>\n",
       "<style scoped>\n",
       "    .dataframe tbody tr th:only-of-type {\n",
       "        vertical-align: middle;\n",
       "    }\n",
       "\n",
       "    .dataframe tbody tr th {\n",
       "        vertical-align: top;\n",
       "    }\n",
       "\n",
       "    .dataframe thead th {\n",
       "        text-align: right;\n",
       "    }\n",
       "</style>\n",
       "<table border=\"1\" class=\"dataframe\">\n",
       "  <thead>\n",
       "    <tr style=\"text-align: right;\">\n",
       "      <th></th>\n",
       "      <th>Name</th>\n",
       "      <th>Age</th>\n",
       "      <th>Gender</th>\n",
       "    </tr>\n",
       "  </thead>\n",
       "  <tbody>\n",
       "    <tr>\n",
       "      <th>0</th>\n",
       "      <td>Alice</td>\n",
       "      <td>25</td>\n",
       "      <td>female</td>\n",
       "    </tr>\n",
       "    <tr>\n",
       "      <th>1</th>\n",
       "      <td>Bob</td>\n",
       "      <td>30</td>\n",
       "      <td>male</td>\n",
       "    </tr>\n",
       "    <tr>\n",
       "      <th>2</th>\n",
       "      <td>claire</td>\n",
       "      <td>27</td>\n",
       "      <td>female</td>\n",
       "    </tr>\n",
       "  </tbody>\n",
       "</table>\n",
       "</div>"
      ],
      "text/plain": [
       "     Name  Age  Gender\n",
       "0   Alice   25  female\n",
       "1     Bob   30    male\n",
       "2  claire   27  female"
      ]
     },
     "execution_count": 11,
     "metadata": {},
     "output_type": "execute_result"
    }
   ],
   "source": [
    "pd.read_csv(\"data.csv\")"
   ]
  },
  {
   "cell_type": "code",
   "execution_count": 12,
   "id": "104e04b1-dd90-4b63-8aaa-8e81638eb6f2",
   "metadata": {},
   "outputs": [
    {
     "data": {
      "text/plain": [
       "pandas.core.frame.DataFrame"
      ]
     },
     "execution_count": 12,
     "metadata": {},
     "output_type": "execute_result"
    }
   ],
   "source": [
    "type(pd.read_csv(\"data.csv\"))"
   ]
  },
  {
   "cell_type": "code",
   "execution_count": 18,
   "id": "8df895a3-f811-4d07-b19c-77adbb3373cb",
   "metadata": {},
   "outputs": [
    {
     "name": "stdout",
     "output_type": "stream",
     "text": [
      "     name  Age  Gender\n",
      "0   Alice   25  female\n",
      "1     Bob   30    male\n",
      "2  claire   27  female\n"
     ]
    }
   ],
   "source": [
    "data={\n",
    "    \"name\" : [\"Alice\" , \"Bob\", \"claire\"],\n",
    "    \"Age\" : [25,30,27],\n",
    "    \"Gender\" : [\"female\" , \"male\" , \"female\"]\n",
    "    \n",
    "}\n",
    "\n",
    "df = pd.DataFrame(data)\n",
    "print(df)"
   ]
  },
  {
   "cell_type": "code",
   "execution_count": null,
   "id": "e8fe4431-381f-48f9-b3de-cea5cd56c92a",
   "metadata": {},
   "outputs": [],
   "source": []
  },
  {
   "cell_type": "markdown",
   "id": "e71aa8e0-8e69-4c89-a857-160a7ffa36bd",
   "metadata": {},
   "source": [
    "Q4. What is ‘DataFrame’ in pandas and how is it different from pandas.series? Explain with an example."
   ]
  },
  {
   "cell_type": "markdown",
   "id": "61d7827e-d57f-4735-9501-63cfd68909d9",
   "metadata": {},
   "source": [
    "DataFrame is two-dimensional size-mutable, potentially heterogeneous tabular data structure with labeled axes (rows and columns). A Data frame is a two-dimensional data structure, i.e., data is aligned in a tabular fashion in rows and columns. Pandas DataFrame consists of three principal components, the data, rows, and columns."
   ]
  },
  {
   "cell_type": "markdown",
   "id": "95fc2f65-d990-4282-995e-fa5f8879a1dc",
   "metadata": {},
   "source": [
    "DataFrames can be used to represent the following table that has rows and columns.\n",
    "EXAMPLE:-"
   ]
  },
  {
   "cell_type": "code",
   "execution_count": 19,
   "id": "6aa97c6c-7e0f-4df2-a1af-f4b788e9101c",
   "metadata": {},
   "outputs": [
    {
     "data": {
      "text/html": [
       "<div>\n",
       "<style scoped>\n",
       "    .dataframe tbody tr th:only-of-type {\n",
       "        vertical-align: middle;\n",
       "    }\n",
       "\n",
       "    .dataframe tbody tr th {\n",
       "        vertical-align: top;\n",
       "    }\n",
       "\n",
       "    .dataframe thead th {\n",
       "        text-align: right;\n",
       "    }\n",
       "</style>\n",
       "<table border=\"1\" class=\"dataframe\">\n",
       "  <thead>\n",
       "    <tr style=\"text-align: right;\">\n",
       "      <th></th>\n",
       "      <th>name</th>\n",
       "      <th>Age</th>\n",
       "      <th>Gender</th>\n",
       "    </tr>\n",
       "  </thead>\n",
       "  <tbody>\n",
       "    <tr>\n",
       "      <th>0</th>\n",
       "      <td>Alice</td>\n",
       "      <td>25</td>\n",
       "      <td>female</td>\n",
       "    </tr>\n",
       "    <tr>\n",
       "      <th>1</th>\n",
       "      <td>Bob</td>\n",
       "      <td>30</td>\n",
       "      <td>male</td>\n",
       "    </tr>\n",
       "    <tr>\n",
       "      <th>2</th>\n",
       "      <td>claire</td>\n",
       "      <td>27</td>\n",
       "      <td>female</td>\n",
       "    </tr>\n",
       "  </tbody>\n",
       "</table>\n",
       "</div>"
      ],
      "text/plain": [
       "     name  Age  Gender\n",
       "0   Alice   25  female\n",
       "1     Bob   30    male\n",
       "2  claire   27  female"
      ]
     },
     "execution_count": 19,
     "metadata": {},
     "output_type": "execute_result"
    }
   ],
   "source": [
    "df"
   ]
  },
  {
   "cell_type": "markdown",
   "id": "db1c52c7-8000-4fed-bb6f-6bb2c493e32c",
   "metadata": {},
   "source": [
    "A Series is a data structure representing a single row or column of a DataFrame. EXAMPLE:-"
   ]
  },
  {
   "cell_type": "code",
   "execution_count": 20,
   "id": "1a630ff9-f638-426f-96e6-b17d077a0747",
   "metadata": {},
   "outputs": [
    {
     "data": {
      "text/plain": [
       "0     Alice\n",
       "1       Bob\n",
       "2    claire\n",
       "Name: name, dtype: object"
      ]
     },
     "execution_count": 20,
     "metadata": {},
     "output_type": "execute_result"
    }
   ],
   "source": [
    "df[\"name\"]"
   ]
  },
  {
   "cell_type": "code",
   "execution_count": 21,
   "id": "634f8e54-bd94-4bb4-8bef-c5c5ae2aa719",
   "metadata": {},
   "outputs": [
    {
     "data": {
      "text/plain": [
       "pandas.core.series.Series"
      ]
     },
     "execution_count": 21,
     "metadata": {},
     "output_type": "execute_result"
    }
   ],
   "source": [
    "type(df[\"name\"])"
   ]
  },
  {
   "cell_type": "code",
   "execution_count": null,
   "id": "44048df1-5501-4495-b18f-50bebd1086fc",
   "metadata": {},
   "outputs": [],
   "source": []
  },
  {
   "cell_type": "markdown",
   "id": "7136ff61-716f-47b8-9111-61be50f3e0de",
   "metadata": {},
   "source": [
    "Q5. What are some common functions you can use to manipulate data in a Pandas DataFrame? Can\n",
    "you give an example of when you might use one of these functions?"
   ]
  },
  {
   "cell_type": "markdown",
   "id": "e6c3d1f2-0824-4aad-912e-7ac7baf1c0d3",
   "metadata": {},
   "source": [
    "The data in the real world is very unpleasant & unordered so by performing certain operations we can make data understandable based on one’s requirements, this process of converting unordered data into meaningful information can be done by data manipulation."
   ]
  },
  {
   "cell_type": "markdown",
   "id": "622ecfcf-ea13-4998-8ae7-e1b58edaa03f",
   "metadata": {},
   "source": [
    "WE ARE MANIPULATE DATA THROUGH CSV"
   ]
  },
  {
   "cell_type": "code",
   "execution_count": 23,
   "id": "da7ab103-a160-4b21-a032-6a20060517f1",
   "metadata": {},
   "outputs": [],
   "source": [
    "import csv"
   ]
  },
  {
   "cell_type": "code",
   "execution_count": 24,
   "id": "e9fc613e-ec40-45a5-8e0b-f92aa3f38011",
   "metadata": {},
   "outputs": [],
   "source": [
    "data2=[[\"Name\" , \"Age\" , \"Gender\", \"email_id\"],\n",
    "      [\"jorg\" , 25 , \"female\" , \"jorg@gmail.com\"],\n",
    "      [\"Bob\" , 30 , \"male\" , \"bob@gmail.com\"],\n",
    "      [\"charly\", 27 , \"female\" , \"charly@gmail.com\"]\n",
    "]"
   ]
  },
  {
   "cell_type": "code",
   "execution_count": 25,
   "id": "2325581f-b5ef-421d-aa82-162e4de701d5",
   "metadata": {},
   "outputs": [],
   "source": [
    "with open(\"data2.csv\" , \"w\") as f:\n",
    "    writer = csv.writer(f)\n",
    "    \n",
    "    for i in data:\n",
    "        writer.writerow(i)"
   ]
  },
  {
   "cell_type": "code",
   "execution_count": 26,
   "id": "37f1619b-32e4-496e-bca1-a2e3593b9c23",
   "metadata": {},
   "outputs": [
    {
     "data": {
      "text/html": [
       "<div>\n",
       "<style scoped>\n",
       "    .dataframe tbody tr th:only-of-type {\n",
       "        vertical-align: middle;\n",
       "    }\n",
       "\n",
       "    .dataframe tbody tr th {\n",
       "        vertical-align: top;\n",
       "    }\n",
       "\n",
       "    .dataframe thead th {\n",
       "        text-align: right;\n",
       "    }\n",
       "</style>\n",
       "<table border=\"1\" class=\"dataframe\">\n",
       "  <thead>\n",
       "    <tr style=\"text-align: right;\">\n",
       "      <th></th>\n",
       "      <th>Name</th>\n",
       "      <th>Age</th>\n",
       "      <th>Gender</th>\n",
       "      <th>email_id</th>\n",
       "    </tr>\n",
       "  </thead>\n",
       "  <tbody>\n",
       "    <tr>\n",
       "      <th>0</th>\n",
       "      <td>jorg</td>\n",
       "      <td>25</td>\n",
       "      <td>female</td>\n",
       "      <td>jorg@gmail.com</td>\n",
       "    </tr>\n",
       "    <tr>\n",
       "      <th>1</th>\n",
       "      <td>Bob</td>\n",
       "      <td>30</td>\n",
       "      <td>male</td>\n",
       "      <td>bob@gmail.com</td>\n",
       "    </tr>\n",
       "    <tr>\n",
       "      <th>2</th>\n",
       "      <td>charly</td>\n",
       "      <td>27</td>\n",
       "      <td>female</td>\n",
       "      <td>charly@gmail.com</td>\n",
       "    </tr>\n",
       "  </tbody>\n",
       "</table>\n",
       "</div>"
      ],
      "text/plain": [
       "     Name  Age  Gender          email_id\n",
       "0    jorg   25  female    jorg@gmail.com\n",
       "1     Bob   30    male     bob@gmail.com\n",
       "2  charly   27  female  charly@gmail.com"
      ]
     },
     "execution_count": 26,
     "metadata": {},
     "output_type": "execute_result"
    }
   ],
   "source": [
    "pd.read_csv(\"data2.csv\")"
   ]
  },
  {
   "cell_type": "code",
   "execution_count": null,
   "id": "2929f76b-0075-4829-8bcf-0c4465cd137a",
   "metadata": {},
   "outputs": [],
   "source": []
  },
  {
   "cell_type": "markdown",
   "id": "30d2f3dc-0ed3-489e-9442-3fdfe4e655ea",
   "metadata": {},
   "source": [
    "Q6. Which of the following is mutable in nature Series, DataFrame, Panel?"
   ]
  },
  {
   "cell_type": "markdown",
   "id": "11274200-95dc-4a58-875e-70370a922c53",
   "metadata": {},
   "source": [
    "DataFrame and Panel are Mutable in nature."
   ]
  },
  {
   "cell_type": "markdown",
   "id": "7f4ad40b-ca2e-4bd7-ad3a-9b0cba9d29ed",
   "metadata": {},
   "source": [
    "Pandas in Python deals with three data structures namely\n",
    "\n",
    "Series, \n",
    "DataFrame, \n",
    "Panel,"
   ]
  },
  {
   "cell_type": "markdown",
   "id": "2ae43402-ff0a-4607-a0e7-12fbaca3eb4d",
   "metadata": {},
   "source": [
    "Series in Pandas:- Series is a one-dimensional array with homogeneous data.  All the elements of series should be of same data type"
   ]
  },
  {
   "cell_type": "markdown",
   "id": "9303d443-08d2-471b-968f-c4088f000137",
   "metadata": {},
   "source": [
    "Key Features of a Series:\n",
    "\n",
    "1.Homogeneous data, \n",
    "\n",
    "2.size Immutable –size cannot be changed, \n",
    "\n",
    "3.Values of Data Mutable,"
   ]
  },
  {
   "cell_type": "markdown",
   "id": "c4014351-49f6-4560-bdd4-94c7f6ef9e5e",
   "metadata": {},
   "source": [
    "DataFrame in pandas:-- DataFrame is a two-dimensional array with heterogeneous data, usually represented in the tabular format. The data is represented in rows and columns. Each column represents an attribute and each row represents a person."
   ]
  },
  {
   "cell_type": "markdown",
   "id": "8173e039-945c-4953-8fbe-2c101c6f2464",
   "metadata": {},
   "source": [
    "Key Features of a DataFrame:\n",
    "    \n",
    "1.Heterogeneous data\n",
    "\n",
    "2.Size Mutable\n",
    "\n",
    "3.Data Mutable"
   ]
  },
  {
   "cell_type": "markdown",
   "id": "1a4366b6-a7d5-440e-82b9-8791005d6847",
   "metadata": {},
   "source": [
    "Panel in pandas:-- Panel is a three-dimensional data structure with heterogeneous data."
   ]
  },
  {
   "cell_type": "markdown",
   "id": "33987995-2f5b-4977-a2ea-f33a09e860da",
   "metadata": {},
   "source": [
    "Key Features of a Panel:\n",
    "    \n",
    "1.Heterogeneous data\n",
    "\n",
    "2.Size Mutable\n",
    "\n",
    "3.Data Mutable"
   ]
  },
  {
   "cell_type": "code",
   "execution_count": null,
   "id": "da0016cb-1a29-4223-896a-69799fe3ef74",
   "metadata": {},
   "outputs": [],
   "source": []
  },
  {
   "cell_type": "markdown",
   "id": "1be1ed24-15e1-44f2-b4e7-aa3cb697e4ea",
   "metadata": {},
   "source": [
    "Q7. Create a DataFrame using multiple Series. Explain with an example."
   ]
  },
  {
   "cell_type": "code",
   "execution_count": 30,
   "id": "8ccae8f2-8536-4e93-b967-a2642869be24",
   "metadata": {},
   "outputs": [
    {
     "name": "stdout",
     "output_type": "stream",
     "text": [
      "       name  costprice  id_no       mail_prod  markedprice\n",
      "0  skincare       2200     23   ski@gmail.com        25000\n",
      "1      hair       2300     35  hair@gmail.com        30000\n",
      "2      body       5000     96  body@gmail.com        75000\n"
     ]
    }
   ],
   "source": [
    "product={\n",
    "    \"name\" : [\"skincare\" , \"hair\" , \"body\"],\n",
    "    \"costprice\" : [2200 , 2300 ,5000 ],\n",
    "    \"id_no\" : [23 , 35 , 96],\n",
    "    \"mail_prod\" : [\"ski@gmail.com\" , \"hair@gmail.com\" , \"body@gmail.com\"],\n",
    "    \"markedprice\" : [25000 ,30000 , 75000 ]\n",
    "    \n",
    "}\n",
    "\n",
    "df=pd.DataFrame(product)\n",
    "print(df)"
   ]
  },
  {
   "cell_type": "code",
   "execution_count": 31,
   "id": "870177b6-78da-4be8-b686-d77a4b2f66db",
   "metadata": {},
   "outputs": [
    {
     "data": {
      "text/html": [
       "<div>\n",
       "<style scoped>\n",
       "    .dataframe tbody tr th:only-of-type {\n",
       "        vertical-align: middle;\n",
       "    }\n",
       "\n",
       "    .dataframe tbody tr th {\n",
       "        vertical-align: top;\n",
       "    }\n",
       "\n",
       "    .dataframe thead th {\n",
       "        text-align: right;\n",
       "    }\n",
       "</style>\n",
       "<table border=\"1\" class=\"dataframe\">\n",
       "  <thead>\n",
       "    <tr style=\"text-align: right;\">\n",
       "      <th></th>\n",
       "      <th>name</th>\n",
       "      <th>costprice</th>\n",
       "      <th>markedprice</th>\n",
       "    </tr>\n",
       "  </thead>\n",
       "  <tbody>\n",
       "    <tr>\n",
       "      <th>0</th>\n",
       "      <td>skincare</td>\n",
       "      <td>2200</td>\n",
       "      <td>25000</td>\n",
       "    </tr>\n",
       "    <tr>\n",
       "      <th>1</th>\n",
       "      <td>hair</td>\n",
       "      <td>2300</td>\n",
       "      <td>30000</td>\n",
       "    </tr>\n",
       "    <tr>\n",
       "      <th>2</th>\n",
       "      <td>body</td>\n",
       "      <td>5000</td>\n",
       "      <td>75000</td>\n",
       "    </tr>\n",
       "  </tbody>\n",
       "</table>\n",
       "</div>"
      ],
      "text/plain": [
       "       name  costprice  markedprice\n",
       "0  skincare       2200        25000\n",
       "1      hair       2300        30000\n",
       "2      body       5000        75000"
      ]
     },
     "execution_count": 31,
     "metadata": {},
     "output_type": "execute_result"
    }
   ],
   "source": [
    "df[[\"name\" , \"costprice\" , \"markedprice\"]]"
   ]
  },
  {
   "cell_type": "code",
   "execution_count": null,
   "id": "26e8a84c-92ef-466f-9ee2-8f1221feccd7",
   "metadata": {},
   "outputs": [],
   "source": []
  }
 ],
 "metadata": {
  "kernelspec": {
   "display_name": "Python 3 (ipykernel)",
   "language": "python",
   "name": "python3"
  },
  "language_info": {
   "codemirror_mode": {
    "name": "ipython",
    "version": 3
   },
   "file_extension": ".py",
   "mimetype": "text/x-python",
   "name": "python",
   "nbconvert_exporter": "python",
   "pygments_lexer": "ipython3",
   "version": "3.10.8"
  }
 },
 "nbformat": 4,
 "nbformat_minor": 5
}
