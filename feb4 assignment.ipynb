{
 "cells": [
  {
   "cell_type": "code",
   "execution_count": 1,
   "id": "82bb2532-d3e7-40bf-b3f8-77da0c4c24f8",
   "metadata": {},
   "outputs": [],
   "source": [
    "                               #4 feb assignment"
   ]
  },
  {
   "cell_type": "code",
   "execution_count": 52,
   "id": "7b036797-203d-4d0b-ade5-914e8b03c629",
   "metadata": {},
   "outputs": [],
   "source": [
    "#Q1.\n",
    "s=[('Sachin Tendulkar', 34357), ('Ricky Ponting', 27483), ('Jack Kallis', 25534), ('Virat Kohli', 24936)]"
   ]
  },
  {
   "cell_type": "code",
   "execution_count": 67,
   "id": "83ae6993-abb8-4001-89d1-22731f0f8a52",
   "metadata": {},
   "outputs": [],
   "source": [
    "s.sort(key = lambda a: a[1] )"
   ]
  },
  {
   "cell_type": "code",
   "execution_count": 68,
   "id": "89fc6fb9-0b58-4be6-b9c3-eb6fd4272cc1",
   "metadata": {},
   "outputs": [
    {
     "data": {
      "text/plain": [
       "[('Virat Kohli', 24936),\n",
       " ('Jack Kallis', 25534),\n",
       " ('Ricky Ponting', 27483),\n",
       " ('Sachin Tendulkar', 34357)]"
      ]
     },
     "execution_count": 68,
     "metadata": {},
     "output_type": "execute_result"
    }
   ],
   "source": [
    "s"
   ]
  },
  {
   "cell_type": "code",
   "execution_count": 69,
   "id": "74570ba9-0821-4481-b380-58418d8f6c43",
   "metadata": {},
   "outputs": [
    {
     "data": {
      "text/plain": [
       "[1, 4, 9, 16, 25, 36, 49, 64, 81, 100]"
      ]
     },
     "execution_count": 69,
     "metadata": {},
     "output_type": "execute_result"
    }
   ],
   "source": [
    "#Q2.\n",
    "l=[1, 2, 3, 4, 5, 6, 7, 8, 9, 10]\n",
    "list(map(lambda x : x**2 , l))"
   ]
  },
  {
   "cell_type": "code",
   "execution_count": 90,
   "id": "234be2af-e991-4264-a91e-be788adb511e",
   "metadata": {},
   "outputs": [
    {
     "data": {
      "text/plain": [
       "('1', '2', '3', '4', '5', '6', '7', '8', '9', '10')"
      ]
     },
     "execution_count": 90,
     "metadata": {},
     "output_type": "execute_result"
    }
   ],
   "source": [
    "#Q3.\n",
    "l=[1, 2, 3, 4, 5, 6, 7, 8, 9,10] \n",
    "tuple(list(map(lambda x: str(x) , l )))\n"
   ]
  },
  {
   "cell_type": "code",
   "execution_count": 91,
   "id": "a3637adc-79b7-4604-8946-b3caf8d55c36",
   "metadata": {},
   "outputs": [],
   "source": [
    "#Q4."
   ]
  },
  {
   "cell_type": "code",
   "execution_count": 105,
   "id": "87efa9a7-c602-4971-987c-694c6978bde5",
   "metadata": {},
   "outputs": [],
   "source": [
    "a=list(range(1,26,1))"
   ]
  },
  {
   "cell_type": "code",
   "execution_count": 106,
   "id": "6126241e-8a72-49df-800a-525f20378899",
   "metadata": {},
   "outputs": [
    {
     "data": {
      "text/plain": [
       "[1,\n",
       " 2,\n",
       " 3,\n",
       " 4,\n",
       " 5,\n",
       " 6,\n",
       " 7,\n",
       " 8,\n",
       " 9,\n",
       " 10,\n",
       " 11,\n",
       " 12,\n",
       " 13,\n",
       " 14,\n",
       " 15,\n",
       " 16,\n",
       " 17,\n",
       " 18,\n",
       " 19,\n",
       " 20,\n",
       " 21,\n",
       " 22,\n",
       " 23,\n",
       " 24,\n",
       " 25]"
      ]
     },
     "execution_count": 106,
     "metadata": {},
     "output_type": "execute_result"
    }
   ],
   "source": [
    "a"
   ]
  },
  {
   "cell_type": "code",
   "execution_count": 107,
   "id": "dda126f8-a7bc-410e-9f9a-fb877de89065",
   "metadata": {},
   "outputs": [],
   "source": [
    "from functools import reduce"
   ]
  },
  {
   "cell_type": "code",
   "execution_count": 108,
   "id": "c1f6a2c8-af49-4d8c-a14f-877114954acb",
   "metadata": {},
   "outputs": [
    {
     "data": {
      "text/plain": [
       "15511210043330985984000000"
      ]
     },
     "execution_count": 108,
     "metadata": {},
     "output_type": "execute_result"
    }
   ],
   "source": [
    "reduce(lambda x,y : x*y , a)"
   ]
  },
  {
   "cell_type": "code",
   "execution_count": 109,
   "id": "54ec7ed7-d56e-430e-9876-1db13b9536d9",
   "metadata": {},
   "outputs": [],
   "source": [
    "#Q5."
   ]
  },
  {
   "cell_type": "code",
   "execution_count": 115,
   "id": "6ace52e0-e8fc-465a-b5f5-94e57c53ad99",
   "metadata": {},
   "outputs": [],
   "source": [
    "l=[2, 3, 6, 9, 27, 60, 90, 120, 55, 46]"
   ]
  },
  {
   "cell_type": "code",
   "execution_count": 121,
   "id": "661170a6-b822-4fed-ba65-dd68120d2def",
   "metadata": {},
   "outputs": [
    {
     "data": {
      "text/plain": [
       "[2, 6, 60, 90, 120, 46]"
      ]
     },
     "execution_count": 121,
     "metadata": {},
     "output_type": "execute_result"
    }
   ],
   "source": [
    "list(filter(lambda x : x % 2==0 , l))"
   ]
  },
  {
   "cell_type": "code",
   "execution_count": 4,
   "id": "caa32d8a-0370-47a3-a1ac-9f2d7a5e6007",
   "metadata": {},
   "outputs": [],
   "source": [
    "l=[2, 3, 6, 9, 27, 60, 90, 120, 55, 46]"
   ]
  },
  {
   "cell_type": "code",
   "execution_count": 5,
   "id": "c4f49526-1a18-459e-aa08-f3d983c6682d",
   "metadata": {},
   "outputs": [
    {
     "data": {
      "text/plain": [
       "[3, 9, 27, 55]"
      ]
     },
     "execution_count": 5,
     "metadata": {},
     "output_type": "execute_result"
    }
   ],
   "source": [
    "list(filter(lambda x : x % 2!=0 , l))"
   ]
  },
  {
   "cell_type": "code",
   "execution_count": 6,
   "id": "c11b44f6-b563-45f8-a5e1-af6caa919a85",
   "metadata": {},
   "outputs": [],
   "source": [
    "#Q6."
   ]
  },
  {
   "cell_type": "code",
   "execution_count": 7,
   "id": "69a917a5-ef0c-4621-9dbb-93468c693d80",
   "metadata": {},
   "outputs": [],
   "source": [
    "p=['python', 'php', 'aba', 'radar', 'level']"
   ]
  },
  {
   "cell_type": "code",
   "execution_count": 20,
   "id": "a446872c-c52a-454d-80fd-6558a3c92c70",
   "metadata": {},
   "outputs": [
    {
     "data": {
      "text/plain": [
       "['php', 'aba', 'radar', 'level']"
      ]
     },
     "execution_count": 20,
     "metadata": {},
     "output_type": "execute_result"
    }
   ],
   "source": [
    "list(filter(lambda x : x== ''.join(reversed(x)) , p ))"
   ]
  }
 ],
 "metadata": {
  "kernelspec": {
   "display_name": "Python 3 (ipykernel)",
   "language": "python",
   "name": "python3"
  },
  "language_info": {
   "codemirror_mode": {
    "name": "ipython",
    "version": 3
   },
   "file_extension": ".py",
   "mimetype": "text/x-python",
   "name": "python",
   "nbconvert_exporter": "python",
   "pygments_lexer": "ipython3",
   "version": "3.10.8"
  }
 },
 "nbformat": 4,
 "nbformat_minor": 5
}
