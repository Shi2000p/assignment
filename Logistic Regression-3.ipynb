{
 "cells": [
  {
   "cell_type": "markdown",
   "id": "1f08549c-3230-4f07-bd84-da65fcac8a59",
   "metadata": {},
   "source": [
    "# Logistic Regression-3"
   ]
  },
  {
   "cell_type": "markdown",
   "id": "1385ef4a-f215-45a9-81c2-101417f84bc9",
   "metadata": {},
   "source": [
    "## Q1. Explain the concept of precision and recall in the context of classification models."
   ]
  },
  {
   "cell_type": "markdown",
   "id": "5642bdfa-2467-4027-9ec1-037d4ba2463e",
   "metadata": {},
   "source": [
    "Precision and recall are core concepts in machine learning that provide an essential basis for evaluating classification models’ performance. Precision refers to the proportion of true positive predictions among all positive predictions. Recall refers to the proportion of true positive predictions among actual positives. Precision is the fraction of relevant instances among all retrieved instances, while recall is the fraction of the total amount of relevant instances that were actually retrieved."
   ]
  },
  {
   "cell_type": "markdown",
   "id": "3b0b61fd-afe7-48ef-b212-a92afd9f7ec5",
   "metadata": {},
   "source": [
    "## Q2. What is the F1 score and how is it calculated? How is it different from precision and recall?"
   ]
  },
  {
   "cell_type": "markdown",
   "id": "9a7ab565-e37e-4186-9142-4e5ec68c0ed8",
   "metadata": {},
   "source": [
    "F1 score is a measure of a model’s accuracy on a dataset. It is used to evaluate binary classification systems, which classify examples into ‘positive’ or ‘negative’. F1 score is the harmonic mean of precision and recall. Precision is the ratio of the number of shared words to the total number of words in the prediction, and recall is the ratio of the number of shared words to the total number of words in the ground truth. F1 score becomes high only when both precision and recall are high.\n",
    "\n",
    "F1 score is a machine learning evaluation metric that measures a model’s accuracy. It combines the precision and recall scores of a model.The accuracy metric computes how many times a model made a correct prediction across the entire dataset. This can be a reliable metric only if the dataset is class-balanced; that is, each class of the dataset has the same number of samples.\n",
    "\n",
    "Precision measures how many of the “positive” predictions made by the model were correct.\n",
    "\n",
    "Recall measures how many of the positive class samples present in the dataset were correctly identified by the model.\n",
    "\n",
    "The F1 score combines precision and recall using their harmonic mean, and maximizing the F1 score implies simultaneously maximizing both precision and recall. Thus, the F1 score has become the choice of researchers for evaluating their models in conjunction with accuracy.\n"
   ]
  },
  {
   "cell_type": "markdown",
   "id": "465b81af-52c4-4d57-bad5-fb45334446aa",
   "metadata": {},
   "source": [
    "## Q3. What is ROC and AUC, and how are they used to evaluate the performance of classification models?"
   ]
  },
  {
   "cell_type": "markdown",
   "id": "52b9e4ac-f374-4b9d-a57d-77a5ed931719",
   "metadata": {},
   "source": [
    "ROC (Receiver Operating Characteristic) is a probability curve that plots the TPR (True Positive Rate) against FPR (False Positive Rate). AUC (Area Under the Curve) is the measure of separability, it shows how much our model is capable to distinguish between classes. The AUC indicates how well the model distinguishes between positive and negative classes. The greater the AUC, the better.\n",
    "\n",
    "TPR and FPR\n",
    "This is the most common definition that you would have encountered when you would Google AUC-ROC. Basically, the ROC curve is a graph that shows the performance of a classification model at all possible thresholds( threshold is a particular value beyond which you say a point belongs to a particular class). The curve is plotted between two parameters\n",
    "\n",
    "TPR – True Positive Rate\n",
    "FPR – False Positive Rate\n",
    "\n",
    "True Positive: Actual Positive and Predicted as Positive\n",
    "True Negative: Actual Negative and Predicted as Negative\n",
    "False Positive(Type I Error): Actual Negative but predicted as Positive\n",
    "False Negative(Type II Error): Actual Positive but predicted as Negative\n",
    "\n",
    "AUC measures how well a model is able to distinguish between classes.\n"
   ]
  },
  {
   "cell_type": "markdown",
   "id": "76f6944f-3a49-491d-9c9f-8d14a02f49e3",
   "metadata": {},
   "source": [
    "## Q4. How do you choose the best metric to evaluate the performance of a classification model?"
   ]
  },
  {
   "cell_type": "markdown",
   "id": "1c3cf15f-0bd9-4b38-b993-43bf90111cc5",
   "metadata": {},
   "source": [
    "The choice of the metric have to be based on factors such as the type of classification. Is it binary, multiclass or multilabel classification. And how we want our model to perform. Do we want to penalize more false negatives or false positives, or do we want to have a balance between them.To understand the strategy very well, we first need to understand how the different metrics are calculated and see their limitation.\n",
    "\n",
    "Accuracy:-Here we are focusing on True positives and True negatives, we actually want to know how many predictions our model got right. In other terms it is .\n",
    "number of correct predictions / total number of predictions\n",
    "\n",
    "Recall:- The recall actually computes the True positives rate, it computes the amount of correctly predicted positives from all actual positives (TP + FN).\n",
    "\n",
    "Precision:- While the recall sees the ratio of correctly predicted as positives from all positives, the precision gives the ratio of correctly predicted as positives from all predicted positives.\n",
    "\n",
    "F1 score:- The f1 score is the metric you want to use if you are seeking a balance between false negatives error and false positives error. The f1 score is a balance between precision and recall because it has a good value when both metrics are good and close to each other. If one of the metrics is very high and the other is very small the f1 will be very small, you can see it in the formula for a recall=1 and precision=0 we will have and f1 of 0. This actually the reason behind choosing the harmonic mean, and not a simple average of precision and recall.\n",
    "\n"
   ]
  },
  {
   "cell_type": "markdown",
   "id": "7cacdbd5-fb8c-4846-b4b4-9d6f841ea609",
   "metadata": {},
   "source": [
    "## Q5.What is multiclass classification and how is it different from binary classification?"
   ]
  },
  {
   "cell_type": "markdown",
   "id": "bde6c360-e23e-43fa-b61c-a75377defaf9",
   "metadata": {},
   "source": [
    "Binary Classification:-\n",
    "\n",
    "It is a process or task of classification, in which a given data is being classified into two classes.  It’s basically a kind of prediction about which of two groups the thing belongs to. \n",
    "Let us suppose, two emails are sent , one is sent by an insurance company that keeps sending their ads, and the other is from  bank regarding  credit card bill. The email service provider will classify the two emails, the first one will be sent to the spam folder and the second one will be kept in the primary one. \n",
    "This process is known as binary classification, as there are two discrete classes, one is spam and the other is primary. So, this is a problem of binary classification.\n",
    "\n",
    "Term Related to binary classification:- \n",
    " \n",
    "1.PRECISION :-Precision in binary classification (Yes/No) refers to a model's ability to correctly interpret positive    observations.\n",
    "\n",
    "2.RECALL :-The recall is also known as sensitivity.  In binary classification (Yes/No) recall is used to measure how “sensitive” the classifier is to detecting positive cases.\n",
    "\n",
    "3.F1 SCORE :-The F1 score can be thought of as a weighted average of precision and recall, with the best value being 1 and the worst being 0. Precision and recall also make an equal contribution to the F1 ranking. \n",
    "\n",
    "\n",
    "\n",
    "\n",
    "Algorithms used :- The most popular algorithms used by the binary classification are-\n",
    "\n",
    "1.Logistic Regression\n",
    "\n",
    "2.k-Nearest Neighbors\n",
    "\n",
    "3.Decision Trees\n",
    "\n",
    "4.Support Vector Machine\n",
    "\n",
    "5.Naive Bayes\n",
    "\n",
    "\n",
    "\n",
    "Multiclass Classification :-\n",
    " \n",
    "Multi-class classification is the task of classifying elements into different classes. Unlike binary, it doesn’t restrict itself to any number of classes. \n",
    "Examples of multi-class classification are \n",
    "\n",
    "classification of news in different categories, \n",
    "\n",
    "classifying books according to the subject, \n",
    "\n",
    "classifying students according to their streams etc.\n",
    "\n",
    "Algorithms used :-Popular algorithms that can be used for multi-class classification include:\n",
    "\n",
    "1.k-Nearest Neighbors\n",
    "\n",
    "2.Decision Trees\n",
    "\n",
    "3.Naive Bayes\n",
    "\n",
    "4.Random Forest.\n",
    "\n",
    "5.Gradient Boosting\n"
   ]
  },
  {
   "cell_type": "markdown",
   "id": "30aaa6c5-37b6-4470-99b1-54bfcf6366b9",
   "metadata": {},
   "source": [
    "## Q6. Explain how logistic regression can be used for multiclass classification."
   ]
  },
  {
   "cell_type": "markdown",
   "id": "b1e51835-9b4a-4b9e-bc87-c3ed36b47868",
   "metadata": {},
   "source": [
    "Logistic regression is a supervised machine learning algorithm mainly used for classification tasks where the goal is to predict the probability that an instance of belonging to a given class. It is used for classification algorithms its name is logistic regression. it’s referred to as regression because it takes the output of the linear regression function as input and uses a sigmoid function to estimate the probability for the given class. \n",
    "\n",
    "logistic regression is used to do binary classification. Multiclass classification with logistic regression can be done either through the one-vs-rest scheme in which for each class a binary classification problem of data belonging or not to that class is done, or changing the loss function to cross- entropy loss.\n",
    "\n",
    "In the multi class logistic regression python Logistic Regression class, multi-class classification can be enabled/disabled by passing values to the argument called ‘‘multi_class’ in the constructor of the algorithm.  In the multiclass case, the training algorithm uses the one-vs-rest (OvR) scheme if the ‘multi_class’ option is set to ‘ovr’ and uses the cross-entropy loss if the ‘multi_class’ option is set to ‘multinomial’. (Currently, the ‘multinomial’ option is supported only by the ‘lbfgs’, ‘sag’ and ‘newton-cg’ solvers.) By default, multi_class is set to ’ovr’."
   ]
  },
  {
   "cell_type": "markdown",
   "id": "80291f6e-fa15-4035-adb6-d265c836677a",
   "metadata": {},
   "source": [
    "## Q7. What is model deployment and why is it important?"
   ]
  },
  {
   "cell_type": "markdown",
   "id": "25a757f2-edea-4102-a230-125e08480554",
   "metadata": {},
   "source": [
    "Model deployment is the process of putting machine learning models into production. This makes the model’s predictions available to users, developers or systems, so they can make business decisions based on data, interact with their application (like recognize a face in an image) and so on.\n",
    "\n",
    "Only models that are deployed to production provide business value to customers and users. Anywhere between 60%-90% of models don’t make it to production, according to various analyses. Deploying machine learning models makes them available for decision-making, predictions and insights, depending on the specific end-product."
   ]
  },
  {
   "cell_type": "markdown",
   "id": "8e4972e0-7038-4596-8a48-65f2043df8f9",
   "metadata": {},
   "source": [
    "## Q8. Explain how multi-cloud platforms are used for model deployment."
   ]
  },
  {
   "cell_type": "markdown",
   "id": "f5792010-f40c-430a-b211-4fcf5cb42ea6",
   "metadata": {},
   "source": [
    "Multi cloud is the use of two or more cloud providers together, they might be public, private or a mix of both to achieve the organization’s goals. Basically it is the use of various types of cloud operators to have more features and increase their organization’s flexibility which also covers the disadvantages of the individual platforms.Multi cloud allows one organization to use most appropriate and most beneficial cloud options based on their business requirement that may be public or private cloud for each separate application. \n",
    "\n",
    "Service providers used in multiload computing :-\n",
    "Amazon Web Services (AWS)\n",
    "\n",
    "Microsoft Azure\n",
    "\n",
    "Google cloud\n",
    "\n",
    "IBM\n",
    "\n",
    "Oracle etc."
   ]
  },
  {
   "cell_type": "markdown",
   "id": "a839fb34-9bfe-4902-9c0d-b53758cd6827",
   "metadata": {},
   "source": [
    "## Q9. Discuss the benefits and challenges of deploying machine learning models in a multi-cloudenvironment."
   ]
  },
  {
   "cell_type": "markdown",
   "id": "a76e3ea6-b2bd-448b-b22c-afd00096192a",
   "metadata": {},
   "source": [
    "1.The cloud’s pay-per-use model is good for bursty AI or machine learning workloads.\n",
    "\n",
    "2.The cloud makes it easy for enterprises to experiment with machine learning capabilities and scale up as projects go into production and demand increases.\n",
    "\n",
    "3.The cloud makes intelligent capabilities accessible without requiring advanced skills in artificial intelligence or data science.AWS, Microsoft Azure, and Google Cloud Platform offer many machine learning options that don’t require deep knowledge of AI, machine learning theory, or a team of data scientists.\n",
    "\n",
    "4.Innovation :–Multi cloud strategy have the flexibility to rapidly innovate while also taking advantage of the best features every cloud provider gives. This helps the development teams to focus on innovating without the limitation of the providers holding them back.\n",
    "\n",
    "5.Risk Mitigation :–Cloud providers have different locations across the globe that can be picked to host the cloud environment.\n",
    "\n",
    "6.Vendor lock-in :–By taking service from multiple cloud providers the risk of getting stuck on a single provider in case the provider goes out of business or change their term of service.\n",
    "\n",
    "7.Power Negotiation :–If there are multiple providers it is easy to negotiate with the providers for better pricing.\n",
    "\n",
    "8.Latency –Being able to select which region to host your cloud environment is very useful as the organization can pick regions which will have less traffic and provide lower latency to the customer."
   ]
  },
  {
   "cell_type": "code",
   "execution_count": null,
   "id": "f2409923-31ee-453c-9a4a-1d715c1ffe1d",
   "metadata": {},
   "outputs": [],
   "source": []
  }
 ],
 "metadata": {
  "kernelspec": {
   "display_name": "Python 3 (ipykernel)",
   "language": "python",
   "name": "python3"
  },
  "language_info": {
   "codemirror_mode": {
    "name": "ipython",
    "version": 3
   },
   "file_extension": ".py",
   "mimetype": "text/x-python",
   "name": "python",
   "nbconvert_exporter": "python",
   "pygments_lexer": "ipython3",
   "version": "3.10.8"
  }
 },
 "nbformat": 4,
 "nbformat_minor": 5
}
