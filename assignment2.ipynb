{
 "cells": [
  {
   "cell_type": "code",
   "execution_count": 1,
   "id": "6cd1c304-f8bd-42e3-bccc-cabbf59c8fe3",
   "metadata": {},
   "outputs": [],
   "source": [
    "                                          #assignment-2\n",
    "    "
   ]
  },
  {
   "cell_type": "code",
   "execution_count": 30,
   "id": "19393a92-e7d5-421f-a422-4d67b7a5bca9",
   "metadata": {},
   "outputs": [
    {
     "name": "stdin",
     "output_type": "stream",
     "text": [
      "enter your marks 92\n"
     ]
    },
    {
     "name": "stdout",
     "output_type": "stream",
     "text": [
      "a\n"
     ]
    }
   ],
   "source": [
    "#Q1.\n",
    "marks = int(input('enter your marks'))\n",
    "if marks > 90 :\n",
    "    print('A')\n",
    "elif marks >80:\n",
    "    print('B')\n",
    "elif marks >=60 :\n",
    "    print('C')\n",
    "else :\n",
    "    print('D')\n",
    "    "
   ]
  },
  {
   "cell_type": "code",
   "execution_count": 33,
   "id": "0ab15c5c-df22-4f70-8669-ddf274c0cc36",
   "metadata": {},
   "outputs": [
    {
     "name": "stdin",
     "output_type": "stream",
     "text": [
      "enter your marks 88\n"
     ]
    },
    {
     "name": "stdout",
     "output_type": "stream",
     "text": [
      "B\n"
     ]
    }
   ],
   "source": [
    "marks = int(input('enter your marks'))\n",
    "if marks > 90 :\n",
    "    print('A')\n",
    "elif marks >80:\n",
    "    print('B')\n",
    "elif marks >=60 :\n",
    "    print('C')\n",
    "else :\n",
    "    print('D')\n",
    "    "
   ]
  },
  {
   "cell_type": "code",
   "execution_count": 34,
   "id": "3c8f06fc-e995-4364-877c-648bb33b9ec2",
   "metadata": {},
   "outputs": [
    {
     "name": "stdin",
     "output_type": "stream",
     "text": [
      "enter your marks 66\n"
     ]
    },
    {
     "name": "stdout",
     "output_type": "stream",
     "text": [
      "C\n"
     ]
    }
   ],
   "source": [
    "marks = int(input('enter your marks'))\n",
    "if marks > 90 :\n",
    "    print('A')\n",
    "elif marks >80:\n",
    "    print('B')\n",
    "elif marks >=60 :\n",
    "    print('C')\n",
    "else :\n",
    "    print('D')\n",
    "    "
   ]
  },
  {
   "cell_type": "code",
   "execution_count": 35,
   "id": "743db019-82a9-47fd-8de6-a72bbe04064b",
   "metadata": {},
   "outputs": [
    {
     "name": "stdin",
     "output_type": "stream",
     "text": [
      "enter your marks 45\n"
     ]
    },
    {
     "name": "stdout",
     "output_type": "stream",
     "text": [
      "D\n"
     ]
    }
   ],
   "source": [
    "marks = int(input('enter your marks'))\n",
    "if marks > 90 :\n",
    "    print('A')\n",
    "elif marks >80:\n",
    "    print('B')\n",
    "elif marks >=60 :\n",
    "    print('C')\n",
    "else :\n",
    "    print('D')\n",
    "    "
   ]
  },
  {
   "cell_type": "code",
   "execution_count": 40,
   "id": "a7135377-0757-446f-8c1f-b895a57cd94e",
   "metadata": {},
   "outputs": [
    {
     "name": "stdin",
     "output_type": "stream",
     "text": [
      "enter your price in rs 120000\n"
     ]
    },
    {
     "name": "stdout",
     "output_type": "stream",
     "text": [
      "TAX = 15%\n"
     ]
    }
   ],
   "source": [
    "#Q2.\n",
    "price = int(input('enter your price in rs'))\n",
    "if price >100000 :\n",
    "    print('TAX = 15%')\n",
    "elif price >50000:\n",
    "    print('TAX = 10%')\n",
    "else :\n",
    "    print('TAX = 5%')"
   ]
  },
  {
   "cell_type": "code",
   "execution_count": 42,
   "id": "b486de09-0ef0-4eaa-a24e-b4738e699d43",
   "metadata": {},
   "outputs": [
    {
     "name": "stdin",
     "output_type": "stream",
     "text": [
      "enter your price in rs 55000\n"
     ]
    },
    {
     "name": "stdout",
     "output_type": "stream",
     "text": [
      "TAX = 10%\n"
     ]
    }
   ],
   "source": [
    "price = int(input('enter your price in rs'))\n",
    "if price >100000 :\n",
    "    print('TAX = 15%')\n",
    "elif price >50000:\n",
    "    print('TAX = 10%')\n",
    "else :\n",
    "    print('TAX = 5%')"
   ]
  },
  {
   "cell_type": "code",
   "execution_count": 43,
   "id": "ccfcd6d3-8744-4ef6-916b-1304d4ca637a",
   "metadata": {},
   "outputs": [
    {
     "name": "stdin",
     "output_type": "stream",
     "text": [
      "enter your price in rs 42000\n"
     ]
    },
    {
     "name": "stdout",
     "output_type": "stream",
     "text": [
      "TAX = 5%\n"
     ]
    }
   ],
   "source": [
    "price = int(input('enter your price in rs'))\n",
    "if price >100000 :\n",
    "    print('TAX = 15%')\n",
    "elif price >50000:\n",
    "    print('TAX = 10%')\n",
    "else :\n",
    "    print('TAX = 5%')"
   ]
  },
  {
   "cell_type": "code",
   "execution_count": 56,
   "id": "9bc1a269-120d-4c2d-8ccf-bfe61517cbd9",
   "metadata": {},
   "outputs": [
    {
     "name": "stdin",
     "output_type": "stream",
     "text": [
      "enter city name delhi\n"
     ]
    },
    {
     "name": "stdout",
     "output_type": "stream",
     "text": [
      "Red Fort\n"
     ]
    }
   ],
   "source": [
    "#Q3.\n",
    "city = input('enter city name')\n",
    "if city == ('delhi') :\n",
    "    print('Red Fort')\n",
    "elif city == ('agra') :\n",
    "    print('Taj Mahal')\n",
    "elif city == ('jaipur') :\n",
    "    print('jal mahal')"
   ]
  },
  {
   "cell_type": "code",
   "execution_count": 57,
   "id": "b864abc1-5c97-4f10-9fbe-bb2c3d21a304",
   "metadata": {},
   "outputs": [
    {
     "name": "stdin",
     "output_type": "stream",
     "text": [
      "enter city name agra\n"
     ]
    },
    {
     "name": "stdout",
     "output_type": "stream",
     "text": [
      "Taj Mahal\n"
     ]
    }
   ],
   "source": [
    "city = input('enter city name')\n",
    "if city == ('delhi') :\n",
    "    print('Red Fort')\n",
    "elif city == ('agra') :\n",
    "    print('Taj Mahal')\n",
    "elif city == ('jaipur') :\n",
    "    print('jal mahal')"
   ]
  },
  {
   "cell_type": "code",
   "execution_count": 58,
   "id": "34867cb8-4c62-4399-a9dc-7a516a97340c",
   "metadata": {},
   "outputs": [
    {
     "name": "stdin",
     "output_type": "stream",
     "text": [
      "enter city name jaipur\n"
     ]
    },
    {
     "name": "stdout",
     "output_type": "stream",
     "text": [
      "jal mahal\n"
     ]
    }
   ],
   "source": [
    "city = input('enter city name')\n",
    "if city == ('delhi') :\n",
    "    print('Red Fort')\n",
    "elif city == ('agra') :\n",
    "    print('Taj Mahal')\n",
    "elif city == ('jaipur') :\n",
    "    print('jal mahal')"
   ]
  },
  {
   "cell_type": "code",
   "execution_count": 64,
   "id": "510a52db-8121-4377-93e0-a9fea81c3da9",
   "metadata": {},
   "outputs": [
    {
     "ename": "SyntaxError",
     "evalue": "invalid syntax (1280993723.py, line 4)",
     "output_type": "error",
     "traceback": [
      "\u001b[0;36m  Cell \u001b[0;32mIn[64], line 4\u001b[0;36m\u001b[0m\n\u001b[0;31m    elif number = <10\u001b[0m\n\u001b[0m    ^\u001b[0m\n\u001b[0;31mSyntaxError\u001b[0m\u001b[0;31m:\u001b[0m invalid syntax\n"
     ]
    }
   ],
   "source": [
    "#Q3\n",
    "number = int(input('enter your given number'))\n",
    "if number == div(3) :\n",
    "    elif number = <10"
   ]
  },
  {
   "cell_type": "code",
   "execution_count": 65,
   "id": "31e9d219-6bda-4cf0-bf0a-2b8ae2112ebd",
   "metadata": {},
   "outputs": [
    {
     "name": "stdout",
     "output_type": "stream",
     "text": [
      "20\n",
      "22\n",
      "24\n",
      "26\n",
      "28\n",
      "30\n",
      "32\n",
      "34\n",
      "36\n",
      "38\n",
      "40\n",
      "42\n",
      "44\n",
      "46\n",
      "48\n",
      "50\n"
     ]
    }
   ],
   "source": [
    "#Q5.\n",
    "#The while loop is used when you need your logic repeated until a certain condition is met.\n",
    "#If you dont have a tidy data structure to iterate through, or you dont have a generator function that drives your processing, you must use while.\n",
    "a = 20\n",
    "\n",
    "while a <=50 :\n",
    "    print(a)\n",
    "    a = a+2"
   ]
  },
  {
   "cell_type": "code",
   "execution_count": 1,
   "id": "b1987ba8-4dfb-4d02-bf8d-6c827c45473f",
   "metadata": {},
   "outputs": [
    {
     "name": "stdin",
     "output_type": "stream",
     "text": [
      "enter your number 22\n"
     ]
    },
    {
     "name": "stdout",
     "output_type": "stream",
     "text": [
      "22 * 1 = 22\n",
      "22 * 2 = 22\n",
      "22 * 3 = 22\n",
      "22 * 4 = 22\n",
      "22 * 5 = 22\n",
      "22 * 6 = 22\n",
      "22 * 7 = 22\n",
      "22 * 8 = 22\n",
      "22 * 9 = 22\n",
      "22 * 10 = 22\n",
      "22 * 11 = 22\n",
      "22 * 12 = 22\n"
     ]
    }
   ],
   "source": [
    "#Q6.\n",
    "n = int(input(\"enter your number\"))\n",
    "i = 1\n",
    "\n",
    "while i <=12 :\n",
    "    result = n*1\n",
    "    print (n, \"*\" , i, \"=\" , result)\n",
    "    i =i +1 "
   ]
  },
  {
   "cell_type": "code",
   "execution_count": 2,
   "id": "8440db30-c7fd-4f6c-9156-082d8367494b",
   "metadata": {},
   "outputs": [
    {
     "name": "stdout",
     "output_type": "stream",
     "text": [
      "10\n",
      "9\n",
      "8\n",
      "7\n",
      "6\n",
      "5\n",
      "4\n",
      "3\n",
      "2\n",
      "1\n"
     ]
    }
   ],
   "source": [
    "#Q7.\n",
    "i = 10\n",
    "while i>0:\n",
    "    print(i)\n",
    "    i= i -1"
   ]
  },
  {
   "cell_type": "code",
   "execution_count": null,
   "id": "c140007e-c91b-40c7-aa85-699f77066794",
   "metadata": {},
   "outputs": [],
   "source": []
  },
  {
   "cell_type": "code",
   "execution_count": null,
   "id": "bea93ebe-37e6-4e53-9604-f157ae74f0ad",
   "metadata": {},
   "outputs": [],
   "source": []
  }
 ],
 "metadata": {
  "kernelspec": {
   "display_name": "Python 3 (ipykernel)",
   "language": "python",
   "name": "python3"
  },
  "language_info": {
   "codemirror_mode": {
    "name": "ipython",
    "version": 3
   },
   "file_extension": ".py",
   "mimetype": "text/x-python",
   "name": "python",
   "nbconvert_exporter": "python",
   "pygments_lexer": "ipython3",
   "version": "3.10.8"
  }
 },
 "nbformat": 4,
 "nbformat_minor": 5
}
