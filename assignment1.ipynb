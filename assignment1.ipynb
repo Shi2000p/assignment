{
 "cells": [
  {
   "cell_type": "code",
   "execution_count": null,
   "id": "97f855d5-f40b-49ee-abf9-80fafb427064",
   "metadata": {},
   "outputs": [],
   "source": [
    "assignment:-\n",
    "\n",
    "1.Guido van Rossum.\n",
    "\n",
    "2.Python is a high-level programming language that can be used to build a variety of applications. \n",
    "    It is commonly used in software development projects because it provides a high level of abstraction and \n",
    "    allows developers to focus on the business logic of the application instead of the details of the underlying system.\n",
    "    \n",
    "3.yes,Python is case sensitive when dealing with Identifiers.\n",
    "\n",
    "4.correct extention of python file is = Py\n",
    "\n",
    "5. python language is interpreted. But that is half correct the python program is first compiled and then interpreted.\n",
    "The compilation part is hidden from the programmer thus, many programmers believe that it is an interpreted language.\n",
    "The compilation part is done first when we execute our code and this will generate byte code and internally this byte code gets converted by the python virtual machine(p.v.m) \n",
    "according to the underlying platform(machine+operating system).\n",
    "\n",
    "6.Indentation is used to define a block of code in python,and it is done with whitespace.\n",
    "\n",
    "7.a single-line comment by adding a single (#)\n",
    "    character before any sentence.\n",
    "    \n",
    "8.we are currenty working on = Sys.version \n",
    "    \n",
    "9.lambda\n",
    "\n",
    "10.Pip Installs Packages is a tool used to install and manage python package dependencies\n",
    " \n",
    "11. abs(x),Returns the absolute value of a number.\n",
    "    all(x), That means it will return true if all variables in the iterator are true.\n",
    "    any(x),that returns False only if all the variables present in an iterable are false. \n",
    "    bin(),This function returns the binary value of a number.\n",
    "    round(),It gives a roundoff value for a number.\n",
    "  \n",
    "12.79 characters.\n",
    "\n",
    "13.VERSATILITY, Python is the best option for programmers because of its versatile features. \n",
    "    using Python to build applications allows exploring various sectors without hassles.     \n",
    "   OPEN SOURCE,Not every technology is free in the world. Some of them demand a considerable amount of payment to use regularly.\n",
    "\n",
    "14. everything in Python is an object means dynamic memory allocation inspires the Python memory management.\n",
    "    Python memory manager automatically vanishes when the object is no longer in use.\n",
    "    Heap data structure is used for dynamic memory which is not related to naming counterparts.\n",
    "    \n",
    "15.    \n",
    "\n"
   ]
  }
 ],
 "metadata": {
  "kernelspec": {
   "display_name": "Python 3 (ipykernel)",
   "language": "python",
   "name": "python3"
  },
  "language_info": {
   "codemirror_mode": {
    "name": "ipython",
    "version": 3
   },
   "file_extension": ".py",
   "mimetype": "text/x-python",
   "name": "python",
   "nbconvert_exporter": "python",
   "pygments_lexer": "ipython3",
   "version": "3.10.8"
  }
 },
 "nbformat": 4,
 "nbformat_minor": 5
}
