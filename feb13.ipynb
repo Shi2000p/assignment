{
 "cells": [
  {
   "cell_type": "markdown",
   "id": "b0490e9f-14b2-44a5-a9f3-e7b64c019007",
   "metadata": {},
   "source": [
    "Q1. Explain why we have to use the Exception class while creating a Custom Exception."
   ]
  },
  {
   "cell_type": "markdown",
   "id": "19a618e4-a602-4d60-8e82-7a82d8a9fd70",
   "metadata": {},
   "source": [
    "When creating a custom exception in Python, it is best practice to inherit from the built-in Exception class. This is because the Exception class provides important functionality that is necessary for proper error handling, such as support for the try-except statement and the ability to access the error message and traceback.\n",
    "\n",
    "Inheriting from the Exception class also ensures that your custom exception is compatible with the built-in error handling mechanisms in Python, such as the raise statement and logging modules. By following this convention, your code will be more consistent and easier to understand for other developers who are familiar with Python's error handling mechanisms.\n",
    "\n",
    "Additionally, by inheriting from the Exception class, your custom exception can take advantage of the existing methods and attributes that are available to all exceptions, such as __str__ and args, which make it easy to customize the error message and provide additional information about the error."
   ]
  },
  {
   "cell_type": "markdown",
   "id": "d7795651-d6dd-492d-8db1-28d5dadb8d72",
   "metadata": {},
   "source": [
    "Q2.Write a python program to print Python Exception Hierarchy."
   ]
  },
  {
   "cell_type": "markdown",
   "id": "12b73039-1fac-457c-9670-169c0c4ad0ee",
   "metadata": {},
   "source": [
    "Q3.What errors are defined in the ArithmeticError class?Explain any two with an example."
   ]
  },
  {
   "cell_type": "markdown",
   "id": "79cb2431-c484-4d45-9934-d6401a158c49",
   "metadata": {},
   "source": [
    "ArithmeticError is the base class for all arithmetic-related errors\n",
    "The ArithmeticError consists of three exceptions. ZeroDivisionError FloatingPointError OverFlowError"
   ]
  },
  {
   "cell_type": "code",
   "execution_count": 4,
   "id": "7a69e606-709b-4360-86c1-0a0ad503f12d",
   "metadata": {},
   "outputs": [
    {
     "name": "stdout",
     "output_type": "stream",
     "text": [
      "division by zero\n"
     ]
    }
   ],
   "source": [
    "#zerodivision error\n",
    "a=10\n",
    "b=0\n",
    "try:\n",
    "    c=a/b\n",
    "    print(c)\n",
    "except ZeroDivisionError as e:\n",
    "    print(e)\n",
    "    "
   ]
  },
  {
   "cell_type": "code",
   "execution_count": 16,
   "id": "6c80a48c-45b2-414a-a91f-ecc7dc456bea",
   "metadata": {},
   "outputs": [
    {
     "name": "stdout",
     "output_type": "stream",
     "text": [
      "3.3333333333333335\n"
     ]
    }
   ],
   "source": [
    "#flotting point error\n",
    "a=10\n",
    "b=3\n",
    "try:\n",
    "    c=a/b\n",
    "    print(c)\n",
    "except FloatingPointError as e :\n",
    "    print(e)"
   ]
  },
  {
   "cell_type": "markdown",
   "id": "735eb3cb-4abd-476f-acab-75eb5def325c",
   "metadata": {},
   "source": [
    "Q4.Why LookupError class is used? Explain with an example KeyError and IndexError."
   ]
  },
  {
   "cell_type": "markdown",
   "id": "e86b65c8-7e4a-4851-a862-b5b6e75d17d5",
   "metadata": {},
   "source": [
    "The LookupError exception in Python forms the base class for all exceptions that are raised when an index or a key is not found for a sequence or dictionary respectively. You can use LookupError exception class to handle both IndexError and KeyError exception classes."
   ]
  },
  {
   "cell_type": "code",
   "execution_count": 18,
   "id": "86bf7e5e-2625-401d-a1ca-03952488bea9",
   "metadata": {},
   "outputs": [
    {
     "name": "stdout",
     "output_type": "stream",
     "text": [
      "'sun1'\n"
     ]
    }
   ],
   "source": [
    "try:\n",
    "    d={\"sun\" : \"light\" , 12 : [12,24,36]}\n",
    "    print(d[\"sun1\"])\n",
    "except KeyError as e:\n",
    "    print(e)\n",
    "    "
   ]
  },
  {
   "cell_type": "code",
   "execution_count": 20,
   "id": "edc664a2-3687-4728-854e-aab85be44389",
   "metadata": {},
   "outputs": [
    {
     "name": "stdout",
     "output_type": "stream",
     "text": [
      "list index out of range\n"
     ]
    }
   ],
   "source": [
    "try:\n",
    "    l=[1,2,3,4]\n",
    "    print(l[5])\n",
    "except IndexError as e:\n",
    "    print(e)"
   ]
  },
  {
   "cell_type": "markdown",
   "id": "19ce7990-cc00-4db9-a234-8414031a4baa",
   "metadata": {},
   "source": [
    "Q5. Explain ImportError. What is ModuleNotFoundError?"
   ]
  },
  {
   "cell_type": "markdown",
   "id": "cc4a3045-d92d-4e64-b61f-a94b7bf88900",
   "metadata": {},
   "source": [
    "In Python, when we want to include the module contents in the program then we have to import these specific modules in the program. So to do this we use “import” keyword such as import statement with the module name. When writing this statement and the specified module is not written properly or the imported module is not found in the Python library then the Python interpreter throws an error known as ImportError."
   ]
  },
  {
   "cell_type": "code",
   "execution_count": 21,
   "id": "afce2429-9c09-4df9-b543-a522612896c0",
   "metadata": {},
   "outputs": [
    {
     "name": "stdout",
     "output_type": "stream",
     "text": [
      "No module named 'books'\n"
     ]
    }
   ],
   "source": [
    "try:\n",
    "    import books\n",
    "except ImportError as e:\n",
    "    print(e)"
   ]
  },
  {
   "cell_type": "markdown",
   "id": "2b5a5dbc-a6ba-495a-a18b-bbeed2242f96",
   "metadata": {},
   "source": [
    "A ModuleNotFoundError is raised when Python cannot successfully import a module.\n",
    "ModuleNotFoundErrors come up in user-defined modules. Often, this error is caused by importing files relatively when doing so is not allowed."
   ]
  },
  {
   "cell_type": "markdown",
   "id": "abb86655-3f72-452a-9f35-da6a9aa8ffcd",
   "metadata": {},
   "source": [
    "Q6. List down some best practices for exception handling in python."
   ]
  },
  {
   "cell_type": "code",
   "execution_count": null,
   "id": "c0c74e05-6f06-417c-80ef-171fec960236",
   "metadata": {},
   "outputs": [],
   "source": [
    "1. Document All Exceptions Thrown by a Function\n",
    "2. Don’t Swallow the Exception\n",
    "3. Catch Specific Exceptions\n",
    "4. Always Clean Up Resources in a Finally Block\n",
    "5. Avoid Raising Generic Exceptions\n"
   ]
  }
 ],
 "metadata": {
  "kernelspec": {
   "display_name": "Python 3 (ipykernel)",
   "language": "python",
   "name": "python3"
  },
  "language_info": {
   "codemirror_mode": {
    "name": "ipython",
    "version": 3
   },
   "file_extension": ".py",
   "mimetype": "text/x-python",
   "name": "python",
   "nbconvert_exporter": "python",
   "pygments_lexer": "ipython3",
   "version": "3.10.8"
  }
 },
 "nbformat": 4,
 "nbformat_minor": 5
}
