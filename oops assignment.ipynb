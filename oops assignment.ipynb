{
 "cells": [
  {
   "cell_type": "code",
   "execution_count": 1,
   "id": "049f838b-f1bf-4cc3-bc34-d52cedf184fb",
   "metadata": {},
   "outputs": [],
   "source": [
    "                                    #oops assignment "
   ]
  },
  {
   "cell_type": "code",
   "execution_count": 5,
   "id": "f320b4b3-73ed-4728-9016-e02f90d02379",
   "metadata": {},
   "outputs": [],
   "source": [
    "#Q1 :-Explain Class and Object with respect to Object-Oriented Programming. Give a suitable example.\n",
    "\n",
    "#=> # Class is a detailed description, the definition, and the template of what an object will be. But it is not the object itself. \n",
    "#Also, what we call, a class is the building block that leads to Object-Oriented Programming.\n",
    "#It is a user-defined data type, that holds its own data members and member functions, which can be accessed and used by creating an instance of that class. It is the blueprint of any object. \n",
    "#Once we have written a class and defined it, we can use it to create as many objects based on that class as we want.\n",
    "#Object is an instance of a class. All data members and member functions of the class can be accessed with the help of objects.\n",
    "#When a class is defined, no memory is allocated, but memory is allocated when it is instantiated (i.e. an object is created)"
   ]
  },
  {
   "cell_type": "code",
   "execution_count": 7,
   "id": "072ae995-7e3e-479a-8bef-dede2853078f",
   "metadata": {},
   "outputs": [],
   "source": [
    "class product :\n",
    " \n",
    "    def __init__(self, product_number , product_code ,product_mail ) :\n",
    "        self.product_number = product_number\n",
    "        self.product_code = product_code\n",
    "        self.product_mail = product_mail\n",
    "        \n",
    "    def return_product_detail(self):\n",
    "        return self.product_code,self.product_number,self.product_mail\n",
    "        "
   ]
  },
  {
   "cell_type": "code",
   "execution_count": 8,
   "id": "56c28593-8750-4a28-bf25-0335a5f3df65",
   "metadata": {},
   "outputs": [],
   "source": [
    "luxsoap = product(204, 223344 , \"lux@gmail\")"
   ]
  },
  {
   "cell_type": "code",
   "execution_count": 15,
   "id": "9a909cc7-014a-49aa-8329-862994d9a40e",
   "metadata": {},
   "outputs": [
    {
     "data": {
      "text/plain": [
       "(223344, 204, 'lux@gmail')"
      ]
     },
     "execution_count": 15,
     "metadata": {},
     "output_type": "execute_result"
    }
   ],
   "source": [
    "luxsoap.return_product_detail()"
   ]
  },
  {
   "cell_type": "code",
   "execution_count": 17,
   "id": "036dd993-84ef-42c6-bec6-968fbb61cda4",
   "metadata": {},
   "outputs": [
    {
     "data": {
      "text/plain": [
       "223344"
      ]
     },
     "execution_count": 17,
     "metadata": {},
     "output_type": "execute_result"
    }
   ],
   "source": [
    "luxsoap.product_code"
   ]
  },
  {
   "cell_type": "code",
   "execution_count": 19,
   "id": "beb7c72b-c511-4f31-ae5d-12129d48bb2b",
   "metadata": {},
   "outputs": [],
   "source": [
    "#Q2. Name the four pillars of OOPs.\n",
    "\n",
    "#=># Abstraction\n",
    "   #Encapsulation\n",
    "    #Inheritance\n",
    "   #Polymorphism"
   ]
  },
  {
   "cell_type": "code",
   "execution_count": 20,
   "id": "64b933bf-9742-4f8f-8851-49bbfd956786",
   "metadata": {},
   "outputs": [],
   "source": [
    "#Q3.Explain why the __init__() function is used. Give a suitable example.\n",
    "\n",
    "#=> All classes have a function called __init__ (), which is always executed when the class is being initiated. \n",
    "#Use the __init__ () function to assign values to object properties, or other operations that are necessary to do when the object is being created\n",
    "\n",
    "#example:-"
   ]
  },
  {
   "cell_type": "code",
   "execution_count": 28,
   "id": "d10ad61d-d67b-4c3b-a02b-75efa1867cbe",
   "metadata": {},
   "outputs": [],
   "source": [
    "class student :\n",
    "    \n",
    "    def __init__(self,age,dob):\n",
    "        self.age =age\n",
    "        self.dob = dob\n",
    "        \n",
    "    def return_student_detail(self):\n",
    "        return self.age,self.dob\n",
    "      \n",
    "    "
   ]
  },
  {
   "cell_type": "code",
   "execution_count": 29,
   "id": "244e117b-ecdc-4e31-be3c-7ec4fe087f39",
   "metadata": {},
   "outputs": [],
   "source": [
    "ram = student(24,1262000)"
   ]
  },
  {
   "cell_type": "code",
   "execution_count": 32,
   "id": "2b45fc53-77a6-4382-af33-d61550da33fc",
   "metadata": {},
   "outputs": [
    {
     "data": {
      "text/plain": [
       "(24, 1262000)"
      ]
     },
     "execution_count": 32,
     "metadata": {},
     "output_type": "execute_result"
    }
   ],
   "source": [
    "ram.return_student_detail()"
   ]
  },
  {
   "cell_type": "code",
   "execution_count": 33,
   "id": "052f3c43-c1a3-432f-914d-b4c8edb928a8",
   "metadata": {},
   "outputs": [],
   "source": [
    "#Q4. Why self is used in OOPs?\n",
    "# self ,is the instance object automatically passed to the class instance's method when called, to identify\n",
    "#the instance that called it. \" self \" is used to access other attributes or methods of the object from inside the method."
   ]
  },
  {
   "cell_type": "code",
   "execution_count": 2,
   "id": "a787168e-d26b-40fc-b010-f71bb0ff5016",
   "metadata": {},
   "outputs": [],
   "source": [
    "#Q5. What is inheritance? Give an example for each type of inheritance.\n",
    "\n",
    "#=>#One of the core concepts in object-oriented programming (OOP) languages is inheritance.\n",
    "#It is a mechanism that allows you to create a hierarchy of classes that share a set of properties and methods by deriving a class from another class.\n",
    "#Inheritance is the capability of one class to derive or inherit the properties from another class. "
   ]
  },
  {
   "cell_type": "code",
   "execution_count": 3,
   "id": "a79f5e5d-d34f-439c-a0cc-91d3674be4e9",
   "metadata": {},
   "outputs": [],
   "source": [
    "#types of inheritance\n",
    "  # 1> single inheritance......."
   ]
  },
  {
   "cell_type": "code",
   "execution_count": 4,
   "id": "9eb4858c-a036-40bc-998b-0b79a83d85f4",
   "metadata": {},
   "outputs": [],
   "source": [
    "class parent :\n",
    "    def fun1(self):\n",
    "        print(\"this is parent class\")"
   ]
  },
  {
   "cell_type": "code",
   "execution_count": 5,
   "id": "98108867-0e2f-450f-86f7-078efb44215b",
   "metadata": {},
   "outputs": [],
   "source": [
    "class child (parent):\n",
    "    def fun2(self):\n",
    "        print(\"this is child class\")"
   ]
  },
  {
   "cell_type": "code",
   "execution_count": 6,
   "id": "763c3e2e-e6ca-41d9-83a7-67526f7aa1ca",
   "metadata": {},
   "outputs": [],
   "source": [
    "object = child()"
   ]
  },
  {
   "cell_type": "code",
   "execution_count": 7,
   "id": "12b81a2b-224f-4f93-8596-c8dbb4eb13f3",
   "metadata": {},
   "outputs": [
    {
     "name": "stdout",
     "output_type": "stream",
     "text": [
      "this is parent class\n"
     ]
    }
   ],
   "source": [
    "object.fun1()"
   ]
  },
  {
   "cell_type": "code",
   "execution_count": 8,
   "id": "33e27d13-83d9-4934-be31-76c7aa03f7b4",
   "metadata": {},
   "outputs": [
    {
     "name": "stdout",
     "output_type": "stream",
     "text": [
      "this is child class\n"
     ]
    }
   ],
   "source": [
    "object.fun2()"
   ]
  },
  {
   "cell_type": "code",
   "execution_count": null,
   "id": "83a21674-999b-4786-ab11-934a0f0f9f38",
   "metadata": {},
   "outputs": [],
   "source": []
  },
  {
   "cell_type": "code",
   "execution_count": 9,
   "id": "fe7445ec-95b9-4bbf-9be8-e1151ed181f7",
   "metadata": {},
   "outputs": [],
   "source": [
    "#2> multiple inheritance....."
   ]
  },
  {
   "cell_type": "code",
   "execution_count": 20,
   "id": "fcdd73fb-573d-45c5-9731-3ff8df0164fa",
   "metadata": {},
   "outputs": [],
   "source": [
    "class class1:\n",
    "    def father(self):\n",
    "        return \"this is father class\""
   ]
  },
  {
   "cell_type": "code",
   "execution_count": 22,
   "id": "6d4212e3-3bad-4b47-b64b-e813db3eeeb1",
   "metadata": {},
   "outputs": [],
   "source": [
    "class class2:\n",
    "    def mother(self):\n",
    "        return \"this is mother class\""
   ]
  },
  {
   "cell_type": "code",
   "execution_count": 23,
   "id": "607a9c07-df56-466b-bfe1-37076a9e2897",
   "metadata": {},
   "outputs": [],
   "source": [
    "class class3(class1 , class2):\n",
    "    pass"
   ]
  },
  {
   "cell_type": "code",
   "execution_count": 24,
   "id": "75210224-ddf0-4b4f-a1cc-745444195060",
   "metadata": {},
   "outputs": [],
   "source": [
    "object = class3()"
   ]
  },
  {
   "cell_type": "code",
   "execution_count": 27,
   "id": "6e6823b1-8fe3-469a-8368-ace5cfb0d7b1",
   "metadata": {},
   "outputs": [
    {
     "data": {
      "text/plain": [
       "'this is father class'"
      ]
     },
     "execution_count": 27,
     "metadata": {},
     "output_type": "execute_result"
    }
   ],
   "source": [
    "object.father()"
   ]
  },
  {
   "cell_type": "code",
   "execution_count": 26,
   "id": "6b5a8790-96f2-4ec7-bf45-b9baccaf7a45",
   "metadata": {},
   "outputs": [
    {
     "data": {
      "text/plain": [
       "'this is mother class'"
      ]
     },
     "execution_count": 26,
     "metadata": {},
     "output_type": "execute_result"
    }
   ],
   "source": [
    "object.mother()"
   ]
  },
  {
   "cell_type": "code",
   "execution_count": null,
   "id": "37c3f485-d504-478a-b2eb-2a07f50da4c3",
   "metadata": {},
   "outputs": [],
   "source": []
  },
  {
   "cell_type": "code",
   "execution_count": 18,
   "id": "bfe12705-b051-4b10-af09-9ed3fce45fa4",
   "metadata": {},
   "outputs": [],
   "source": [
    "#3>multilevel inheritance......"
   ]
  },
  {
   "cell_type": "code",
   "execution_count": 28,
   "id": "0e87e231-9a8d-477d-b7b5-483ffc4e0aa2",
   "metadata": {},
   "outputs": [],
   "source": [
    "class a:\n",
    "    def sun(self):\n",
    "        return \"sunlight\""
   ]
  },
  {
   "cell_type": "code",
   "execution_count": 29,
   "id": "c71d8b02-8288-4631-b976-8a8ae190ecff",
   "metadata": {},
   "outputs": [],
   "source": [
    "class b(a):\n",
    "    def moon(self):\n",
    "        return \"moonlight\""
   ]
  },
  {
   "cell_type": "code",
   "execution_count": 31,
   "id": "3ec4f5da-88f2-4188-a2fb-d2206ca36f7e",
   "metadata": {},
   "outputs": [],
   "source": [
    "class c(b):\n",
    "    pass"
   ]
  },
  {
   "cell_type": "code",
   "execution_count": 33,
   "id": "96cbcada-6653-428c-ad90-11847c50a6f6",
   "metadata": {},
   "outputs": [],
   "source": [
    "obj_classc = c()"
   ]
  },
  {
   "cell_type": "code",
   "execution_count": null,
   "id": "74b4b35c-3a93-4006-ada7-b9a781662301",
   "metadata": {},
   "outputs": [],
   "source": []
  }
 ],
 "metadata": {
  "kernelspec": {
   "display_name": "Python 3 (ipykernel)",
   "language": "python",
   "name": "python3"
  },
  "language_info": {
   "codemirror_mode": {
    "name": "ipython",
    "version": 3
   },
   "file_extension": ".py",
   "mimetype": "text/x-python",
   "name": "python",
   "nbconvert_exporter": "python",
   "pygments_lexer": "ipython3",
   "version": "3.10.8"
  }
 },
 "nbformat": 4,
 "nbformat_minor": 5
}
