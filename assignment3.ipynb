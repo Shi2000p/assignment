{
 "cells": [
  {
   "cell_type": "code",
   "execution_count": 57,
   "id": "fab0ac08-3126-409b-8f3b-9ae723327316",
   "metadata": {},
   "outputs": [],
   "source": [
    "                               # assignment 3 (3 february)"
   ]
  },
  {
   "cell_type": "code",
   "execution_count": 37,
   "id": "0e1781bc-9d3d-4b56-9529-c0a5975ac896",
   "metadata": {},
   "outputs": [],
   "source": [
    "#Q1.\n",
    "#def key is used to create a function.\n",
    "\n",
    "def test1(n):\n",
    "    return [i for i in range (n+1) if i % 2==1]"
   ]
  },
  {
   "cell_type": "code",
   "execution_count": 38,
   "id": "bc8cc0cc-7b37-407c-8aa3-59543fc3267e",
   "metadata": {},
   "outputs": [
    {
     "data": {
      "text/plain": [
       "[1, 3, 5, 7, 9, 11, 13, 15, 17, 19, 21, 23, 25]"
      ]
     },
     "execution_count": 38,
     "metadata": {},
     "output_type": "execute_result"
    }
   ],
   "source": [
    "test1(25)"
   ]
  },
  {
   "cell_type": "code",
   "execution_count": null,
   "id": "e88a0ead-9017-47bd-8da8-ef076240c65c",
   "metadata": {},
   "outputs": [],
   "source": [
    "#Q2.\n",
    "# *args in function definitions in python is used to pass a variable number of arguments to a function.  \n",
    "#It is used to pass a non-key worded.\n",
    "#**kwargs in function definitions in python is used to pass a keyworded, variable-length argument list. We use the name kwargs with the double star.\n",
    "#The reason is that the double star allows us to pass through keyword arguments (and any number of them)."
   ]
  },
  {
   "cell_type": "code",
   "execution_count": 40,
   "id": "c6d77791-3429-4ce7-ba7c-ad0fe3c74c24",
   "metadata": {},
   "outputs": [],
   "source": [
    "def test1 (*args):\n",
    "    return args"
   ]
  },
  {
   "cell_type": "code",
   "execution_count": 45,
   "id": "e4587e8b-49b4-4686-946a-575c1492dddd",
   "metadata": {},
   "outputs": [
    {
     "data": {
      "text/plain": [
       "(9, 8, 7, 6)"
      ]
     },
     "execution_count": 45,
     "metadata": {},
     "output_type": "execute_result"
    }
   ],
   "source": [
    "test1(9,8,7,6)"
   ]
  },
  {
   "cell_type": "code",
   "execution_count": 55,
   "id": "f9a162f8-82c2-40f8-bf41-6ac02f88ef4f",
   "metadata": {},
   "outputs": [],
   "source": [
    "def test2(**kwargs):\n",
    "    return kwargs  "
   ]
  },
  {
   "cell_type": "code",
   "execution_count": 56,
   "id": "1b717ac4-fce7-453d-9b12-15090f140c7c",
   "metadata": {},
   "outputs": [
    {
     "data": {
      "text/plain": [
       "{'a': 23, 'b': 26, 'c': 54}"
      ]
     },
     "execution_count": 56,
     "metadata": {},
     "output_type": "execute_result"
    }
   ],
   "source": [
    "test2(a=23,b=26,c=54)"
   ]
  },
  {
   "cell_type": "code",
   "execution_count": 1,
   "id": "7dc44f0f-b54c-423d-863a-e4a7cc1ff160",
   "metadata": {},
   "outputs": [],
   "source": [
    "#Q3.\n",
    "#Iterator in Python is an object that is used to iterate over iterable objects like lists, tuples, dicts, and sets.\n",
    "#The iterator object is initialized using the iter() method. It uses the next() method for iteration."
   ]
  },
  {
   "cell_type": "code",
   "execution_count": 10,
   "id": "51f73c08-7e58-4a2d-a230-4d13566b4d9d",
   "metadata": {},
   "outputs": [],
   "source": [
    "l=[2,4,6,8,10,12,14,16,18,20]"
   ]
  },
  {
   "cell_type": "code",
   "execution_count": 14,
   "id": "380ac91f-88cd-483d-9eb0-8fd730ab5fa8",
   "metadata": {},
   "outputs": [
    {
     "data": {
      "text/plain": [
       "[2, 4, 6, 8, 10, 12, 14, 16, 18, 20]"
      ]
     },
     "execution_count": 14,
     "metadata": {},
     "output_type": "execute_result"
    }
   ],
   "source": [
    "list(iter(l))"
   ]
  },
  {
   "cell_type": "code",
   "execution_count": 29,
   "id": "0d587add-69bb-439e-ba51-4a33ff834c4f",
   "metadata": {},
   "outputs": [
    {
     "name": "stdout",
     "output_type": "stream",
     "text": [
      "2\n",
      "4\n",
      "6\n",
      "8\n",
      "10\n"
     ]
    }
   ],
   "source": [
    "for i in l:\n",
    "    if i <12:\n",
    "        print(i)\n",
    "    "
   ]
  },
  {
   "cell_type": "code",
   "execution_count": 30,
   "id": "0a2bc853-f74d-4606-ae7c-22c35f7c5f17",
   "metadata": {},
   "outputs": [],
   "source": [
    "#Q4.\n",
    "#Python provides a generator to create your own iterator function.\n",
    "#A generator is a special type of function which does not return a single value, instead,\n",
    "#it returns an iterator object with a sequence of values. In a generator function, a yield statement is used rather than a return statement. \n",
    "#The following is a simple generator function."
   ]
  },
  {
   "cell_type": "code",
   "execution_count": 46,
   "id": "6ea4a052-b320-4235-90e4-26a63fe604f5",
   "metadata": {},
   "outputs": [],
   "source": [
    "#example of generator function.\n",
    "def p_exm(n):\n",
    "    a,b = 0,1\n",
    "    for i in range(n):\n",
    "        yield a\n",
    "        a,b = b,a+b"
   ]
  },
  {
   "cell_type": "code",
   "execution_count": 41,
   "id": "c2384fce-7120-461a-b7fb-bbc1dad6f36d",
   "metadata": {},
   "outputs": [
    {
     "data": {
      "text/plain": [
       "<generator object p_exm at 0x7f08707f7530>"
      ]
     },
     "execution_count": 41,
     "metadata": {},
     "output_type": "execute_result"
    }
   ],
   "source": [
    "p_exm(12)"
   ]
  },
  {
   "cell_type": "code",
   "execution_count": 47,
   "id": "78e53452-5fd7-4634-8b7d-3da1b285e873",
   "metadata": {},
   "outputs": [
    {
     "name": "stdout",
     "output_type": "stream",
     "text": [
      "0\n",
      "1\n",
      "1\n",
      "2\n",
      "3\n",
      "5\n",
      "8\n",
      "13\n",
      "21\n",
      "34\n",
      "55\n",
      "89\n"
     ]
    }
   ],
   "source": [
    "for i in p_exm(12):\n",
    "    print(i)\n",
    "    "
   ]
  },
  {
   "cell_type": "code",
   "execution_count": 62,
   "id": "5df5f112-9f8d-41bf-95ae-bb8f5e251db9",
   "metadata": {},
   "outputs": [],
   "source": [
    "def prime_generator(limit=1000):\n",
    "    while True:\n",
    "        yield a\n",
    "        \n",
    "        \n",
    "    "
   ]
  },
  {
   "cell_type": "code",
   "execution_count": 66,
   "id": "459bddf0-2615-4d99-bf3e-77ffa25c9fd0",
   "metadata": {},
   "outputs": [
    {
     "data": {
      "text/plain": [
       "<generator object prime_generator at 0x7f0870344510>"
      ]
     },
     "execution_count": 66,
     "metadata": {},
     "output_type": "execute_result"
    }
   ],
   "source": [
    "prime_generator()"
   ]
  },
  {
   "cell_type": "code",
   "execution_count": 67,
   "id": "df72f901-8207-4bf7-b209-8b513080ed2b",
   "metadata": {},
   "outputs": [
    {
     "name": "stdin",
     "output_type": "stream",
     "text": [
      "enter your number 8\n"
     ]
    },
    {
     "name": "stdout",
     "output_type": "stream",
     "text": [
      "0\n",
      "1\n",
      "1\n",
      "2\n",
      "3\n",
      "5\n",
      "8\n",
      "13\n"
     ]
    }
   ],
   "source": [
    "#Q6.\n",
    "number = int(input('enter your number'))\n",
    "a,b = 0,1\n",
    "counter = 0\n",
    "while counter <number :\n",
    "    print (a)\n",
    "    c = a+b\n",
    "    a =b\n",
    "    b=c\n",
    "    counter = counter +1"
   ]
  },
  {
   "cell_type": "code",
   "execution_count": 2,
   "id": "1c0d56a3-83ff-44ba-9e0d-5c45d50e53a0",
   "metadata": {},
   "outputs": [],
   "source": [
    "#Q7\n",
    "s= 'pwskills'"
   ]
  },
  {
   "cell_type": "code",
   "execution_count": 4,
   "id": "6d332d5a-8c27-45a8-b1ae-ee4f2a27a967",
   "metadata": {},
   "outputs": [
    {
     "data": {
      "text/plain": [
       "['p', 'w', 's', 'k', 'i', 'l', 'l', 's']"
      ]
     },
     "execution_count": 4,
     "metadata": {},
     "output_type": "execute_result"
    }
   ],
   "source": [
    "list(iter(s))"
   ]
  },
  {
   "cell_type": "code",
   "execution_count": 5,
   "id": "fe1b15ad-1b8e-4011-8aba-80d935b6f142",
   "metadata": {},
   "outputs": [],
   "source": [
    "#Q8.\n"
   ]
  },
  {
   "cell_type": "code",
   "execution_count": 18,
   "id": "b48c6a73-322b-4b49-bffe-bba9c3642a25",
   "metadata": {},
   "outputs": [],
   "source": [
    "list1= list(range(0,100))"
   ]
  },
  {
   "cell_type": "code",
   "execution_count": 16,
   "id": "0ed11174-4acc-4c5e-9b51-837eeb97c4c4",
   "metadata": {},
   "outputs": [
    {
     "ename": "TypeError",
     "evalue": "'list' object is not callable",
     "output_type": "error",
     "traceback": [
      "\u001b[0;31m---------------------------------------------------------------------------\u001b[0m",
      "\u001b[0;31mTypeError\u001b[0m                                 Traceback (most recent call last)",
      "Cell \u001b[0;32mIn[16], line 3\u001b[0m\n\u001b[1;32m      1\u001b[0m i \u001b[38;5;241m=\u001b[39m \u001b[38;5;241m0\u001b[39m\n\u001b[1;32m      2\u001b[0m \u001b[38;5;28;01mwhile\u001b[39;00m(i \u001b[38;5;241m<\u001b[39m \u001b[38;5;28mlen\u001b[39m(a)):\n\u001b[0;32m----> 3\u001b[0m     \u001b[38;5;28;01mif\u001b[39;00m \u001b[43ma\u001b[49m\u001b[43m(\u001b[49m\u001b[43mi\u001b[49m\u001b[43m)\u001b[49m \u001b[38;5;241m%\u001b[39m\u001b[38;5;241m2\u001b[39m\u001b[38;5;241m!=\u001b[39m\u001b[38;5;241m0\u001b[39m:\n\u001b[1;32m      4\u001b[0m         \u001b[38;5;28mprint\u001b[39m((i) , emd \u001b[38;5;241m=\u001b[39m \u001b[38;5;124m'\u001b[39m\u001b[38;5;124m \u001b[39m\u001b[38;5;124m'\u001b[39m)\n",
      "\u001b[0;31mTypeError\u001b[0m: 'list' object is not callable"
     ]
    }
   ],
   "source": [
    "for i in list1:\n",
    "    if i % 2 == 0"
   ]
  },
  {
   "cell_type": "code",
   "execution_count": null,
   "id": "a1323ff0-f7a0-44a2-b27d-5934da28e46f",
   "metadata": {},
   "outputs": [],
   "source": []
  }
 ],
 "metadata": {
  "kernelspec": {
   "display_name": "Python 3 (ipykernel)",
   "language": "python",
   "name": "python3"
  },
  "language_info": {
   "codemirror_mode": {
    "name": "ipython",
    "version": 3
   },
   "file_extension": ".py",
   "mimetype": "text/x-python",
   "name": "python",
   "nbconvert_exporter": "python",
   "pygments_lexer": "ipython3",
   "version": "3.10.8"
  }
 },
 "nbformat": 4,
 "nbformat_minor": 5
}
