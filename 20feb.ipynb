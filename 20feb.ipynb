{
 "cells": [
  {
   "cell_type": "markdown",
   "id": "7ead6be2-44d8-467d-9371-4391b4a97db1",
   "metadata": {},
   "source": [
    "Q1. Explain GET and POST methods."
   ]
  },
  {
   "cell_type": "markdown",
   "id": "3d58f828-263a-4346-a01a-f472d11a1150",
   "metadata": {},
   "source": [
    "GET is used to request data from a specified resource."
   ]
  },
  {
   "cell_type": "raw",
   "id": "7825e94e-b52e-464f-b185-3e43940fa430",
   "metadata": {},
   "source": [
    "1.GET requests can be cached\n",
    "2.GET requests remain in the browser history\n",
    "3.GET requests can be bookmarked\n",
    "4.GET requests should never be used when dealing with sensitive data\n",
    "5.GET requests have length restrictions\n",
    "6.GET requests are only used to request data (not modify)"
   ]
  },
  {
   "cell_type": "markdown",
   "id": "72dd4ef9-8126-49d4-9941-2bcfd242c406",
   "metadata": {},
   "source": [
    "POST is used to send data to a server to create/update a resource."
   ]
  },
  {
   "cell_type": "raw",
   "id": "1825425a-d269-444e-afc3-8b455cba9663",
   "metadata": {},
   "source": [
    "1.POST requests are never cached\n",
    "2.POST requests do not remain in the browser history\n",
    "3.POST requests cannot be bookmarked\n",
    "4.POST requests have no restrictions on data length"
   ]
  },
  {
   "cell_type": "code",
   "execution_count": null,
   "id": "c02c6c22-1091-4cec-aecb-ffa0880753db",
   "metadata": {},
   "outputs": [],
   "source": []
  },
  {
   "cell_type": "markdown",
   "id": "b0bd6a50-1c94-4e31-bddb-07f2a8a95ab2",
   "metadata": {},
   "source": [
    "Q2. Why is request used in Flask?"
   ]
  },
  {
   "cell_type": "markdown",
   "id": "1db7f25c-2301-4bf3-be0c-8ea2331b3f06",
   "metadata": {},
   "source": [
    "The Request, in Flask, is an object that contains all the data sent from the Client to Server. This data can be recovered using the GET/POST Methods. POST is used when your application expects user input to be received by command or an HTTP request, while GET gets all the information before it even has a chance for submission."
   ]
  },
  {
   "cell_type": "code",
   "execution_count": null,
   "id": "5ac2f153-0221-481c-902f-10da785d7ffc",
   "metadata": {},
   "outputs": [],
   "source": []
  },
  {
   "cell_type": "markdown",
   "id": "d05c7230-f794-41b4-9152-9860fb2aed1f",
   "metadata": {},
   "source": [
    "Q3. Why is redirect() used in Flask?"
   ]
  },
  {
   "cell_type": "markdown",
   "id": "7182ecc3-3eea-41f9-8f94-73ba2e738b00",
   "metadata": {},
   "source": [
    "The redirect function is very useful in Flask because it allows you to tell your app which URL it should go to when a certain action is performed by an end-user. Redirects are also useful for managing URLs in your application."
   ]
  },
  {
   "cell_type": "code",
   "execution_count": null,
   "id": "ae869f6a-5bff-4946-8491-71b1749d4c21",
   "metadata": {},
   "outputs": [],
   "source": []
  },
  {
   "cell_type": "markdown",
   "id": "1b068f9e-85b5-46d0-b205-094df8eb1a26",
   "metadata": {},
   "source": [
    "Q4. What are templates in Flask? Why is the render_template() function used?"
   ]
  },
  {
   "cell_type": "markdown",
   "id": "de92465f-8fbd-4c86-bc2b-30b09cbbd60a",
   "metadata": {},
   "source": [
    "A flask template is a template of a webpage that can be used by web developers to reduce the hectic work of writing the code for each webpage of a website. For example, web developers can create a template that has headers like a navbar and footer which is the same for all web pages. so instead of writing code for the header and footer of every webpage, we can use that template."
   ]
  },
  {
   "cell_type": "markdown",
   "id": "b787963c-4663-47f0-9af4-12236794c77c",
   "metadata": {},
   "source": [
    "The render_template() method, allows us to fetch the HTML files, and, pass them to the browser. Hence, instead of rendering, raw string or inline HTML code, from the backend code to the browser,"
   ]
  },
  {
   "cell_type": "code",
   "execution_count": null,
   "id": "a91f4947-cff0-420c-ba76-db3d312c57cf",
   "metadata": {},
   "outputs": [],
   "source": []
  },
  {
   "cell_type": "markdown",
   "id": "ce725b5e-6c63-4240-9e73-ec5ab23a112e",
   "metadata": {},
   "source": [
    "Q5. Create a simple API. Use Postman to test it. Attach the screenshot of the output in the Jupyter Notebook."
   ]
  },
  {
   "cell_type": "markdown",
   "id": "0842edf1-d2cf-4d9f-993a-4609a6becc6a",
   "metadata": {},
   "source": [
    "<img src = \"postman PNG\" style = \"width:200px;height:400px\"/>"
   ]
  },
  {
   "cell_type": "code",
   "execution_count": 2,
   "id": "ddb60d0e-9cf1-42de-9c32-27c59686fffe",
   "metadata": {},
   "outputs": [
    {
     "data": {
      "text/plain": [
       "'/home/jovyan/work/Untitled Folder'"
      ]
     },
     "execution_count": 2,
     "metadata": {},
     "output_type": "execute_result"
    }
   ],
   "source": [
    "import os\n",
    "cwd = os.getcwd()\n",
    "cwd"
   ]
  },
  {
   "cell_type": "markdown",
   "id": "841b3507-bd05-49f8-8cae-4bca41e3ca28",
   "metadata": {},
   "source": [
    "<img src = \"postman PNG\" style = \"width:200px;height:400px\"/>"
   ]
  },
  {
   "cell_type": "code",
   "execution_count": null,
   "id": "b6a4c089-3478-4d95-8b40-c451f231ff62",
   "metadata": {},
   "outputs": [],
   "source": []
  }
 ],
 "metadata": {
  "kernelspec": {
   "display_name": "Python 3 (ipykernel)",
   "language": "python",
   "name": "python3"
  },
  "language_info": {
   "codemirror_mode": {
    "name": "ipython",
    "version": 3
   },
   "file_extension": ".py",
   "mimetype": "text/x-python",
   "name": "python",
   "nbconvert_exporter": "python",
   "pygments_lexer": "ipython3",
   "version": "3.10.8"
  }
 },
 "nbformat": 4,
 "nbformat_minor": 5
}
