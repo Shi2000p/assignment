{
 "cells": [
  {
   "cell_type": "markdown",
   "id": "5e31d72e-0b04-4162-9a4d-61c89fa4aaaf",
   "metadata": {},
   "source": [
    "Q1. What is Abstraction in OOps? Explain with an example."
   ]
  },
  {
   "cell_type": "markdown",
   "id": "9f2587f7-105c-4cfb-a6a3-eb00b59b8174",
   "metadata": {},
   "source": [
    "Abstraction is that feature in oop concept wherein the user unaware of the basic implementation of s function property. the user is only able to view basic functionalities whereas the internal details are hidden."
   ]
  },
  {
   "cell_type": "markdown",
   "id": "b5dc7b04-636b-45ef-bdac-cf6f2f769855",
   "metadata": {},
   "source": [
    "example."
   ]
  },
  {
   "cell_type": "code",
   "execution_count": 4,
   "id": "da8c8041-800a-40be-b41c-f361f007ded1",
   "metadata": {},
   "outputs": [],
   "source": [
    "import abc\n",
    "class pwskills:\n",
    "    \n",
    "    @abc.abstractmethod\n",
    "    def workers_detials(self):\n",
    "        pass\n",
    "    \n",
    "    @abc.abstractmethod\n",
    "    def workers_work(self):\n",
    "        pass\n",
    "    \n",
    "    @abc.abstractmethod\n",
    "    def workers_sallary(self):\n",
    "        pass"
   ]
  },
  {
   "cell_type": "code",
   "execution_count": 8,
   "id": "9160c252-67b5-4808-b74d-6e092228d23f",
   "metadata": {},
   "outputs": [],
   "source": [
    "class workers_detials(pwskills):\n",
    "    \n",
    "    def workers_detials(self):\n",
    "        return \"this is method for worker details.\"\n",
    "    \n",
    "    def workers_work(self):\n",
    "        return \"this is method for workers work.\""
   ]
  },
  {
   "cell_type": "code",
   "execution_count": 9,
   "id": "1989b679-ea6c-450f-ae22-a1b8b2f4305b",
   "metadata": {},
   "outputs": [],
   "source": [
    "class workers_sallary(pwskills):\n",
    "    \n",
    "    def workers_sallary(self):\n",
    "        return \"this is workers sallary detail.\""
   ]
  },
  {
   "cell_type": "code",
   "execution_count": 10,
   "id": "8b0dee39-a275-42bd-b36d-d82a62661e33",
   "metadata": {},
   "outputs": [],
   "source": [
    "ww=workers_detials()"
   ]
  },
  {
   "cell_type": "code",
   "execution_count": 12,
   "id": "b413efb7-8e4c-48bb-b750-01738975b36a",
   "metadata": {},
   "outputs": [
    {
     "data": {
      "text/plain": [
       "'this is method for worker details.'"
      ]
     },
     "execution_count": 12,
     "metadata": {},
     "output_type": "execute_result"
    }
   ],
   "source": [
    "ww.workers_detials()"
   ]
  },
  {
   "cell_type": "code",
   "execution_count": 13,
   "id": "f0d5cbc9-8a9b-4a2f-9b14-76aef69b76c0",
   "metadata": {},
   "outputs": [
    {
     "data": {
      "text/plain": [
       "'this is workers sallary detail.'"
      ]
     },
     "execution_count": 13,
     "metadata": {},
     "output_type": "execute_result"
    }
   ],
   "source": [
    "ws=workers_sallary()\n",
    "ws.workers_sallary()"
   ]
  },
  {
   "cell_type": "code",
   "execution_count": null,
   "id": "03a591a2-df24-4a31-a287-6c95d0115d9a",
   "metadata": {},
   "outputs": [],
   "source": []
  },
  {
   "cell_type": "markdown",
   "id": "18cf0acb-cd68-4807-b35f-5c8b0b9d1af8",
   "metadata": {},
   "source": [
    "Q2. Differentiate between Abstraction and Encapsulation. Explain with an example."
   ]
  },
  {
   "cell_type": "markdown",
   "id": "1982b86f-2393-4ead-a1ed-60d4de7cc082",
   "metadata": {},
   "source": [
    "\n",
    "Abstraction :-Abstraction is the process or method of gaining the information.\n",
    "\n",
    "Encapsulation:-While encapsulation is the process or method to contain the information.\n",
    "\n",
    "Abstraction:-In abstraction, problems are solved at the design or interface level.\n",
    "\n",
    "Encapsulation:-While in encapsulation, problems are solved at the implementation level.\n",
    "\n",
    "Abstraction :-Abstraction is the method of hiding the unwanted information.\n",
    "\n",
    "Encapsulation:-Whereas encapsulation is a method to hide the data in a single entity or unit along with a method to protect information from outside.\n",
    "\n",
    "Abstraction:-We can implement abstraction using abstract class and interfaces.\n",
    "\n",
    "Encapsulation:-Whereas encapsulation can be implemented using by access modifier i.e. private, protected and public.\n",
    "\n",
    "Abstraction :-In abstraction, implementation complexities are hidden using abstract classes and interfaces.\n",
    "\n",
    "Encapsulation:-While in encapsulation, the data is hidden using methods of getters and setters."
   ]
  },
  {
   "cell_type": "code",
   "execution_count": null,
   "id": "de0f6e88-eeda-4680-a9ae-43151d5ab97f",
   "metadata": {},
   "outputs": [],
   "source": []
  },
  {
   "cell_type": "code",
   "execution_count": null,
   "id": "51bfc23c-741a-4f34-80b3-6efacce1a897",
   "metadata": {},
   "outputs": [],
   "source": []
  },
  {
   "cell_type": "markdown",
   "id": "e8f80a92-3a99-4003-86eb-34277ad24005",
   "metadata": {},
   "source": [
    "Q3. What is abc module in python? Why is it used?"
   ]
  },
  {
   "cell_type": "markdown",
   "id": "42124702-5954-468f-8427-5f32ced3dfd6",
   "metadata": {},
   "source": [
    "Python has a module called abc (abstract base class) that offers the necessary tools for crafting an abstract base class.\n",
    "The main goal of the abstract base class is to provide a standardized way to test whether an object adheres to a given specification. It can also prevent any attempt to instantiate a subclass that doesn’t override a particular method in the superclass. And finally, using an abstract class, a class can derive identity from another class without any object inheritance."
   ]
  },
  {
   "cell_type": "code",
   "execution_count": null,
   "id": "d31d6f93-4dc2-4976-b4b7-4b1281a5529e",
   "metadata": {},
   "outputs": [],
   "source": []
  },
  {
   "cell_type": "markdown",
   "id": "d70196c7-7161-43a0-b959-38a611bb3512",
   "metadata": {},
   "source": [
    "Q4. How can we achieve data abstraction?"
   ]
  },
  {
   "cell_type": "markdown",
   "id": "cb547c56-03dc-4d32-8f6f-51608d49b1bd",
   "metadata": {},
   "source": [
    "Data abstraction in Python can be done using the following methods: - Using list comprehensions to transform multiple values into a single value - Using map function to transform multiple values into an array - Using filter function to transform only those items that meet certain criteria - Using reduce function to combine two or more items into a single value Abstractions allow developers to write code without worrying about how the code will be executed on the computer."
   ]
  },
  {
   "cell_type": "code",
   "execution_count": null,
   "id": "ac08bb19-9256-472d-91c6-74f3c0ca2d82",
   "metadata": {},
   "outputs": [],
   "source": []
  },
  {
   "cell_type": "markdown",
   "id": "34a470d0-cab5-4109-b05f-bee058284da8",
   "metadata": {},
   "source": [
    "Q5. Can we create an instance of an abstract class? Explain your answer."
   ]
  },
  {
   "cell_type": "markdown",
   "id": "9803625e-490b-43b8-837d-11f386caeef2",
   "metadata": {},
   "source": [
    "NO.\n",
    "we can not create an instance of an abstract class.\n",
    "we can create an instance of a class that extents your abstract class.\n",
    "\n",
    "The whole point of an abstract class is that it's abstract -- we've defined an interface but not an implementation. Without an implementation, instantiating the class wouldn't produce a meaningful or useful result. If it does/would make sense to instantiate objects of that class, then you simply don't want to use an abstract class in the first place."
   ]
  },
  {
   "cell_type": "code",
   "execution_count": null,
   "id": "ed56e485-284a-400d-8cbf-6d39ee00f999",
   "metadata": {},
   "outputs": [],
   "source": []
  }
 ],
 "metadata": {
  "kernelspec": {
   "display_name": "Python 3 (ipykernel)",
   "language": "python",
   "name": "python3"
  },
  "language_info": {
   "codemirror_mode": {
    "name": "ipython",
    "version": 3
   },
   "file_extension": ".py",
   "mimetype": "text/x-python",
   "name": "python",
   "nbconvert_exporter": "python",
   "pygments_lexer": "ipython3",
   "version": "3.10.8"
  }
 },
 "nbformat": 4,
 "nbformat_minor": 5
}
