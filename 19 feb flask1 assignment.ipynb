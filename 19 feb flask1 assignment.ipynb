{
 "cells": [
  {
   "cell_type": "markdown",
   "id": "90e064ac-3c17-4605-a2bd-79031ab92970",
   "metadata": {},
   "source": [
    "Q1. What is Flask Framework? What are the advantages of Flask Framework?"
   ]
  },
  {
   "cell_type": "markdown",
   "id": "7032927d-8f72-4794-8ac7-73948e7e8e7f",
   "metadata": {},
   "source": [
    "Flask is a micro web framework written in Python. It is classified as a microframework because it does not require particular tools or libraries. It has no database abstraction layer, form validation, or any other components where pre-existing third-party libraries provide common functions."
   ]
  },
  {
   "cell_type": "markdown",
   "id": "6249e1c6-6996-4b53-b91d-f3354b6dbf3c",
   "metadata": {},
   "source": [
    "ADVANTAGES OF FLASK :-"
   ]
  },
  {
   "cell_type": "markdown",
   "id": "5daee4d6-e9c6-4d15-ab1e-45b9f674237b",
   "metadata": {},
   "source": [
    "1. Scalable :-Size is everything, and Flask’s status as a microframework means that you can use it to grow a tech project such as a web app incredibly quickly."
   ]
  },
  {
   "cell_type": "markdown",
   "id": "dc615665-2982-4967-bcb0-d7643e4c95cb",
   "metadata": {},
   "source": [
    "2. Flexible :-This is the core feature of Flask, and one of its biggest advantages. To paraphrase one of the principles of the Zen of Python, simplicity is better than complexity, because it can be easily rearranged and moved around."
   ]
  },
  {
   "cell_type": "markdown",
   "id": "72d1d733-0a77-4dc3-8747-bbf8afcf9755",
   "metadata": {},
   "source": [
    "3. Easy to negotiate :-Like Django, being able to find your way around easily is key for allowing web developers to concentrate on just coding quickly, without getting bogged down. At its core, the microframework is easy to understand for web developers, not just saving them time and effort but also giving them more control over their code and what is possible"
   ]
  },
  {
   "cell_type": "markdown",
   "id": "39fd6f2d-b046-4637-8066-4dfd453f5b23",
   "metadata": {},
   "source": [
    "4. Lightweight :-When we use this term in relation to a tool or framework, we’re talking about the design of it—there are few constituent parts that need to be assembled and reassembled, and it doesn’t rely on a large number of extensions to function. This design gives web developers a certain level of control."
   ]
  },
  {
   "cell_type": "markdown",
   "id": "dbc5c5e3-0007-419a-a28d-a78f65aa879b",
   "metadata": {},
   "source": [
    "5. Documentation :-Following the creator’s own theory that “nice documentation design makes you actually write documentation,” Flask users will find a healthy number of examples and tips arranged in a structured manner."
   ]
  },
  {
   "cell_type": "code",
   "execution_count": null,
   "id": "2d56a7cd-3246-4d65-b4c4-0e3b0155522c",
   "metadata": {},
   "outputs": [],
   "source": []
  },
  {
   "cell_type": "markdown",
   "id": "2c47c099-cdf1-40fd-a2c4-7d173aba1f32",
   "metadata": {},
   "source": [
    "Q2. Create a simple Flask application to display ‘Hello World!!’. Attach the screenshot of the output in\n",
    "Jupyter Notebook."
   ]
  },
  {
   "cell_type": "code",
   "execution_count": null,
   "id": "26300294-0c1f-4ac9-b96f-c9fb014f8bf0",
   "metadata": {},
   "outputs": [],
   "source": [
    "https://brown-librarian-aeawh.pwskills.app:5000/test12"
   ]
  },
  {
   "cell_type": "markdown",
   "id": "390ce78a-a19e-4e46-b3b3-cce6a5aa3674",
   "metadata": {},
   "source": [
    "<img src=\"screenshot.PNG\" style = \"width:200px;height:400px\"/>"
   ]
  },
  {
   "cell_type": "code",
   "execution_count": null,
   "id": "b8d7ae39-e8e1-4dcd-b1a0-7a2db84375ac",
   "metadata": {},
   "outputs": [],
   "source": []
  },
  {
   "cell_type": "code",
   "execution_count": null,
   "id": "9b8a987b-cfef-4447-83df-42edbdbeda78",
   "metadata": {},
   "outputs": [],
   "source": []
  },
  {
   "cell_type": "markdown",
   "id": "ca8bb61e-c735-4fc7-8dee-27662f90f7a5",
   "metadata": {},
   "source": [
    "Q3. What is App routing in Flask? Why do we use app routes?"
   ]
  },
  {
   "cell_type": "markdown",
   "id": "29b31c3c-0f6e-426b-a812-7d4c1adf9f81",
   "metadata": {},
   "source": [
    "It means mapping the URLs to a specific function that will handle the logic for that URL. Modern web frameworks use more meaningful URLs to help users remember the URLs and make navigation simpler. "
   ]
  },
  {
   "cell_type": "markdown",
   "id": "9fde995d-b880-491e-932a-067247e4bd33",
   "metadata": {},
   "source": [
    "The app.route() function returns an instance of a single route, which you can then use to handle HTTP verbs with optional middleware. Use app.route() to avoid duplicate route names (and thus typo errors). "
   ]
  },
  {
   "cell_type": "code",
   "execution_count": null,
   "id": "27d26e81-9e97-4327-907e-97cc2eedd45c",
   "metadata": {},
   "outputs": [],
   "source": []
  },
  {
   "cell_type": "code",
   "execution_count": null,
   "id": "784be3fb-8af9-4683-b0e3-ca9741dde81f",
   "metadata": {},
   "outputs": [],
   "source": [
    "Q4. Create a “/welcome” route to display the welcome message “Welcome to ABC Corporation” and a “/”\n",
    "\n",
    "route to show the following details:\n",
    "Company Name: ABC Corporation\n",
    "Location: India\n",
    "Contact Detail: 999-999-9999"
   ]
  },
  {
   "cell_type": "code",
   "execution_count": null,
   "id": "3e9a7c5e-3e06-4f17-991e-a035fb3ba41c",
   "metadata": {},
   "outputs": [],
   "source": [
    "https://brown-librarian-aeawh.pwskills.app:5000/welcome"
   ]
  },
  {
   "cell_type": "markdown",
   "id": "1a3870c6-4e90-4bed-91ec-72976d76f267",
   "metadata": {},
   "source": [
    "<img src=\"ss2.PNG\" style=\"width:200px;height:400px\"/>"
   ]
  },
  {
   "cell_type": "code",
   "execution_count": null,
   "id": "2a7a1107-f277-49fc-a1e6-008bbaa6e570",
   "metadata": {},
   "outputs": [],
   "source": []
  },
  {
   "cell_type": "markdown",
   "id": "295a894d-74e5-493f-ad40-be57fd6ba395",
   "metadata": {},
   "source": [
    "Q5. What function is used in Flask for URL Building? Write a Python code to demonstrate the working of the\n",
    "url_for() function."
   ]
  },
  {
   "cell_type": "markdown",
   "id": "66fcb366-ebd0-4a36-b217-9e1be5234636",
   "metadata": {},
   "source": [
    "For building URLs in flask, we use the url_for() function. The name of the function is accepted as its first argument and any number of keyword arguments. The unknown variable parts in a website are then appended to the URL as query parameters."
   ]
  },
  {
   "cell_type": "code",
   "execution_count": 9,
   "id": "d125a5e7-8385-4c7a-a008-4b8cee189d33",
   "metadata": {},
   "outputs": [
    {
     "name": "stdout",
     "output_type": "stream",
     "text": [
      "b'welcome to ABC Corporation/nCompany Name: ABC Corporation/nLocation: India/nContact Detail: 999-999-9999'\n"
     ]
    }
   ],
   "source": [
    "import urllib.request\n",
    "request_url=urllib.request.urlopen(\"https://brown-librarian-aeawh.pwskills.app:5000/welcome\")\n",
    "print(request_url.read())"
   ]
  },
  {
   "cell_type": "code",
   "execution_count": null,
   "id": "f69afea6-46b2-4bed-8a8e-7b16b4a041fa",
   "metadata": {},
   "outputs": [],
   "source": []
  }
 ],
 "metadata": {
  "kernelspec": {
   "display_name": "Python 3 (ipykernel)",
   "language": "python",
   "name": "python3"
  },
  "language_info": {
   "codemirror_mode": {
    "name": "ipython",
    "version": 3
   },
   "file_extension": ".py",
   "mimetype": "text/x-python",
   "name": "python",
   "nbconvert_exporter": "python",
   "pygments_lexer": "ipython3",
   "version": "3.10.8"
  }
 },
 "nbformat": 4,
 "nbformat_minor": 5
}
