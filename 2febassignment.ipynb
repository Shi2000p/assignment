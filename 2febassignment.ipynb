{
 "cells": [
  {
   "cell_type": "code",
   "execution_count": 1,
   "id": "13aeea45-9498-4630-843d-a6ebacfabd06",
   "metadata": {},
   "outputs": [],
   "source": [
    "                           #assignment (2feb)"
   ]
  },
  {
   "cell_type": "code",
   "execution_count": 2,
   "id": "b9d26b2b-d4cd-4f64-9235-20d0aec7a717",
   "metadata": {},
   "outputs": [],
   "source": [
    "#Q1.\n",
    "# For loop: is used for sequential traversal. \n",
    "#i.e. it is used for iterating over an iterable like String, Tuple, List, Set or Dictionary.\n",
    "#While Loop: An iteration method that is best used when you don’t know the number of iterations ahead of time.\n",
    "#The contents of the loop are executed as long as the expression evaluates to true."
   ]
  },
  {
   "cell_type": "code",
   "execution_count": 4,
   "id": "df1ab44b-480b-4c8d-9ec2-0981f5ebb73a",
   "metadata": {},
   "outputs": [],
   "source": [
    "l =['sun' , 'moon' , 'star'] "
   ]
  },
  {
   "cell_type": "code",
   "execution_count": 5,
   "id": "a70e7900-1a06-4caa-8fda-82e396d5a12a",
   "metadata": {},
   "outputs": [
    {
     "name": "stdout",
     "output_type": "stream",
     "text": [
      "sun\n",
      "moon\n",
      "star\n"
     ]
    },
    {
     "data": {
      "text/plain": [
       "['SUN', 'MOON', 'STAR']"
      ]
     },
     "execution_count": 5,
     "metadata": {},
     "output_type": "execute_result"
    }
   ],
   "source": [
    "l1 = []\n",
    "for i in l :\n",
    "    print (i)\n",
    "    l1.append(i.upper())\n",
    "l1\n",
    "    "
   ]
  },
  {
   "cell_type": "code",
   "execution_count": 1,
   "id": "0402d953-9e7f-4596-a9f6-31c9e56d133e",
   "metadata": {},
   "outputs": [
    {
     "name": "stdout",
     "output_type": "stream",
     "text": [
      "1\n",
      "4\n",
      "7\n",
      "10\n"
     ]
    }
   ],
   "source": [
    "a = 1\n",
    "while a <=10:\n",
    "    print(a)\n",
    "    a = a+3"
   ]
  },
  {
   "cell_type": "code",
   "execution_count": 2,
   "id": "1f17beb8-8617-481a-87fe-853796e26ff9",
   "metadata": {},
   "outputs": [],
   "source": [
    "#Q2.\n",
    "l=[1,2,3,4,5,6,7,8,9,10]"
   ]
  },
  {
   "cell_type": "code",
   "execution_count": 3,
   "id": "5a4ad53e-41c9-4bf6-9d14-f7ef6ecafdaa",
   "metadata": {},
   "outputs": [
    {
     "data": {
      "text/plain": [
       "55"
      ]
     },
     "execution_count": 3,
     "metadata": {},
     "output_type": "execute_result"
    }
   ],
   "source": [
    "#sum in for loop\n",
    "result = 0\n",
    "for i in l:\n",
    "    result = result +i\n",
    "result    \n",
    "    "
   ]
  },
  {
   "cell_type": "code",
   "execution_count": 4,
   "id": "aaa18501-1c95-4836-bc11-0274bc2c7a4a",
   "metadata": {},
   "outputs": [
    {
     "data": {
      "text/plain": [
       "55"
      ]
     },
     "execution_count": 4,
     "metadata": {},
     "output_type": "execute_result"
    }
   ],
   "source": [
    "sum(l)"
   ]
  },
  {
   "cell_type": "code",
   "execution_count": 6,
   "id": "4f5c8c4d-87f4-4379-9102-ed3048fbdcc1",
   "metadata": {},
   "outputs": [
    {
     "data": {
      "text/plain": [
       "3628800"
      ]
     },
     "execution_count": 6,
     "metadata": {},
     "output_type": "execute_result"
    }
   ],
   "source": [
    "#product in for loop\n",
    "result = 1\n",
    "for i in l:\n",
    "    result = result * i\n",
    "result    "
   ]
  },
  {
   "cell_type": "code",
   "execution_count": 9,
   "id": "d2da5f2d-9d4c-43b5-83a6-65b591eaea78",
   "metadata": {},
   "outputs": [
    {
     "name": "stdin",
     "output_type": "stream",
     "text": [
      "enter your number 10\n"
     ]
    },
    {
     "data": {
      "text/plain": [
       "3628800"
      ]
     },
     "execution_count": 9,
     "metadata": {},
     "output_type": "execute_result"
    }
   ],
   "source": [
    "#product in while loop\n",
    "number = int(input(\"enter your number\"))\n",
    "pro = 1\n",
    "while number >0:\n",
    "    pro= pro*number\n",
    "    number = number-1\n",
    "pro   "
   ]
  },
  {
   "cell_type": "code",
   "execution_count": 36,
   "id": "7b8b194f-8056-461b-887e-134fff0ff1db",
   "metadata": {},
   "outputs": [],
   "source": [
    "#question 4"
   ]
  },
  {
   "cell_type": "code",
   "execution_count": 37,
   "id": "03dbc59d-c14c-4469-9b26-08139928527d",
   "metadata": {},
   "outputs": [],
   "source": [
    "l = list(range(1,101))"
   ]
  },
  {
   "cell_type": "code",
   "execution_count": 43,
   "id": "b9e81f67-d9c0-41bd-b7f3-659f2789418e",
   "metadata": {},
   "outputs": [
    {
     "name": "stdout",
     "output_type": "stream",
     "text": [
      "1\n",
      "8\n",
      "27\n",
      "64\n",
      "125\n",
      "216\n",
      "343\n",
      "512\n",
      "729\n",
      "1000\n",
      "1331\n",
      "1728\n",
      "2197\n",
      "2744\n",
      "3375\n",
      "4096\n",
      "4913\n",
      "5832\n",
      "6859\n",
      "8000\n",
      "9261\n",
      "10648\n",
      "12167\n",
      "13824\n",
      "15625\n",
      "17576\n",
      "19683\n",
      "21952\n",
      "24389\n",
      "27000\n",
      "29791\n",
      "32768\n",
      "35937\n",
      "39304\n",
      "42875\n",
      "46656\n",
      "50653\n",
      "54872\n",
      "59319\n",
      "64000\n",
      "68921\n",
      "74088\n",
      "79507\n",
      "85184\n",
      "91125\n",
      "97336\n",
      "103823\n",
      "110592\n",
      "117649\n",
      "125000\n",
      "132651\n",
      "140608\n",
      "148877\n",
      "157464\n",
      "166375\n",
      "175616\n",
      "185193\n",
      "195112\n",
      "205379\n",
      "216000\n",
      "226981\n",
      "238328\n",
      "250047\n",
      "262144\n",
      "274625\n",
      "287496\n",
      "300763\n",
      "314432\n",
      "328509\n",
      "343000\n",
      "357911\n",
      "373248\n",
      "389017\n",
      "405224\n",
      "421875\n",
      "438976\n",
      "456533\n",
      "474552\n",
      "493039\n",
      "512000\n",
      "531441\n",
      "551368\n",
      "571787\n",
      "592704\n",
      "614125\n",
      "636056\n",
      "658503\n",
      "681472\n",
      "704969\n",
      "729000\n",
      "753571\n",
      "778688\n",
      "804357\n",
      "830584\n",
      "857375\n",
      "884736\n",
      "912673\n",
      "941192\n",
      "970299\n",
      "1000000\n",
      "None\n"
     ]
    }
   ],
   "source": [
    "l2 = []\n",
    "for i in range(1,101):\n",
    "     print (i**3)\n",
    "if((i % 4==0) & (i % 5 ==0)):\n",
    "    print(l2.append(i))       "
   ]
  },
  {
   "cell_type": "code",
   "execution_count": null,
   "id": "2c8aae51-8b8a-470b-9a01-b883d5e4a5fa",
   "metadata": {},
   "outputs": [],
   "source": []
  },
  {
   "cell_type": "code",
   "execution_count": 16,
   "id": "8465845a-3eb9-4e62-8332-2d9cbed46a3a",
   "metadata": {},
   "outputs": [
    {
     "name": "stdout",
     "output_type": "stream",
     "text": [
      "1\n",
      "2\n",
      "3\n",
      "4\n",
      "5\n",
      "6\n",
      "7\n",
      "8\n",
      "9\n",
      "10\n"
     ]
    },
    {
     "data": {
      "text/plain": [
       "[1, 2, 3, 4, 5, 6, 7, 8, 9, 10]"
      ]
     },
     "execution_count": 16,
     "metadata": {},
     "output_type": "execute_result"
    }
   ],
   "source": [
    "l1=[]\n",
    "for i in range(1,11,1):\n",
    "    print (i)\n",
    "    l1.append(i)\n",
    "l1    "
   ]
  },
  {
   "cell_type": "code",
   "execution_count": 17,
   "id": "964d8039-1cd8-4344-ad0d-8510f360f52b",
   "metadata": {},
   "outputs": [],
   "source": [
    "#Q3."
   ]
  },
  {
   "cell_type": "code",
   "execution_count": 21,
   "id": "2533415a-08df-422c-9ef7-835d92e3327f",
   "metadata": {},
   "outputs": [
    {
     "name": "stdin",
     "output_type": "stream",
     "text": [
      "enter your unit 310\n"
     ]
    },
    {
     "name": "stdout",
     "output_type": "stream",
     "text": [
      "6200\n"
     ]
    }
   ],
   "source": [
    "unit= int(input(\"enter your unit\"))\n",
    "if unit <=100:\n",
    "    print ( unit*4.5)\n",
    "elif unit <=200:\n",
    "    print(unit * 6)\n",
    "elif unit <= 300:\n",
    "    print(unit*10)\n",
    "elif unit >= 300:\n",
    "    print(unit*20)"
   ]
  },
  {
   "cell_type": "code",
   "execution_count": 30,
   "id": "f7067111-4240-4987-a0a2-770fbca9994d",
   "metadata": {},
   "outputs": [],
   "source": [
    "number =[list(range(1,101,1))]"
   ]
  },
  {
   "cell_type": "code",
   "execution_count": 31,
   "id": "f3c2b189-fea1-4dc9-83c7-f161afa63ea2",
   "metadata": {},
   "outputs": [
    {
     "data": {
      "text/plain": [
       "[[1,\n",
       "  2,\n",
       "  3,\n",
       "  4,\n",
       "  5,\n",
       "  6,\n",
       "  7,\n",
       "  8,\n",
       "  9,\n",
       "  10,\n",
       "  11,\n",
       "  12,\n",
       "  13,\n",
       "  14,\n",
       "  15,\n",
       "  16,\n",
       "  17,\n",
       "  18,\n",
       "  19,\n",
       "  20,\n",
       "  21,\n",
       "  22,\n",
       "  23,\n",
       "  24,\n",
       "  25,\n",
       "  26,\n",
       "  27,\n",
       "  28,\n",
       "  29,\n",
       "  30,\n",
       "  31,\n",
       "  32,\n",
       "  33,\n",
       "  34,\n",
       "  35,\n",
       "  36,\n",
       "  37,\n",
       "  38,\n",
       "  39,\n",
       "  40,\n",
       "  41,\n",
       "  42,\n",
       "  43,\n",
       "  44,\n",
       "  45,\n",
       "  46,\n",
       "  47,\n",
       "  48,\n",
       "  49,\n",
       "  50,\n",
       "  51,\n",
       "  52,\n",
       "  53,\n",
       "  54,\n",
       "  55,\n",
       "  56,\n",
       "  57,\n",
       "  58,\n",
       "  59,\n",
       "  60,\n",
       "  61,\n",
       "  62,\n",
       "  63,\n",
       "  64,\n",
       "  65,\n",
       "  66,\n",
       "  67,\n",
       "  68,\n",
       "  69,\n",
       "  70,\n",
       "  71,\n",
       "  72,\n",
       "  73,\n",
       "  74,\n",
       "  75,\n",
       "  76,\n",
       "  77,\n",
       "  78,\n",
       "  79,\n",
       "  80,\n",
       "  81,\n",
       "  82,\n",
       "  83,\n",
       "  84,\n",
       "  85,\n",
       "  86,\n",
       "  87,\n",
       "  88,\n",
       "  89,\n",
       "  90,\n",
       "  91,\n",
       "  92,\n",
       "  93,\n",
       "  94,\n",
       "  95,\n",
       "  96,\n",
       "  97,\n",
       "  98,\n",
       "  99,\n",
       "  100]]"
      ]
     },
     "execution_count": 31,
     "metadata": {},
     "output_type": "execute_result"
    }
   ],
   "source": [
    "number"
   ]
  },
  {
   "cell_type": "code",
   "execution_count": 50,
   "id": "666f7eb3-45a3-40fd-aab1-761b17c59425",
   "metadata": {},
   "outputs": [],
   "source": [
    "#Q5."
   ]
  },
  {
   "cell_type": "code",
   "execution_count": 51,
   "id": "55bf4685-a110-44bf-a344-4553603e4360",
   "metadata": {},
   "outputs": [],
   "source": [
    "string = \"I want to become a data scientist\""
   ]
  },
  {
   "cell_type": "code",
   "execution_count": 60,
   "id": "bb3a0ef6-14ea-4502-98d5-9da3ccc281a9",
   "metadata": {},
   "outputs": [
    {
     "name": "stdout",
     "output_type": "stream",
     "text": [
      "a\n",
      "o\n",
      "e\n",
      "o\n",
      "e\n",
      "a\n",
      "a\n",
      "a\n",
      "i\n",
      "e\n",
      "i\n"
     ]
    }
   ],
   "source": [
    "count = 0\n",
    "vowels = [\"a\" , \"e\" , \"i\" , \"o\" , \"u\"]\n",
    "for i in string:\n",
    "    if i in vowels:\n",
    "        count = count+1\n",
    "        print(i)"
   ]
  },
  {
   "cell_type": "code",
   "execution_count": null,
   "id": "3532b129-7bca-4e2c-9456-50d286c19d2a",
   "metadata": {},
   "outputs": [],
   "source": []
  }
 ],
 "metadata": {
  "kernelspec": {
   "display_name": "Python 3 (ipykernel)",
   "language": "python",
   "name": "python3"
  },
  "language_info": {
   "codemirror_mode": {
    "name": "ipython",
    "version": 3
   },
   "file_extension": ".py",
   "mimetype": "text/x-python",
   "name": "python",
   "nbconvert_exporter": "python",
   "pygments_lexer": "ipython3",
   "version": "3.10.8"
  }
 },
 "nbformat": 4,
 "nbformat_minor": 5
}
