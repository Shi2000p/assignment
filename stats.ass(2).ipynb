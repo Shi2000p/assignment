{
 "cells": [
  {
   "cell_type": "markdown",
   "id": "7673734d-413c-437a-9f4e-c7e9ef6e9118",
   "metadata": {},
   "source": [
    "1. What are the three measures of central tendency?"
   ]
  },
  {
   "cell_type": "markdown",
   "id": "3e1b2a62-d740-4955-b608-d1bcdfb1e8ac",
   "metadata": {},
   "source": [
    "the three measures of central tendency :- Mean , Median , Mode \n",
    "\n",
    "Mean: The mean can be calculated by adding up all the values in the distribution and dividing by the total number of values. \n",
    "\n",
    "Median: The median is the value separating the distribution into two equal parts. It is not affected by outliers and is the middle value of an ordered set of data.\n",
    "\n",
    "Mode: The mode is the value that occurs most frequently in a kind of distribution. It is useful for finding the most common value, but can be misleading if there are multiple modes or the data is continuous."
   ]
  },
  {
   "cell_type": "code",
   "execution_count": null,
   "id": "fc723685-fd32-4d36-95a0-ed75e7d9a1c1",
   "metadata": {},
   "outputs": [],
   "source": []
  },
  {
   "cell_type": "markdown",
   "id": "7173b2be-bf64-4e75-9f47-97a354f824a6",
   "metadata": {},
   "source": [
    "Q2. What is the difference between the mean, median, and mode? How are they used to measure the \n",
    "central tendency of a dataset"
   ]
  },
  {
   "cell_type": "markdown",
   "id": "79c9fa44-1544-4542-b77a-5aa28dd864b0",
   "metadata": {},
   "source": [
    "1.\n",
    "\n",
    "MEAN :-The average taken of given observations is called Mean.\n",
    "\n",
    "MEDIAN :-The middle number in a given set of observations is called Median.\n",
    "\n",
    "MODE ;-The most frequently occurred number in a given set of observations is called mode."
   ]
  },
  {
   "cell_type": "markdown",
   "id": "f85d74d1-c22f-4ceb-a28f-1ddee604e7e8",
   "metadata": {},
   "source": [
    "2.\n",
    "\n",
    "MEAN :-Add up all the numbers and divide by the total number of terms\n",
    "\n",
    "MEDIAN :-Place all the numbers in ascending or descending order \n",
    "\n",
    "MODE ;-the mode is derived when a number has frequency occurred in a series"
   ]
  },
  {
   "cell_type": "markdown",
   "id": "be2df921-bb5e-440c-83f9-d75b00a91c60",
   "metadata": {},
   "source": [
    "3.\n",
    "\n",
    "MEAN:-Once the above step is finished, what we get is the mean.\n",
    "\n",
    "MEDIAN :-After arranging everything from smallest to biggest, take out the middle number, which is your median.\n",
    "\n",
    "MODE :-The mode can be one or more than one. It is possible to have no mode at all, as well"
   ]
  },
  {
   "cell_type": "markdown",
   "id": "5d835b1f-1621-4c83-a087-f4d31327aafa",
   "metadata": {},
   "source": [
    "4.\n",
    "\n",
    "MEAN:-Mean is the arithmetic mean or in a  simple way can be a simple average or weighted average. \n",
    "\n",
    "MEDIAN :-When series have even numbers, median is the simple average of the middle pair of numbers. \n",
    "\n",
    "MODE :-If there is a unique data set, there is no mode at all.\n"
   ]
  },
  {
   "cell_type": "markdown",
   "id": "f6bcf468-0b23-4674-8d01-f11949a273ec",
   "metadata": {},
   "source": [
    "5.\n",
    "\n",
    "MEAN:-When data is normally distributed, the mean is widely preferred.\n",
    "\n",
    "MEDIAN :-When data distribution is skewed, median is the best representative.\t\n",
    "\n",
    "MODE :-When there is a nominal distribution of data, the mode is preferred."
   ]
  },
  {
   "cell_type": "markdown",
   "id": "84d91160-da63-46c3-9f8e-10a5aa550177",
   "metadata": {},
   "source": [
    "##Example"
   ]
  },
  {
   "cell_type": "code",
   "execution_count": 3,
   "id": "59420d44-f46e-470f-9bb1-45fe5a277fa6",
   "metadata": {},
   "outputs": [],
   "source": [
    "import numpy as np"
   ]
  },
  {
   "cell_type": "code",
   "execution_count": 4,
   "id": "9b1de280-9eea-47de-a474-1b23af231d10",
   "metadata": {},
   "outputs": [],
   "source": [
    "list =[2,3,5,6,7,8,9,1,3,4,6,5]"
   ]
  },
  {
   "cell_type": "code",
   "execution_count": 5,
   "id": "bc5fd661-da56-4038-8a8c-e49007c359e2",
   "metadata": {},
   "outputs": [
    {
     "data": {
      "text/plain": [
       "4.916666666666667"
      ]
     },
     "execution_count": 5,
     "metadata": {},
     "output_type": "execute_result"
    }
   ],
   "source": [
    "np.mean(list)"
   ]
  },
  {
   "cell_type": "code",
   "execution_count": 6,
   "id": "e1bfff76-bc1c-4408-a75c-a8e8c013e053",
   "metadata": {},
   "outputs": [
    {
     "data": {
      "text/plain": [
       "5.0"
      ]
     },
     "execution_count": 6,
     "metadata": {},
     "output_type": "execute_result"
    }
   ],
   "source": [
    "np.median(list)"
   ]
  },
  {
   "cell_type": "code",
   "execution_count": 9,
   "id": "6ba018fc-55ba-49fb-91c9-ad76b5e100a0",
   "metadata": {},
   "outputs": [],
   "source": [
    "from scipy import stats"
   ]
  },
  {
   "cell_type": "code",
   "execution_count": 10,
   "id": "9872c06d-359d-40a0-a372-74dcec7c3696",
   "metadata": {},
   "outputs": [
    {
     "name": "stderr",
     "output_type": "stream",
     "text": [
      "/tmp/ipykernel_2258/2535308130.py:1: FutureWarning: Unlike other reduction functions (e.g. `skew`, `kurtosis`), the default behavior of `mode` typically preserves the axis it acts along. In SciPy 1.11.0, this behavior will change: the default value of `keepdims` will become False, the `axis` over which the statistic is taken will be eliminated, and the value None will no longer be accepted. Set `keepdims` to True or False to avoid this warning.\n",
      "  stats.mode(list)\n"
     ]
    },
    {
     "data": {
      "text/plain": [
       "ModeResult(mode=array([3]), count=array([2]))"
      ]
     },
     "execution_count": 10,
     "metadata": {},
     "output_type": "execute_result"
    }
   ],
   "source": [
    "stats.mode(list)"
   ]
  },
  {
   "cell_type": "code",
   "execution_count": null,
   "id": "51ebd8e0-8b06-469d-a920-25623aa30f4b",
   "metadata": {},
   "outputs": [],
   "source": []
  },
  {
   "cell_type": "markdown",
   "id": "2ebe2f5c-7944-499a-bc1b-ec02c59ac486",
   "metadata": {},
   "source": [
    "Q3. Measure the three measures of central tendency for the given height data:"
   ]
  },
  {
   "cell_type": "code",
   "execution_count": 11,
   "id": "b3696c3d-1230-4523-9903-0ac9c6bf512f",
   "metadata": {},
   "outputs": [],
   "source": [
    "height_data=[178,177,176,177,178.2,178,175,179,180,175,178.9,176.2,177,172.5,178,176.5]"
   ]
  },
  {
   "cell_type": "code",
   "execution_count": 12,
   "id": "253cd978-bad9-48ee-91a7-95ed8db7320c",
   "metadata": {},
   "outputs": [
    {
     "data": {
      "text/plain": [
       "177.01875"
      ]
     },
     "execution_count": 12,
     "metadata": {},
     "output_type": "execute_result"
    }
   ],
   "source": [
    "np.mean(height_data)"
   ]
  },
  {
   "cell_type": "code",
   "execution_count": 13,
   "id": "378c4e89-552e-4078-b8ff-36ec66273ed8",
   "metadata": {},
   "outputs": [
    {
     "data": {
      "text/plain": [
       "177.0"
      ]
     },
     "execution_count": 13,
     "metadata": {},
     "output_type": "execute_result"
    }
   ],
   "source": [
    "np.median(height_data)"
   ]
  },
  {
   "cell_type": "code",
   "execution_count": 14,
   "id": "d2cf89e0-9215-478f-af67-bf2244a8a4d6",
   "metadata": {},
   "outputs": [
    {
     "name": "stderr",
     "output_type": "stream",
     "text": [
      "/tmp/ipykernel_2258/2661021712.py:1: FutureWarning: Unlike other reduction functions (e.g. `skew`, `kurtosis`), the default behavior of `mode` typically preserves the axis it acts along. In SciPy 1.11.0, this behavior will change: the default value of `keepdims` will become False, the `axis` over which the statistic is taken will be eliminated, and the value None will no longer be accepted. Set `keepdims` to True or False to avoid this warning.\n",
      "  stats.mode(height_data)\n"
     ]
    },
    {
     "data": {
      "text/plain": [
       "ModeResult(mode=array([177.]), count=array([3]))"
      ]
     },
     "execution_count": 14,
     "metadata": {},
     "output_type": "execute_result"
    }
   ],
   "source": [
    "stats.mode(height_data)"
   ]
  },
  {
   "cell_type": "code",
   "execution_count": null,
   "id": "2f7a5578-290b-4c3a-985c-a5e7d0ff66e1",
   "metadata": {},
   "outputs": [],
   "source": []
  },
  {
   "cell_type": "markdown",
   "id": "c037378c-53ec-4b75-b6d1-7e41d389a950",
   "metadata": {},
   "source": [
    "Q4. Find the standard deviation for the given data:"
   ]
  },
  {
   "cell_type": "code",
   "execution_count": 15,
   "id": "836fc42c-5273-4051-88ad-d3c2fc7817a9",
   "metadata": {},
   "outputs": [],
   "source": [
    "height_data=[178,177,176,177,178.2,178,175,179,180,175,178.9,176.2,177,172.5,178,176.5]"
   ]
  },
  {
   "cell_type": "code",
   "execution_count": 16,
   "id": "22fe6f6e-a7aa-48f1-af0f-020e066e0849",
   "metadata": {},
   "outputs": [
    {
     "data": {
      "text/plain": [
       "1.7885814036548633"
      ]
     },
     "execution_count": 16,
     "metadata": {},
     "output_type": "execute_result"
    }
   ],
   "source": [
    "np.std(height_data)"
   ]
  },
  {
   "cell_type": "code",
   "execution_count": null,
   "id": "9d997c26-85bb-403c-8499-bb8fd9de8353",
   "metadata": {},
   "outputs": [],
   "source": []
  },
  {
   "cell_type": "markdown",
   "id": "8ef14900-0ae7-4025-8332-849ca59d4caa",
   "metadata": {},
   "source": [
    "Q5. How are measures of dispersion such as range, variance, and standard deviation used to describe \n",
    "the spread of a dataset? Provide an example"
   ]
  },
  {
   "cell_type": "markdown",
   "id": "65656bb1-71a0-4602-b252-f8f226b963ef",
   "metadata": {},
   "source": [
    "Range: Given a data set, the range can be defined as the difference between the maximum value and the minimum value.\n",
    "\n",
    "\n",
    "Variance: The average squared deviation from the mean of the given data set is known as the variance. This measure of dispersion checks the spread of the data about the mean.\n",
    "\n",
    "\n",
    "Standard Deviation: The square root of the variance gives the standard deviation. Thus, the standard deviation also measures the variation of the data about the mean."
   ]
  },
  {
   "cell_type": "code",
   "execution_count": 3,
   "id": "841d96f8-cc35-476c-8c00-133ccff0dc0c",
   "metadata": {},
   "outputs": [],
   "source": [
    "import numpy as np"
   ]
  },
  {
   "cell_type": "code",
   "execution_count": 4,
   "id": "970f043f-c8de-4b3a-a4e1-5f25fd3da9d0",
   "metadata": {},
   "outputs": [],
   "source": [
    "height_data=[178,177,176,177,178.2,178,175,179,180,175,178.9,176.2,177,172.5,178,176.5]"
   ]
  },
  {
   "cell_type": "code",
   "execution_count": 5,
   "id": "5227ebf9-7dd0-4883-a143-4d6b3caead8c",
   "metadata": {},
   "outputs": [
    {
     "data": {
      "text/plain": [
       "3.199023437500001"
      ]
     },
     "execution_count": 5,
     "metadata": {},
     "output_type": "execute_result"
    }
   ],
   "source": [
    "np.var(height_data)"
   ]
  },
  {
   "cell_type": "code",
   "execution_count": 6,
   "id": "69b74411-a5fd-4259-98a7-01f70911918d",
   "metadata": {},
   "outputs": [
    {
     "data": {
      "text/plain": [
       "1.7885814036548633"
      ]
     },
     "execution_count": 6,
     "metadata": {},
     "output_type": "execute_result"
    }
   ],
   "source": [
    "np.std(height_data)"
   ]
  },
  {
   "cell_type": "code",
   "execution_count": null,
   "id": "b47bc2e4-6e85-4bd4-84a0-0e819465426a",
   "metadata": {},
   "outputs": [],
   "source": []
  },
  {
   "cell_type": "markdown",
   "id": "e7958185-6f7b-4026-afbd-1cdb39059c6a",
   "metadata": {},
   "source": [
    "Q6. What is a Venn diagram?"
   ]
  },
  {
   "cell_type": "markdown",
   "id": "a5f5ab90-76ab-4d4a-a432-892be00c5f4e",
   "metadata": {},
   "source": [
    "A Venn diagram is used to visually represent the differences and the similarities between two concepts. Venn diagrams are also called logic or set diagrams and are widely used in set theory, logic, mathematics, businesses, teaching, computer science, and statistics."
   ]
  },
  {
   "cell_type": "code",
   "execution_count": null,
   "id": "e1bc671e-a53e-4ba8-a5e9-271148df7cb5",
   "metadata": {},
   "outputs": [],
   "source": []
  },
  {
   "cell_type": "markdown",
   "id": "0f49cf04-6354-4c36-a111-15c086d057f7",
   "metadata": {},
   "source": [
    "Q7. For the two given sets A = (2,3,4,5,6,7) & B = (0,2,6,8,10). Find:\n",
    "\n",
    "(i) \tA B\n",
    "\n",
    "(ii)\tA ⋃ B"
   ]
  },
  {
   "cell_type": "markdown",
   "id": "e02dd846-d783-4f2a-98c7-3a6861264bda",
   "metadata": {},
   "source": [
    "(1) A INTERSECTION B = (2,6)\n",
    "\n",
    "(2) A UNION B = (0,2,3,4,5,6,7,8,10)"
   ]
  },
  {
   "cell_type": "code",
   "execution_count": null,
   "id": "a62a3a5a-cda4-4a29-8376-d4357eeee279",
   "metadata": {},
   "outputs": [],
   "source": []
  },
  {
   "cell_type": "markdown",
   "id": "143131d3-84d7-4c51-8974-2c45048b907b",
   "metadata": {},
   "source": [
    "Q8. What do you understand about skewness in data ?"
   ]
  },
  {
   "cell_type": "markdown",
   "id": "f6c6004d-e031-4f8f-adcc-60d529407e09",
   "metadata": {},
   "source": [
    "Skewness is a measure of the asymmetry of a distribution. A distribution is asymmetrical when its left and right side are not mirror images.\n",
    "\n",
    "A distribution can have right (or positive), left (or negative), or zero skewness. A right-skewed distribution is longer on the right side of its peak, and a left-skewed distribution is longer on the left side of its peak."
   ]
  },
  {
   "cell_type": "code",
   "execution_count": null,
   "id": "74d7750d-25ff-41f1-9079-7e610dcf598a",
   "metadata": {},
   "outputs": [],
   "source": []
  },
  {
   "cell_type": "markdown",
   "id": "446147c6-f532-40a8-b6d2-d98b431e8e7c",
   "metadata": {},
   "source": [
    "Q9. If a data is right skewed then what will be the position of median with respect to mean?"
   ]
  },
  {
   "cell_type": "markdown",
   "id": "15c6334f-ddf6-4efc-94b2-bae30f9ca0ab",
   "metadata": {
    "tags": []
   },
   "source": [
    "If data is right skewed then its is called \"log normal distribution\".\n",
    "\n",
    "MEAN > MEDIAN > MODE\n"
   ]
  },
  {
   "cell_type": "code",
   "execution_count": null,
   "id": "0178af02-5e9a-4953-b909-7ea1b308e6c4",
   "metadata": {},
   "outputs": [],
   "source": []
  },
  {
   "cell_type": "markdown",
   "id": "630829c2-4cb0-4033-9f83-bf59ec94424c",
   "metadata": {},
   "source": [
    "Q10. Explain the difference between covariance and correlation. How are these measures used in \n",
    "statistical analysis"
   ]
  },
  {
   "cell_type": "markdown",
   "id": "3d13af59-33db-4218-84c3-53ff43cc7806",
   "metadata": {},
   "source": [
    "COVARIANCE :-Covariance is a measure of how much two random variables vary together.\t\n",
    "\n",
    "CORRELATION :-Correlation is a statistical measure that indicates how strongly two variables are related.\n",
    "\n",
    "COVARIANCE :-involve the relationship between two variables or data sets\t\n",
    "\n",
    "CORRELATION :-involve the relationship between multiple variables as well\n",
    "\n",
    "COVARIANCE :-Lie between -infinity and +infinity\n",
    "\n",
    "CORRELATION :-Lie between -1 and +1\n",
    "\n",
    "COVARIANCE :-Measure of correlation\n",
    "\n",
    "CORRELATION :-Scaled version of covariance\n",
    "\n",
    "COVARIANCE :-provide direction of relationship\t\n",
    "\n",
    "CORRELATION :-provide direction and strength of relationship\n",
    "\n",
    "COVARIANCE :-dependent on scale of variable\t\n",
    "\n",
    "CORRELATION :-independent on scale of variable\n",
    "\n",
    "COVARIANCE :-have dimensions\n",
    "\n",
    "CORRELATION :-dimensionless"
   ]
  },
  {
   "cell_type": "code",
   "execution_count": 7,
   "id": "ffac5b9d-e39c-4028-bdfa-4541cbe0f6a1",
   "metadata": {},
   "outputs": [],
   "source": [
    "import seaborn as sns"
   ]
  },
  {
   "cell_type": "code",
   "execution_count": 9,
   "id": "791de859-4f27-4116-87c3-5630e7a0d958",
   "metadata": {},
   "outputs": [],
   "source": [
    "df=sns.load_dataset(\"tips\")"
   ]
  },
  {
   "cell_type": "code",
   "execution_count": 10,
   "id": "82e08e87-2ea6-41b4-8e9d-d88559516f6e",
   "metadata": {},
   "outputs": [
    {
     "data": {
      "text/html": [
       "<div>\n",
       "<style scoped>\n",
       "    .dataframe tbody tr th:only-of-type {\n",
       "        vertical-align: middle;\n",
       "    }\n",
       "\n",
       "    .dataframe tbody tr th {\n",
       "        vertical-align: top;\n",
       "    }\n",
       "\n",
       "    .dataframe thead th {\n",
       "        text-align: right;\n",
       "    }\n",
       "</style>\n",
       "<table border=\"1\" class=\"dataframe\">\n",
       "  <thead>\n",
       "    <tr style=\"text-align: right;\">\n",
       "      <th></th>\n",
       "      <th>total_bill</th>\n",
       "      <th>tip</th>\n",
       "      <th>sex</th>\n",
       "      <th>smoker</th>\n",
       "      <th>day</th>\n",
       "      <th>time</th>\n",
       "      <th>size</th>\n",
       "    </tr>\n",
       "  </thead>\n",
       "  <tbody>\n",
       "    <tr>\n",
       "      <th>0</th>\n",
       "      <td>16.99</td>\n",
       "      <td>1.01</td>\n",
       "      <td>Female</td>\n",
       "      <td>No</td>\n",
       "      <td>Sun</td>\n",
       "      <td>Dinner</td>\n",
       "      <td>2</td>\n",
       "    </tr>\n",
       "    <tr>\n",
       "      <th>1</th>\n",
       "      <td>10.34</td>\n",
       "      <td>1.66</td>\n",
       "      <td>Male</td>\n",
       "      <td>No</td>\n",
       "      <td>Sun</td>\n",
       "      <td>Dinner</td>\n",
       "      <td>3</td>\n",
       "    </tr>\n",
       "    <tr>\n",
       "      <th>2</th>\n",
       "      <td>21.01</td>\n",
       "      <td>3.50</td>\n",
       "      <td>Male</td>\n",
       "      <td>No</td>\n",
       "      <td>Sun</td>\n",
       "      <td>Dinner</td>\n",
       "      <td>3</td>\n",
       "    </tr>\n",
       "    <tr>\n",
       "      <th>3</th>\n",
       "      <td>23.68</td>\n",
       "      <td>3.31</td>\n",
       "      <td>Male</td>\n",
       "      <td>No</td>\n",
       "      <td>Sun</td>\n",
       "      <td>Dinner</td>\n",
       "      <td>2</td>\n",
       "    </tr>\n",
       "    <tr>\n",
       "      <th>4</th>\n",
       "      <td>24.59</td>\n",
       "      <td>3.61</td>\n",
       "      <td>Female</td>\n",
       "      <td>No</td>\n",
       "      <td>Sun</td>\n",
       "      <td>Dinner</td>\n",
       "      <td>4</td>\n",
       "    </tr>\n",
       "  </tbody>\n",
       "</table>\n",
       "</div>"
      ],
      "text/plain": [
       "   total_bill   tip     sex smoker  day    time  size\n",
       "0       16.99  1.01  Female     No  Sun  Dinner     2\n",
       "1       10.34  1.66    Male     No  Sun  Dinner     3\n",
       "2       21.01  3.50    Male     No  Sun  Dinner     3\n",
       "3       23.68  3.31    Male     No  Sun  Dinner     2\n",
       "4       24.59  3.61  Female     No  Sun  Dinner     4"
      ]
     },
     "execution_count": 10,
     "metadata": {},
     "output_type": "execute_result"
    }
   ],
   "source": [
    "df.head()"
   ]
  },
  {
   "cell_type": "code",
   "execution_count": 11,
   "id": "1f56deff-22bd-40a0-a5d7-d2f101148824",
   "metadata": {},
   "outputs": [
    {
     "name": "stderr",
     "output_type": "stream",
     "text": [
      "/tmp/ipykernel_690/1545644723.py:1: FutureWarning: The default value of numeric_only in DataFrame.cov is deprecated. In a future version, it will default to False. Select only valid columns or specify the value of numeric_only to silence this warning.\n",
      "  df.cov()\n"
     ]
    },
    {
     "data": {
      "text/html": [
       "<div>\n",
       "<style scoped>\n",
       "    .dataframe tbody tr th:only-of-type {\n",
       "        vertical-align: middle;\n",
       "    }\n",
       "\n",
       "    .dataframe tbody tr th {\n",
       "        vertical-align: top;\n",
       "    }\n",
       "\n",
       "    .dataframe thead th {\n",
       "        text-align: right;\n",
       "    }\n",
       "</style>\n",
       "<table border=\"1\" class=\"dataframe\">\n",
       "  <thead>\n",
       "    <tr style=\"text-align: right;\">\n",
       "      <th></th>\n",
       "      <th>total_bill</th>\n",
       "      <th>tip</th>\n",
       "      <th>size</th>\n",
       "    </tr>\n",
       "  </thead>\n",
       "  <tbody>\n",
       "    <tr>\n",
       "      <th>total_bill</th>\n",
       "      <td>79.252939</td>\n",
       "      <td>8.323502</td>\n",
       "      <td>5.065983</td>\n",
       "    </tr>\n",
       "    <tr>\n",
       "      <th>tip</th>\n",
       "      <td>8.323502</td>\n",
       "      <td>1.914455</td>\n",
       "      <td>0.643906</td>\n",
       "    </tr>\n",
       "    <tr>\n",
       "      <th>size</th>\n",
       "      <td>5.065983</td>\n",
       "      <td>0.643906</td>\n",
       "      <td>0.904591</td>\n",
       "    </tr>\n",
       "  </tbody>\n",
       "</table>\n",
       "</div>"
      ],
      "text/plain": [
       "            total_bill       tip      size\n",
       "total_bill   79.252939  8.323502  5.065983\n",
       "tip           8.323502  1.914455  0.643906\n",
       "size          5.065983  0.643906  0.904591"
      ]
     },
     "execution_count": 11,
     "metadata": {},
     "output_type": "execute_result"
    }
   ],
   "source": [
    "df.cov()"
   ]
  },
  {
   "cell_type": "markdown",
   "id": "c3513227-c024-4cb1-ad6b-0db7f19aa654",
   "metadata": {},
   "source": [
    "df.corr()"
   ]
  },
  {
   "cell_type": "code",
   "execution_count": null,
   "id": "b714c5cc-810f-42cf-a9d1-e412bc0b5ace",
   "metadata": {},
   "outputs": [],
   "source": []
  },
  {
   "cell_type": "markdown",
   "id": "a3942b55-c76b-4c6d-acf8-fb24e012a0c4",
   "metadata": {},
   "source": [
    "Q11. What is the formula for calculating the sample mean? Provide an example calculation for a \n",
    "dataset"
   ]
  },
  {
   "cell_type": "markdown",
   "id": "f1548019-fc40-4e53-b14b-884f4e07041d",
   "metadata": {},
   "source": [
    "x̄ = ( Σ xi ) / n"
   ]
  },
  {
   "cell_type": "code",
   "execution_count": 14,
   "id": "a0dd0697-cf81-47cb-8913-76a55cb14185",
   "metadata": {},
   "outputs": [],
   "source": [
    "mean=[1,2,4,5,6,7,8]"
   ]
  },
  {
   "cell_type": "code",
   "execution_count": 16,
   "id": "27a87a2e-f8f8-4a3a-b9c3-9679ac680352",
   "metadata": {},
   "outputs": [],
   "source": [
    "l=1+2+3+4+5+6+7+8"
   ]
  },
  {
   "cell_type": "code",
   "execution_count": 18,
   "id": "184ce4a5-f00e-4c66-b687-0e48bb17cd5f",
   "metadata": {},
   "outputs": [
    {
     "data": {
      "text/plain": [
       "5"
      ]
     },
     "execution_count": 18,
     "metadata": {},
     "output_type": "execute_result"
    }
   ],
   "source": [
    "l//7"
   ]
  },
  {
   "cell_type": "code",
   "execution_count": null,
   "id": "fc416bed-bec4-4d2a-b319-8dd5e997b434",
   "metadata": {},
   "outputs": [],
   "source": []
  },
  {
   "cell_type": "markdown",
   "id": "71160e0a-7167-4661-a1a5-01bed0fd44ba",
   "metadata": {},
   "source": [
    "Q12. For a normal distribution data what is the relationship between its measure of central tendency?"
   ]
  },
  {
   "cell_type": "markdown",
   "id": "a018e5b8-aaf4-4062-a41e-3b81dbbefa6d",
   "metadata": {},
   "source": [
    "In a normal distribution, data is symmetrically distributed with no skew. Most values cluster around a central region, with values tapering off as they go further away from the center. The mean, mode and median are exactly the same in a normal distribution."
   ]
  },
  {
   "cell_type": "code",
   "execution_count": null,
   "id": "232745fa-5b93-4d3a-8e76-d79d15df6eb9",
   "metadata": {},
   "outputs": [],
   "source": []
  },
  {
   "cell_type": "markdown",
   "id": "2d249710-b8e2-4655-aa26-e24160a75320",
   "metadata": {},
   "source": [
    "Q13. How is covariance different from correlation?"
   ]
  },
  {
   "cell_type": "markdown",
   "id": "3b247c92-ed13-42f7-8f32-6f336b11af5f",
   "metadata": {},
   "source": [
    "COVARIANCE :-Covariance is a measure of how much two random variables vary together.\n",
    "\n",
    "CORRELATION :-Correlation is a statistical measure that indicates how strongly two variables are related.\n",
    "\n",
    "COVARIANCE :-involve the relationship between two variables or data sets\n",
    "\n",
    "CORRELATION :-involve the relationship between multiple variables as well\n",
    "\n",
    "COVARIANCE :-Lie between -infinity and +infinity\n",
    "\n",
    "CORRELATION :-Lie between -1 and +1\n",
    "\n",
    "COVARIANCE :-Measure of correlation\n",
    "\n",
    "CORRELATION :-Scaled version of covariance\n",
    "\n",
    "COVARIANCE :-provide direction of relationship\n",
    "\n",
    "CORRELATION :-provide direction and strength of relationship\n",
    "\n",
    "COVARIANCE :-dependent on scale of variable\n",
    "\n",
    "CORRELATION :-independent on scale of variable\n",
    "\n",
    "COVARIANCE :-have dimensions\n",
    "\n",
    "CORRELATION :-dimensionles"
   ]
  },
  {
   "cell_type": "code",
   "execution_count": null,
   "id": "35723ea6-ee5e-4188-b46a-8017b31b62eb",
   "metadata": {},
   "outputs": [],
   "source": []
  },
  {
   "cell_type": "markdown",
   "id": "2c47817a-8808-42e1-9769-c4255df895c4",
   "metadata": {},
   "source": [
    "Q14. How do outliers affect measures of central tendency and dispersion? Provide an example"
   ]
  },
  {
   "cell_type": "markdown",
   "id": "feabf8b3-c175-4b6b-9454-db0ffbcb1e99",
   "metadata": {},
   "source": [
    "When a outlier is present it can effect the shape of the graph, if we have outliers to the right of the graph. These outliers are causing the mean to increase, but if we have outliers to the left of the graph these outliers are dragging down the mean. This causes a conflict because the mean no longer provides a good representation of the data, alternatively we would much rather use the median. The median on the other hand is less likely to be affect by outliers"
   ]
  },
  {
   "cell_type": "markdown",
   "id": "0e77a347-2d0d-41ad-a23f-798dc66c2b51",
   "metadata": {},
   "source": [
    "Outliers increase the variability in your data, which decreases statistical power. Consequently, excluding outliers can cause your results to become statistically significant."
   ]
  },
  {
   "cell_type": "code",
   "execution_count": null,
   "id": "83a929e9-c453-4fae-914f-c3ded3e180e0",
   "metadata": {},
   "outputs": [],
   "source": []
  },
  {
   "cell_type": "code",
   "execution_count": 28,
   "id": "6cce0791-9c62-4342-a206-ed76cfe25a61",
   "metadata": {},
   "outputs": [],
   "source": [
    "import seaborn as sns"
   ]
  },
  {
   "cell_type": "code",
   "execution_count": 31,
   "id": "cf186b02-0e26-4a81-9ed5-b4a3e25eaa83",
   "metadata": {},
   "outputs": [],
   "source": [
    "list=[11,32,14,35,26,500]"
   ]
  },
  {
   "cell_type": "code",
   "execution_count": 32,
   "id": "93f3b61a-e422-4a54-924a-f832bc57bfcc",
   "metadata": {},
   "outputs": [
    {
     "data": {
      "text/plain": [
       "<AxesSubplot: >"
      ]
     },
     "execution_count": 32,
     "metadata": {},
     "output_type": "execute_result"
    },
    {
     "data": {
      "image/png": "[encoded data removed]",
      "text/plain": [
       "<Figure size 640x480 with 1 Axes>"
      ]
     },
     "metadata": {},
     "output_type": "display_data"
    }
   ],
   "source": [
    "sns.scatterplot(list)"
   ]
  },
  {
   "cell_type": "code",
   "execution_count": null,
   "id": "2fbf0f85-bd82-4d6a-84bd-d003d0fe561b",
   "metadata": {},
   "outputs": [],
   "source": []
  },
  {
   "cell_type": "code",
   "execution_count": null,
   "id": "78359565-3484-4f94-b9c7-ad7d2fb4a448",
   "metadata": {},
   "outputs": [],
   "source": []
  }
 ],
 "metadata": {
  "kernelspec": {
   "display_name": "Python 3 (ipykernel)",
   "language": "python",
   "name": "python3"
  },
  "language_info": {
   "codemirror_mode": {
    "name": "ipython",
    "version": 3
   },
   "file_extension": ".py",
   "mimetype": "text/x-python",
   "name": "python",
   "nbconvert_exporter": "python",
   "pygments_lexer": "ipython3",
   "version": "3.10.8"
  }
 },
 "nbformat": 4,
 "nbformat_minor": 5
}
