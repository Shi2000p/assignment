{
 "cells": [
  {
   "cell_type": "code",
   "execution_count": 1,
   "id": "6a30a98e-eb3d-48cc-911c-1075f3a8c5c9",
   "metadata": {},
   "outputs": [],
   "source": [
    "                                #feb10 assignment"
   ]
  },
  {
   "cell_type": "code",
   "execution_count": 3,
   "id": "950dd72c-6da1-4aab-8902-251ed144da0f",
   "metadata": {},
   "outputs": [],
   "source": [
    "#Q1. Which function is used to open a file? What are the different modes of opening a file? Explain each modeof file opening."
   ]
  },
  {
   "cell_type": "code",
   "execution_count": 5,
   "id": "27baca58-b081-40f0-98f4-0d8d00153ca1",
   "metadata": {},
   "outputs": [],
   "source": [
    "#The fopen () method in C is a library function that is used to open a file to perform various operations which include reading, writing etc. along with various modes. \n",
    "#If the file exists then the particular file is opened else a new file is created.\n",
    "\n",
    "#mode of opening a file.\n",
    "   #Read Only (‘r’): Open text file for reading.\n",
    "   #Write Only (‘w’): Open the file for writing.\n",
    "   #Append Only (‘a’): Open the file for writing. The file is created if it does not exist.\n",
    "        #The handle is positioned at the end of the file. The data being written will be inserted at the end, after the existing data.\n",
    "   #Read Only in Binary format(‘rb’)\n",
    "   #Read and Write in Binary Format(‘rb+’)\n",
    "   #Write Only in Binary Format(‘wb’)\n",
    "   #Write and Read in Binary Format(‘wb+’)\n",
    "   #Append and Read in Binary Format(‘ab+’)\n",
    "\n",
    "    "
   ]
  },
  {
   "cell_type": "code",
   "execution_count": null,
   "id": "d0c33847-3e55-4bc2-bb61-fded329e02fa",
   "metadata": {},
   "outputs": [],
   "source": [
    "#explaination of each mode of file."
   ]
  },
  {
   "cell_type": "code",
   "execution_count": 7,
   "id": "15a2d142-1c7a-4ac2-8e82-5b6ad1b4971b",
   "metadata": {},
   "outputs": [],
   "source": []
  },
  {
   "cell_type": "code",
   "execution_count": 10,
   "id": "3cfc147e-372e-49f9-8e6b-f10dd447c313",
   "metadata": {},
   "outputs": [],
   "source": [
    "f=open(\"file.txt\" , \"w\")"
   ]
  },
  {
   "cell_type": "code",
   "execution_count": 11,
   "id": "32c895d3-a62d-49af-96af-b9fcc9902c78",
   "metadata": {},
   "outputs": [
    {
     "data": {
      "text/plain": [
       "15"
      ]
     },
     "execution_count": 11,
     "metadata": {},
     "output_type": "execute_result"
    }
   ],
   "source": [
    "f.write(\"this is my file\")"
   ]
  },
  {
   "cell_type": "code",
   "execution_count": 14,
   "id": "deb3f4c5-db23-457b-b1d2-32f50cd8591a",
   "metadata": {},
   "outputs": [],
   "source": [
    "f=open(\"file.txt\" , \"a\")"
   ]
  },
  {
   "cell_type": "code",
   "execution_count": 16,
   "id": "273fcb14-2310-428a-a7fa-0a60d96213d5",
   "metadata": {},
   "outputs": [
    {
     "data": {
      "text/plain": [
       "25"
      ]
     },
     "execution_count": 16,
     "metadata": {},
     "output_type": "execute_result"
    }
   ],
   "source": [
    "f.write(\"open the file for writing\")"
   ]
  },
  {
   "cell_type": "code",
   "execution_count": 17,
   "id": "ca25e228-2c6f-4abf-9e66-5a7d0f5fd664",
   "metadata": {},
   "outputs": [],
   "source": [
    "f.close()"
   ]
  },
  {
   "cell_type": "code",
   "execution_count": 18,
   "id": "870cdb73-a898-4df3-a34a-54a0d83edb57",
   "metadata": {},
   "outputs": [],
   "source": [
    "f=open(\"file.txt\" , \"r\")"
   ]
  },
  {
   "cell_type": "code",
   "execution_count": 19,
   "id": "4445fb93-9c20-4b0d-b502-e20164f404da",
   "metadata": {},
   "outputs": [
    {
     "data": {
      "text/plain": [
       "'this is my filethis is my fileopen the file for writing'"
      ]
     },
     "execution_count": 19,
     "metadata": {},
     "output_type": "execute_result"
    }
   ],
   "source": [
    "f.read()"
   ]
  },
  {
   "cell_type": "code",
   "execution_count": 22,
   "id": "a0c531f7-7964-4e77-a136-2fc0b9b321d5",
   "metadata": {},
   "outputs": [],
   "source": [
    "with open (\"file1.txt\" , \"wb\") as f:\n",
    "    f.write(b\"\\x01\\x02\\x03\\x2345678\")"
   ]
  },
  {
   "cell_type": "code",
   "execution_count": 23,
   "id": "d5b124d2-853a-4fea-bd48-021a5d067905",
   "metadata": {},
   "outputs": [
    {
     "name": "stdout",
     "output_type": "stream",
     "text": [
      "b'\\x01\\x02\\x03#45678'\n"
     ]
    }
   ],
   "source": [
    "with open (\"file1.txt\" , \"rb\") as f:\n",
    "    print(f.read())\n",
    "    "
   ]
  },
  {
   "cell_type": "code",
   "execution_count": null,
   "id": "9b37f433-60b8-4e78-996d-1a2ef08b4737",
   "metadata": {},
   "outputs": [],
   "source": []
  },
  {
   "cell_type": "code",
   "execution_count": 24,
   "id": "51d20e55-5927-4a46-aafd-a3187497f09e",
   "metadata": {},
   "outputs": [],
   "source": [
    "#Q2. Why close() function is used? Why is it important to close a file?"
   ]
  },
  {
   "cell_type": "code",
   "execution_count": null,
   "id": "acf289f9-245e-4d26-b57e-172c9b880bc7",
   "metadata": {},
   "outputs": [],
   "source": [
    "1.The close () function closes the connection between the program and an open file identified by a handle.\n",
    "2.The close() method of a file object flushes any unwritten information and closes the file object, after which no more writing can be done."
   ]
  },
  {
   "cell_type": "code",
   "execution_count": null,
   "id": "dff27a1c-ad56-47a2-86fe-bd02ac0a6c75",
   "metadata": {},
   "outputs": [],
   "source": [
    "#Q3. Write a python program to create a text file. Write ‘I want to become a Data Scientist’ in that file. Then\n",
    "#close the file. Open this file and read the content of the file."
   ]
  },
  {
   "cell_type": "code",
   "execution_count": 25,
   "id": "059aeac7-c6d8-4581-b405-8e55ab100981",
   "metadata": {},
   "outputs": [],
   "source": [
    "file =open(\"file2.txt\" , \"w\")"
   ]
  },
  {
   "cell_type": "code",
   "execution_count": 26,
   "id": "8ec50c57-0b27-4c69-90bd-31fde863f5a3",
   "metadata": {},
   "outputs": [
    {
     "data": {
      "text/plain": [
       "33"
      ]
     },
     "execution_count": 26,
     "metadata": {},
     "output_type": "execute_result"
    }
   ],
   "source": [
    "file.write('I want to become a Data Scientist')"
   ]
  },
  {
   "cell_type": "code",
   "execution_count": 27,
   "id": "26e9a313-7e5d-4082-8d70-f3eda92704c8",
   "metadata": {},
   "outputs": [],
   "source": [
    "file.close()"
   ]
  },
  {
   "cell_type": "code",
   "execution_count": 28,
   "id": "24e5d78c-796d-4729-99b9-df643d8baf49",
   "metadata": {},
   "outputs": [],
   "source": [
    "file =open(\"file2.txt\" , \"r\")"
   ]
  },
  {
   "cell_type": "code",
   "execution_count": 29,
   "id": "5e7a75e2-2e89-4ef3-9be6-a08cefbdc413",
   "metadata": {},
   "outputs": [
    {
     "data": {
      "text/plain": [
       "'I want to become a Data Scientist'"
      ]
     },
     "execution_count": 29,
     "metadata": {},
     "output_type": "execute_result"
    }
   ],
   "source": [
    "file.read()"
   ]
  },
  {
   "cell_type": "code",
   "execution_count": null,
   "id": "ec26d415-a7f4-4918-966b-44a57f571430",
   "metadata": {},
   "outputs": [],
   "source": []
  },
  {
   "cell_type": "code",
   "execution_count": null,
   "id": "b3843c26-d6e5-428a-9e2a-659dda149b7b",
   "metadata": {},
   "outputs": [],
   "source": [
    "Q4. Explain the following with python code: read(), readline() and readlines()."
   ]
  },
  {
   "cell_type": "code",
   "execution_count": 44,
   "id": "de8eaed8-1c5f-4428-8c04-61ba00958e6f",
   "metadata": {},
   "outputs": [],
   "source": [
    "file =open(\"file2.txt\" , \"r\")\n"
   ]
  },
  {
   "cell_type": "code",
   "execution_count": 45,
   "id": "b68554ed-cc3f-4d42-88fe-3a84de4501bb",
   "metadata": {},
   "outputs": [
    {
     "data": {
      "text/plain": [
       "'I want to become a Data Scientist'"
      ]
     },
     "execution_count": 45,
     "metadata": {},
     "output_type": "execute_result"
    }
   ],
   "source": [
    "file.read()"
   ]
  },
  {
   "cell_type": "code",
   "execution_count": 30,
   "id": "5d255326-119e-42db-9840-25de9f0cc8cf",
   "metadata": {},
   "outputs": [
    {
     "data": {
      "text/plain": [
       "''"
      ]
     },
     "execution_count": 30,
     "metadata": {},
     "output_type": "execute_result"
    }
   ],
   "source": [
    "file.readline()"
   ]
  },
  {
   "cell_type": "code",
   "execution_count": 38,
   "id": "87506ad6-27b4-42df-8e02-ef2193aec640",
   "metadata": {},
   "outputs": [
    {
     "data": {
      "text/plain": [
       "0"
      ]
     },
     "execution_count": 38,
     "metadata": {},
     "output_type": "execute_result"
    }
   ],
   "source": [
    "file.seek(0)"
   ]
  },
  {
   "cell_type": "code",
   "execution_count": 39,
   "id": "6f09c505-3802-45b9-997a-7dfd510792fe",
   "metadata": {},
   "outputs": [
    {
     "data": {
      "text/plain": [
       "'I want to become a Data Scientist'"
      ]
     },
     "execution_count": 39,
     "metadata": {},
     "output_type": "execute_result"
    }
   ],
   "source": [
    "file.readline()"
   ]
  },
  {
   "cell_type": "code",
   "execution_count": 40,
   "id": "90c77d8f-33e1-4e64-a31d-58157da2b8cd",
   "metadata": {},
   "outputs": [
    {
     "name": "stdout",
     "output_type": "stream",
     "text": [
      "['I want to become a Data Scientist']\n"
     ]
    }
   ],
   "source": [
    "file =open(\"file2.txt\" , \"r\")\n",
    "print(file.readlines())                        #readlines return input as a list"
   ]
  },
  {
   "cell_type": "code",
   "execution_count": 43,
   "id": "6aa5f0c5-6b5a-46a2-b362-381d546f242d",
   "metadata": {},
   "outputs": [
    {
     "name": "stdout",
     "output_type": "stream",
     "text": [
      "I want to become a Data Scientist\n"
     ]
    }
   ],
   "source": [
    "file =open(\"file2.txt\" , \"r\")\n",
    "print(file.readline())                    "
   ]
  },
  {
   "cell_type": "code",
   "execution_count": 46,
   "id": "cdc951ff-3ed1-4802-a1e0-51094ba3e647",
   "metadata": {},
   "outputs": [],
   "source": [
    "#Q5. Explain why with statement is used with open(). What is the advantage of using with statement and open() together?"
   ]
  },
  {
   "cell_type": "code",
   "execution_count": null,
   "id": "03a0b6d7-198d-4465-b333-a44d0642037d",
   "metadata": {},
   "outputs": [],
   "source": [
    "1.Using with open () context statement makes the code more tidy as we can easily separate between code block by difference in indents. In case of open (), we might miss closing the file instance, this may cause memory leaks and other I/O operation errors.\n",
    "2.Benefits of calling open () using “with statement” Fewer chances of bug due to coding error No need to explicitly close the opened file, “with statement” takes care of that. When with the block ends, it will automatically close the file."
   ]
  },
  {
   "cell_type": "code",
   "execution_count": 47,
   "id": "09be4a2d-5caa-4f11-b268-4f68010ac147",
   "metadata": {},
   "outputs": [],
   "source": [
    "#Q6. Explain the write() and writelines() functions. Give a suitable example."
   ]
  },
  {
   "cell_type": "code",
   "execution_count": 63,
   "id": "0b39ccee-0009-4391-9a7f-31c837b76d32",
   "metadata": {},
   "outputs": [],
   "source": [
    "#1.The write() function will write the content in the file without adding any extra characte\n",
    "\n",
    "f = open(\"name.txt\" , \"w\")"
   ]
  },
  {
   "cell_type": "code",
   "execution_count": 64,
   "id": "0f657783-ea06-443c-a6cc-45aa1d17fc9d",
   "metadata": {},
   "outputs": [
    {
     "data": {
      "text/plain": [
       "22"
      ]
     },
     "execution_count": 64,
     "metadata": {},
     "output_type": "execute_result"
    }
   ],
   "source": [
    "f.write(\"this is write function\")"
   ]
  },
  {
   "cell_type": "code",
   "execution_count": 65,
   "id": "75461e61-d5ec-4c5c-90de-7ad78a86eb65",
   "metadata": {},
   "outputs": [],
   "source": [
    "f.close()"
   ]
  },
  {
   "cell_type": "code",
   "execution_count": 67,
   "id": "7d419492-6e0b-444d-99c7-e815612f35d3",
   "metadata": {},
   "outputs": [],
   "source": [
    "f = open(\"name.txt\" , \"r\")"
   ]
  },
  {
   "cell_type": "code",
   "execution_count": 68,
   "id": "f4648f84-0f63-4e8f-a14c-86c8a8a0b1df",
   "metadata": {},
   "outputs": [
    {
     "data": {
      "text/plain": [
       "'this is write function'"
      ]
     },
     "execution_count": 68,
     "metadata": {},
     "output_type": "execute_result"
    }
   ],
   "source": [
    "f.read()"
   ]
  },
  {
   "cell_type": "code",
   "execution_count": 74,
   "id": "2f5a93eb-606c-4373-abbc-dc6be8bf7382",
   "metadata": {},
   "outputs": [],
   "source": [
    "f = open(\"name.txt\" , \"w\")\n",
    "f.writelines([\"this is writelines function\"])\n",
    "\n",
    "f.close()\n",
    "\n",
    "f = open(\"name.txt\" , \"w\")"
   ]
  },
  {
   "cell_type": "code",
   "execution_count": 75,
   "id": "c91368c2-7000-46c6-8179-a7268fb6dfa6",
   "metadata": {},
   "outputs": [
    {
     "ename": "TypeError",
     "evalue": "'builtin_function_or_method' object is not subscriptable",
     "output_type": "error",
     "traceback": [
      "\u001b[0;31m---------------------------------------------------------------------------\u001b[0m",
      "\u001b[0;31mTypeError\u001b[0m                                 Traceback (most recent call last)",
      "Cell \u001b[0;32mIn[75], line 1\u001b[0m\n\u001b[0;32m----> 1\u001b[0m \u001b[43mf\u001b[49m\u001b[38;5;241;43m.\u001b[39;49m\u001b[43mwritelines\u001b[49m\u001b[43m[\u001b[49m\u001b[38;5;124;43m\"\u001b[39;49m\u001b[38;5;124;43mthis is writelines function\u001b[39;49m\u001b[38;5;124;43m\"\u001b[39;49m\u001b[43m]\u001b[49m\n",
      "\u001b[0;31mTypeError\u001b[0m: 'builtin_function_or_method' object is not subscriptable"
     ]
    }
   ],
   "source": [
    "f.writelines[\"this is writelines function\"]"
   ]
  },
  {
   "cell_type": "code",
   "execution_count": 71,
   "id": "2183f2f8-b4c4-4209-91f7-f56d72a01807",
   "metadata": {},
   "outputs": [],
   "source": [
    "f.close()"
   ]
  },
  {
   "cell_type": "code",
   "execution_count": 72,
   "id": "6cd2bdca-297e-4217-9520-830a2c61e101",
   "metadata": {},
   "outputs": [],
   "source": [
    "f = open(\"name.txt\" , \"r\")"
   ]
  },
  {
   "cell_type": "code",
   "execution_count": 73,
   "id": "8dc313ee-8a65-4f16-8aa9-f89ff8dc0a6c",
   "metadata": {},
   "outputs": [
    {
     "data": {
      "text/plain": [
       "'this is writelines function'"
      ]
     },
     "execution_count": 73,
     "metadata": {},
     "output_type": "execute_result"
    }
   ],
   "source": [
    "f.read()"
   ]
  },
  {
   "cell_type": "code",
   "execution_count": null,
   "id": "a72e2ec9-ef4d-414f-8373-84885e3be814",
   "metadata": {},
   "outputs": [],
   "source": []
  }
 ],
 "metadata": {
  "kernelspec": {
   "display_name": "Python 3 (ipykernel)",
   "language": "python",
   "name": "python3"
  },
  "language_info": {
   "codemirror_mode": {
    "name": "ipython",
    "version": 3
   },
   "file_extension": ".py",
   "mimetype": "text/x-python",
   "name": "python",
   "nbconvert_exporter": "python",
   "pygments_lexer": "ipython3",
   "version": "3.10.8"
  }
 },
 "nbformat": 4,
 "nbformat_minor": 5
}
